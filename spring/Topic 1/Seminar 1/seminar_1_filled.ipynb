{
 "cells": [
  {
   "cell_type": "markdown",
   "id": "caf23291-144f-449b-8cf0-fabbe3f8c8ba",
   "metadata": {},
   "source": [
    "# Часть 1: ограничения и защита веб-сайтов"
   ]
  },
  {
   "cell_type": "markdown",
   "id": "1bcf47b5-1f82-4a1a-8624-de05990ccdc7",
   "metadata": {},
   "source": [
    "[Небольшой ликбез](https://developer.mozilla.org/ru/docs/Learn_web_development/Howto/Web_mechanics/What_is_a_domain_name) по структуре доменных имён (посмотрите после семинара)"
   ]
  },
  {
   "cell_type": "markdown",
   "id": "04034d4e-6c97-4990-8c3d-761cbdf35197",
   "metadata": {},
   "source": [
    "## Файл robots.txt "
   ]
  },
  {
   "cell_type": "markdown",
   "id": "07b3d72b-e168-4580-b12b-00cd96e74d56",
   "metadata": {},
   "source": [
    "Файл `robots.txt` — это специальный текстовый файл, который веб-сайты размещают в корневом каталоге (если адрес сайта -`example.com`, то путь до этого файла будет`example.com/robots.txt`). Он содержит инструкции для веб-краулеров (ботов), определяя, какие страницы можно или нельзя сканировать.\n",
    "\n",
    "💡 Основная цель robots.txt:\n",
    "\n",
    "- Контролировать поведение поисковых ботов (Googlebot, Bingbot и др.).\n",
    "- Ограничивать доступ к конфиденциальным или незначимым страницам.\n",
    "- Предотвращать перегрузку сервера большим количеством запросов."
   ]
  },
  {
   "cell_type": "markdown",
   "id": "91c3e8ba-9657-4f3b-934d-54c964a9dc01",
   "metadata": {},
   "source": [
    "Пример содержимого robots.txt:\n",
    "\n",
    "```\n",
    "User-agent: *\n",
    "Disallow: /admin/*\n",
    "Disallow: /login/*\n",
    "Allow: /public/*\n",
    "Sitemap: https://example.com/sitemap.xml\n",
    "```\n",
    "\n",
    "Что к чему:\n",
    "\n",
    "- User-agent: * — правило применимо ко всем ботам (если стоит название конкретного бота - значит к конкретному)\n",
    "- Disallow: /admin/* — запрещает доступ к /admin/ и его подпапкам\n",
    "- Allow: /public/ — разрешает доступ к /public/ и его подпапкам\n",
    "- Sitemap: указывает на `sitemap.xml`, который содержит список страниц.\n",
    "\n",
    "Можете посмотреть на пример robots.txt для hh.ru: [**ссылка**](https://hh.ru/robots.txt)\n",
    "\n",
    "\n",
    "__Что здесь важного для нас?__\n",
    "\n",
    "- `robots.txt` не является чем-то, что юридически обязательно размещать, но соблюдение его условий является этичным\n",
    "- Некоторые сайты могут использовать его для предотвращения скрэппинга --> т.е. наказывать за несоблюдение\n",
    "- Запрет в robots.txt не означает, что страницу нельзя загрузить вручную через браузер — он просто даёт указание ботам\n",
    "- Если указать `User-agent` в заголовке запроса, такой запрос будет симулировать запрос браузера (а не поисковых роботов), поэтому возможные ограничения (блок по IP или правовые проблемы [если речь идет прямо о серьезных масштабах] __скорее всего__ не последуют)\n",
    "\n",
    "__Мораль:__ прикрепляйте  `User-agent` в заголовок запроса при скрэппинге :) \n",
    "\n",
    "Некоторые сайты без этого поля в заголовке запроса не отправят вам запрашиваемую веб-страницу вовсе. Про `robots.txt` подробнее можно почитать [здесь](https://brightdata.com/blog/how-tos/robots-txt-for-web-scraping-guide)\n",
    "\n",
    "---"
   ]
  },
  {
   "cell_type": "markdown",
   "id": "ff04be7f-abfe-4361-92fa-e30dfc599e09",
   "metadata": {},
   "source": [
    "### Что такое `sitemap.xml`"
   ]
  },
  {
   "cell_type": "markdown",
   "id": "a76ee392-e41a-42b6-8815-e4f4c62b7008",
   "metadata": {},
   "source": [
    "Файл `sitemap.xml` (может называться немного по-другому; как правило он указывается в `robots.txt`, так что можно сделать `ctrl+f xml` и скорее всего найти его) содержит список URL, которые сайт рекомендует поисковым системам для индексации.\n",
    "\n",
    "📌 Важно:\n",
    "\n",
    "- В `sitemap.xml` могут быть не все страницы сайта. Т.е. это не полная структура сайта, однако та, которая рекомендуется для скрэппинга поисковым системам\n",
    "- Наличие страницы в `sitemap.xml` не гарантирует, что она появится в поиске.\n",
    "- Поисковые системы могут индексировать и страницы, которых нет в `sitemap.xml`, если они найдены, например, по ссылкам на сайте"
   ]
  },
  {
   "cell_type": "markdown",
   "id": "fa7c3ec6-bbe1-4111-a7b5-28143920f599",
   "metadata": {},
   "source": [
    "__Что здесь важного для нас, людей, которые скрэпят сайт?__\n",
    "\n",
    "\n",
    "- `sitemap.xml` позволяет получить список \\*почти всех\\* доступных страниц (полезно, если мы хотим либо получить полную картину сайта перед какой-то основной задачей, либо в целом автоматизировать его парсинг [что нужно делать в целом аккуратно])\n",
    "- Поскольку адреса всех страниц уже есть на руках, мы немного освобождаемся от лимитов на частоту запросов (может быть полезно, но не всегда)\n",
    "- Некоторые сайты в `sitemap.xml` добавляют метаданные, которые можно использовать для оптимизации парсинга.\n",
    "\n",
    "Пример:\n",
    "\n",
    "```\n",
    "<url>\n",
    "    <loc>https://example.com/article1</loc>\n",
    "    <lastmod>2024-02-10</lastmod>\n",
    "    <changefreq>daily</changefreq>\n",
    "    <priority>0.8</priority>\n",
    "</url>\n",
    "```\n",
    "- lastmod --> когда страница последний раз обновлялась. Можно парсить только свежие страницы.\n",
    "- changefreq --> как часто обновляется контент (например, daily, monthly). Можно оптимизировать частоту запросов.\n",
    "- priority --> приоритетность страницы (например, 1.0 — очень важная, 0.1 — малозначимая)."
   ]
  },
  {
   "cell_type": "markdown",
   "id": "e768c900-18c5-4853-b88b-76bd6feccb44",
   "metadata": {},
   "source": [
    "# Часть 2: достаём данные со статического сайта"
   ]
  },
  {
   "cell_type": "markdown",
   "id": "3510c62a-5fb5-418b-a5a2-16b4a3392ce0",
   "metadata": {},
   "source": [
    "### Теория: HTML"
   ]
  },
  {
   "cell_type": "markdown",
   "id": "ceaca951-8b81-47cc-be1e-865f5bb1eab3",
   "metadata": {},
   "source": [
    "Веб-страница — это документ, написанный на HTML (HyperText Markup Language)\n",
    "\n",
    "Она содержит структурированные элементы, которые браузер интерпретирует и отображает пользователю. Вот пример того, что мы можем видеть при открытии html-кода веб-страницы:\n",
    "\n",
    "\n",
    "```\n",
    "<!DOCTYPE html>\n",
    "<html>\n",
    "<head>\n",
    "    <title>Пример страницы</title>\n",
    "</head>\n",
    "<body>\n",
    "    <h1>Заголовок страницы</h1>\n",
    "    <p class=\"description\">Это абзац текста.</p>\n",
    "    <a href=\"https://example.com\">Ссылка на сайт</a>\n",
    "    <ul>\n",
    "        <li class=\"item\">Элемент 1</li>\n",
    "        <li class=\"item\">Элемент 2</li>\n",
    "    </ul>\n",
    "</body>\n",
    "</html>\n",
    "```\n",
    "\n",
    "- `<!DOCTYPE html>` — объявляет HTML5-документ.\n",
    "- `<html>` — корневой элемент страницы.\n",
    "- `<head>` — содержит метаинформацию и подключение стилей/скриптов.\n",
    "- `<body>` — содержит контент, который видит пользователь.\n",
    "\n",
    "---\n",
    "__Выглядит вот так в браузере:__\n",
    "\n",
    "\n",
    "\n",
    "<!DOCTYPE html>\n",
    "<html>\n",
    "<head>\n",
    "    <title>Пример страницы</title>\n",
    "</head>\n",
    "<body>\n",
    "    <h1>Заголовок страницы</h1>\n",
    "    <p class=\"description\">Это абзац текста.</p>\n",
    "    <a href=\"https://example.com\">Ссылка на сайт</a>\n",
    "    <ul>\n",
    "        <li class=\"item\">Элемент 1</li>\n",
    "        <li class=\"item\">Элемент 2</li>\n",
    "    </ul>\n",
    "</body>\n",
    "</html>\n"
   ]
  },
  {
   "cell_type": "markdown",
   "id": "70a0f9ad-7a32-4934-b15e-5ce41df32e9c",
   "metadata": {},
   "source": [
    "**Основные HTML-теги:**\n",
    "\n",
    "| Тег | Назначение |\n",
    "| --- | --- |\n",
    "| `<h1> - <h6>` | Заголовки разного уровня |\n",
    "| `<p>` | Абзац текста |\n",
    "| `<a>` | Ссылка (`href=\"...\"`) |\n",
    "| `<ul>` / `<ol>` | Список (неупорядоченный / упорядоченный) |\n",
    "| `<li>` | Элемент списка |\n",
    "| `<div>` | Блоковый контейнер |\n",
    "| `<span>` | Строчный контейнер |\n",
    "| `<img>` | Изображение (`src=\"...\"`) |\n",
    "\n",
    "⚡ **Важные атрибуты:**\n",
    "\n",
    "*   `class=\"...\"` — определяет CSS-класс элемента\n",
    "*   `id=\"...\"` — уникальный идентификатор элемента\n",
    "*   `href=\"...\"` — ссылка в `<a>`\n",
    "*   `src=\"...\"` — путь к изображению в `<img>`"
   ]
  },
  {
   "cell_type": "markdown",
   "id": "d8ce3a1e-d4ed-49d3-be2e-a8e4dc84ac55",
   "metadata": {},
   "source": [
    "### Теория: Beautifulsoup"
   ]
  },
  {
   "cell_type": "code",
   "execution_count": 3,
   "id": "66c57af7-f959-45a1-81f9-c6f1e40dafc6",
   "metadata": {},
   "outputs": [
    {
     "name": "stdout",
     "output_type": "stream",
     "text": [
      "<html>\n",
      " <head>\n",
      "  <title>\n",
      "   Пример страницы\n",
      "  </title>\n",
      " </head>\n",
      " <body>\n",
      "  <h1>\n",
      "   Заголовок\n",
      "  </h1>\n",
      "  <p class=\"info\">\n",
      "   Пример абзаца с\n",
      "   <a href=\"https://example.com\">\n",
      "    ссылкой\n",
      "   </a>\n",
      "   .\n",
      "  </p>\n",
      "  <p class=\"info 2\">\n",
      "   Пример абзаца с\n",
      "   <a href=\"https://example.com\">\n",
      "    ссылкой 2\n",
      "   </a>\n",
      "   .\n",
      "  </p>\n",
      " </body>\n",
      "</html>\n",
      "\n"
     ]
    }
   ],
   "source": [
    "from bs4 import BeautifulSoup\n",
    "\n",
    "html_doc = \"\"\"\n",
    "<html>\n",
    "    <head><title>Пример страницы</title></head>\n",
    "    <body>\n",
    "        <h1>Заголовок</h1>\n",
    "        <p class=\"info\">Пример абзаца с <a href=\"https://example.com\">ссылкой</a>.</p>\n",
    "        <p class=\"info 2\">Пример абзаца с <a href=\"https://example.com\">ссылкой 2</a>.</p>\n",
    "    </body>\n",
    "</html>\n",
    "\"\"\"\n",
    "\n",
    "soup = BeautifulSoup(html_doc, \"lxml\")  # html.parser\n",
    "\n",
    "print(soup.prettify())  # Выводит HTML с красивым форматированием"
   ]
  },
  {
   "cell_type": "markdown",
   "id": "9a52a15b-f1c1-44bb-9b2e-2185182c01df",
   "metadata": {},
   "source": [
    "Основной принцип работы с BeautiflSoup состоит в следующем:\n",
    "- Найти нужный нам элемент (например, через веб-интерфейс) и понять, где в структуре html-страницы он лежит\n",
    "- Добраться до него (через `find` или `find_all`)\n",
    "- Извлечь нужную нам информацию (например, через html-атрибуты ИЛИ через теги)"
   ]
  },
  {
   "cell_type": "markdown",
   "id": "68ae1638-f903-4316-9e30-1fa490e3eaf3",
   "metadata": {},
   "source": [
    "__Основные методы поиска элементов__\n",
    "\n",
    "\n",
    "- `.find(\"tag\")`\tНаходит первый элемент с указанным тегом\n",
    "- `.find_all(\"tag\")`\tНаходит все элементы с указанным тегом\n",
    "- `.select(\"CSS селектор\")`\tНаходит элементы по CSS-селектору\n",
    "\n",
    "\n",
    "__Примеры:__"
   ]
  },
  {
   "cell_type": "code",
   "execution_count": 4,
   "id": "18a52287-49ce-4060-a939-7f70b24f4031",
   "metadata": {},
   "outputs": [
    {
     "name": "stdout",
     "output_type": "stream",
     "text": [
      "Заголовок\n",
      "[<p class=\"info\">Пример абзаца с <a href=\"https://example.com\">ссылкой</a>.</p>, <p class=\"info 2\">Пример абзаца с <a href=\"https://example.com\">ссылкой 2</a>.</p>]\n",
      "[<p class=\"info\">Пример абзаца с <a href=\"https://example.com\">ссылкой</a>.</p>, <p class=\"info 2\">Пример абзаца с <a href=\"https://example.com\">ссылкой 2</a>.</p>]\n"
     ]
    }
   ],
   "source": [
    "# Найти первый <h1>\n",
    "h1 = soup.find(\"h1\")\n",
    "print(h1.text)  # ➝ \"Заголовок\"\n",
    "\n",
    "# Найти все <p>\n",
    "all_p = soup.find_all(\"p\")\n",
    "print(all_p)  # ➝ [<p class=\"info\">...</p>]\n",
    "\n",
    "# Найти элемент по CSS-селектору\n",
    "css_select = soup.select(\".info\")\n",
    "print(css_select)  # ➝ [<p class=\"info\">...</p>]"
   ]
  },
  {
   "cell_type": "code",
   "execution_count": 8,
   "id": "ff22f1cc-df41-49c7-aa9c-b9549f27c2e3",
   "metadata": {},
   "outputs": [
    {
     "name": "stdout",
     "output_type": "stream",
     "text": [
      "<a href=\"https://example.com\">ссылкой</a>\n",
      "ссылкой\n"
     ]
    }
   ],
   "source": [
    "# Достать отдельно тег <a> из первого тега <p>\n",
    "print(all_p[0].find(\"a\"))\n",
    "# Достать текст тег <a> из первого тега <p>\n",
    "print(all_p[0].find(\"a\").text)"
   ]
  },
  {
   "cell_type": "markdown",
   "id": "dcd86685-36c3-4397-99a4-8357076b3595",
   "metadata": {},
   "source": [
    "Посмотрим на то, как достать только содержимое \\<p> тега (то есть текст \"ссылкой\" из тега <a> внутри мы уберем).\n",
    "\n",
    "Из очевидного решения приходят всяческие замены (str.replace() [или re.sub(), если вы уже с этим знакомы]), но мы посмотрим на то, как это делать инструментами bs4"
   ]
  },
  {
   "cell_type": "code",
   "execution_count": 31,
   "id": "2c89d16a-813f-467e-a3ee-e8926c590f1c",
   "metadata": {},
   "outputs": [
    {
     "name": "stdout",
     "output_type": "stream",
     "text": [
      "Пример абзаца с ссылкой.\n"
     ]
    }
   ],
   "source": [
    "first_p_tag = all_p[0]  # достаем первый тег\n",
    "\n",
    "# если мы попытаемся достать текст без дополнительных параметров, нам будет выдаваться текст всех тегов, содержащихся внутри <p>\n",
    "print(first_p_tag.get_text()) "
   ]
  },
  {
   "cell_type": "markdown",
   "id": "107435f1-09c8-486a-a8bf-723ce77365be",
   "metadata": {},
   "source": [
    "давайте посмотрим, как вообще устроен find_all (и find)"
   ]
  },
  {
   "cell_type": "code",
   "execution_count": 32,
   "id": "2618a914-b88a-4d18-a67f-81949ae5e241",
   "metadata": {},
   "outputs": [
    {
     "name": "stdout",
     "output_type": "stream",
     "text": [
      "Help on method find_all in module bs4.element:\n",
      "\n",
      "find_all(name=None, attrs={}, recursive=True, text=None, limit=None, **kwargs) method of bs4.element.Tag instance\n",
      "    Look in the children of this PageElement and find all\n",
      "    PageElements that match the given criteria.\n",
      "    \n",
      "    All find_* methods take a common set of arguments. See the online\n",
      "    documentation for detailed explanations.\n",
      "    \n",
      "    :param name: A filter on tag name.\n",
      "    :param attrs: A dictionary of filters on attribute values.\n",
      "    :param recursive: If this is True, find_all() will perform a\n",
      "        recursive search of this PageElement's children. Otherwise,\n",
      "        only the direct children will be considered.\n",
      "    :param limit: Stop looking after finding this many results.\n",
      "    :kwargs: A dictionary of filters on attribute values.\n",
      "    :return: A ResultSet of PageElements.\n",
      "    :rtype: bs4.element.ResultSet\n",
      "\n"
     ]
    }
   ],
   "source": [
    "help(first_p_tag.find_all)"
   ]
  },
  {
   "cell_type": "markdown",
   "id": "7f77e770-ab57-4b6e-9e1a-d97f6903a02e",
   "metadata": {},
   "source": [
    "Иными словами, нам вообще-то необязательно указывать название тегов, которые мы ищем, и вот как раз пример, когда мы можем искать только строки"
   ]
  },
  {
   "cell_type": "code",
   "execution_count": 34,
   "id": "cf2d7f6c-2eeb-4132-9dc1-147ae7bc17d9",
   "metadata": {},
   "outputs": [
    {
     "name": "stdout",
     "output_type": "stream",
     "text": [
      "['Пример абзаца с ', 'ссылкой', '.']\n",
      "['Пример абзаца с ', '.']\n"
     ]
    }
   ],
   "source": [
    "# Нам будет возвращен список всех строк (обратите внимание, строка от тега <a> посередине)\n",
    "print(first_p_tag.find_all(string=True))\n",
    "\n",
    "# У метода `find_all` есть параметр `recursive`, с помощью которого мы можем отключить поиск с вложенностью:\n",
    "print(first_p_tag.find_all(string=True, recursive=False))"
   ]
  },
  {
   "cell_type": "markdown",
   "id": "04d27631-7039-4b7c-ba00-822d8a741821",
   "metadata": {},
   "source": [
    "Выбросив ненужный вложенный тег, осталось только объединить результат в одну строку!"
   ]
  },
  {
   "cell_type": "code",
   "execution_count": 37,
   "id": "c002c5c5-224e-422f-991c-f8214b5c202a",
   "metadata": {},
   "outputs": [
    {
     "name": "stdout",
     "output_type": "stream",
     "text": [
      "Пример абзаца с .\n"
     ]
    }
   ],
   "source": [
    "# В данном случае .strip() не даёт ничего [т.к. пробелов по бокам нет]\n",
    "# но использовать обрезку при парсинге часто помогает, поэтому оставим как good practice\n",
    "text = ''.join(first_p_tag.find_all(string=True, recursive=False)).strip()\n",
    "print(text)  "
   ]
  },
  {
   "cell_type": "markdown",
   "id": "067a2353-010b-4b07-a5e9-78ec76f8bd77",
   "metadata": {},
   "source": [
    " __Извлечение текста и атрибутов__\n",
    "- `.text` извлекает текст из элемента\n",
    "- `[\"атрибут\"]`\t- достает значение атрибута\n",
    "\n",
    "**Примечание** атрибут `.text` извлечет вообще весь текст (на примере выше увидели, что это будет затрагивать вложенные теги)\n",
    "\n",
    "__Примеры:__"
   ]
  },
  {
   "cell_type": "code",
   "execution_count": 40,
   "id": "e5b6f05b-db59-4a7b-b4c3-c138a700b508",
   "metadata": {},
   "outputs": [
    {
     "name": "stdout",
     "output_type": "stream",
     "text": [
      "Пример абзаца с ссылкой.\n",
      "https://example.com\n"
     ]
    }
   ],
   "source": [
    "html_doc = \"\"\"\n",
    "<html>\n",
    "    <head><title>Пример страницы</title></head>\n",
    "    <body>\n",
    "        <h1>Заголовок</h1>\n",
    "        <p class=\"info\">Пример абзаца с <a href=\"https://example.com\">ссылкой</a>.</p>\n",
    "    </body>\n",
    "</html>\n",
    "\"\"\"\n",
    "\n",
    "soup = BeautifulSoup(html_doc, \"lxml\")\n",
    "# ----------\n",
    "\n",
    "p = soup.find(\"p\")\n",
    "\n",
    "# Извлечение текста\n",
    "print(p.text)  # ➝ \"Пример абзаца с ссылкой.\"\n",
    "\n",
    "# Извлечение атрибута href\n",
    "a = p.find(\"a\")\n",
    "print(a[\"href\"])  # ➝ \"https://example.com\"\n"
   ]
  },
  {
   "cell_type": "markdown",
   "id": "d4b9ebc8-a588-4fa5-a432-eff8b39dd874",
   "metadata": {},
   "source": [
    "Про модуль csv:\n",
    "\n",
    "https://pythonworld.ru/moduli/modul-csv.html"
   ]
  },
  {
   "cell_type": "markdown",
   "id": "0893f6fb-6f73-4e56-b329-be345fa267c8",
   "metadata": {},
   "source": [
    "### Практика"
   ]
  },
  {
   "cell_type": "markdown",
   "id": "1e3215f9-a32e-4b1e-b6a6-3a5df330b691",
   "metadata": {},
   "source": [
    "Мы будем доставать данные с яндекс-маркета\n",
    "\n",
    "__Вам необходимо:__\n",
    "- Придумать товар, который вы захотите достать из маркета\n",
    "- Собрать информацию по пяти страницам выдачи, которая содержит следующую информацию:\n",
    "    - Цена\n",
    "    - Бренд\n",
    "    - Название товара\n",
    "    - Рейтинг\n",
    "    - Число оценок\n",
    "- Сохранить информацию в .csv файл"
   ]
  },
  {
   "cell_type": "markdown",
   "id": "5f625045-66d8-4bb8-85f2-fde2ac553f79",
   "metadata": {},
   "source": [
    "Из полезного здесь:\n",
    "\n",
    "- find_all(\"...\", recursive=False) -> чтобы находить только high-level тэги\n",
    "\n",
    "**Примечание** Данный ноутбук является уже заполненным для поиска конкретного товара (ложного септума)"
   ]
  },
  {
   "cell_type": "markdown",
   "id": "c10c313f-49b8-4a2b-a907-c4992b46be47",
   "metadata": {},
   "source": [
    "### Пошаговый пример"
   ]
  },
  {
   "cell_type": "code",
   "execution_count": 1,
   "id": "362e72f2-1ec7-4653-86ef-737b5a8b8390",
   "metadata": {},
   "outputs": [],
   "source": [
    "import requests\n",
    "from bs4 import BeautifulSoup\n",
    "from tqdm import tqdm\n",
    "\n",
    "URL = \"https://market.yandex.ru/search\"\n",
    "params = {\"text\": \"септум ложный\", \n",
    "         \"page\": \"1\"}\n",
    "headers = {\"User-Agent\": \"\",  # User-Agent вставьте из браузера (используя инструменты разработчика)\n",
    "           \"Cookie\": \"\".encode(\"utf-8\")}  # Cookie вставьте из браузера (используя инструменты разработчика)\n",
    "\n",
    "resp = requests.get(URL, params=params, headers=headers)"
   ]
  },
  {
   "cell_type": "code",
   "execution_count": null,
   "id": "6f73d269-5a71-4147-b1df-9b6ca24d77f0",
   "metadata": {},
   "outputs": [],
   "source": [
    "soup = BeautifulSoup(resp.text, \"lxml\")"
   ]
  },
  {
   "cell_type": "code",
   "execution_count": null,
   "id": "dc69c476-91fe-4f4f-b1d3-9c5a540f8140",
   "metadata": {},
   "outputs": [],
   "source": [
    "all_items = soup.find_all(\"div\", class_=\"_1H-VK\")\n",
    "all_items = all_items[11:]  # убираем первые 11 продуктов из промо-выдачи\n",
    "\n",
    "\n",
    "sample_item = all_items[-1]\n",
    "span_container = sample_item.find(\"div\", class_=\"_3iCDs aP0JE\").find(\"span\", class_=\"ds-valueLine ds-valueLine_gap_2\")\n",
    "product_price = span_container.find(\"span\").text\n",
    "\n",
    "\n",
    "info_container = sample_item.find(\"div\", class_=\"_1ENFO\")\n",
    "\n",
    "brand_name = info_container.find(\"a\").find(\"span\")\n",
    "if brand_name is not None:\n",
    "    brand_name = brand_name.text\n",
    "\n",
    "product_name = info_container.find(\"a\").find(\"p\")\n",
    "if product_name is not None:\n",
    "    product_name = product_name.text\n",
    "\n",
    "rating = info_container.find(\"span\", \"ds-text ds-text_weight_bold ds-text_color_text-rating ds-text_proportional ds-text_typography_text Ys3yn ds-text_text_tight ds-text_text_bold\").text\n",
    "n_rates = info_container.find(\"span\", \"ds-text ds-text_lineClamp_1 ds-text_weight_reg ds-text_color_text-secondary ds-text_proportional ds-text_typography_text ds-text_text_tight ds-text_text_reg ds-text_lineClamp\").text.strip()\n",
    "\n",
    "product_price, brand_name, product_name, rating, n_rates"
   ]
  },
  {
   "cell_type": "markdown",
   "id": "801ed817-c6e0-48e4-ac5c-b8254a68b5ed",
   "metadata": {},
   "source": [
    "### Полный пример (объединяем всё вместе)"
   ]
  },
  {
   "cell_type": "code",
   "execution_count": 4,
   "id": "8c3e892d-0181-45b2-b8ec-fc7eff863ea0",
   "metadata": {},
   "outputs": [
    {
     "name": "stderr",
     "output_type": "stream",
     "text": [
      "100%|█████████████████████████████████████████████| 5/5 [00:07<00:00,  1.57s/it]\n"
     ]
    }
   ],
   "source": [
    "items_found = []\n",
    "URL = \"https://market.yandex.ru/search\"\n",
    "headers = {\"User-Agent\": \"\",  # User-Agent вставьте из браузера (используя инструменты разработчика)\n",
    "           \"Cookie\": \"\".encode(\"utf-8\")}  # Cookie вставьте из браузера (используя инструменты разработчика)\n",
    "\n",
    "\n",
    "for i in tqdm(range(5)):\n",
    "    params = {\"text\": \"септум ложный\", \n",
    "         \"page\": f\"{i+1}\"}\n",
    "    resp = requests.get(URL, params=params, headers=headers)\n",
    "\n",
    "    soup = BeautifulSoup(resp.text, \"lxml\")\n",
    "\n",
    "    all_items = soup.find_all(\"div\", class_=\"_1H-VK\")\n",
    "    if i == 0:\n",
    "        all_items = all_items[11:]  # 11: , чтобы избавиться от первых 11 промо-айтемов\n",
    "\n",
    "\n",
    "\n",
    "    for sample_item in all_items:\n",
    "        span_container = sample_item.find(\"div\", class_=\"_3iCDs aP0JE\").find(\"span\", class_=\"ds-valueLine ds-valueLine_gap_2\")\n",
    "        product_price = span_container.find(\"span\").text\n",
    "        \n",
    "        \n",
    "        info_container = sample_item.find(\"div\", class_=\"_1ENFO\")\n",
    "        \n",
    "        brand_name = info_container.find(\"a\").find(\"span\")\n",
    "        if brand_name is not None:\n",
    "            brand_name = brand_name.text\n",
    "        \n",
    "        product_name = info_container.find(\"a\").find(\"p\")\n",
    "        if product_name is not None:\n",
    "            product_name = product_name.text\n",
    "        \n",
    "        rating = info_container.find(\"span\", \"ds-text ds-text_weight_bold ds-text_color_text-rating ds-text_proportional ds-text_typography_text Ys3yn ds-text_text_tight ds-text_text_bold\")\n",
    "        if rating is not None:\n",
    "            rating = rating.text\n",
    "        \n",
    "        n_rates = info_container.find(\"span\", \"ds-text ds-text_lineClamp_1 ds-text_weight_reg ds-text_color_text-secondary ds-text_proportional ds-text_typography_text ds-text_text_tight ds-text_text_reg ds-text_lineClamp\")\n",
    "        if n_rates is not None:\n",
    "            n_rates = n_rates.text\n",
    "        \n",
    "        \n",
    "        items_found.append((product_price, brand_name, product_name, rating, n_rates))\n",
    "        "
   ]
  },
  {
   "cell_type": "markdown",
   "id": "0bd42269-a1d2-406b-a7a1-fd122fd5ca48",
   "metadata": {},
   "source": [
    "Сохраняем в csv"
   ]
  },
  {
   "cell_type": "code",
   "execution_count": null,
   "id": "575fc5ce-cd20-4141-9dcd-941d071aa818",
   "metadata": {},
   "outputs": [],
   "source": [
    "import csv\n",
    "with open('data.csv', 'w', newline='') as csvfile:\n",
    "    writer = csv.writer(csvfile)\n",
    "    writer.writerow([\"price\", \"brand_name\", \"name\", \"rating\", \"n_ratings\"])\n",
    "    writer.writerows(items_found)"
   ]
  },
  {
   "cell_type": "markdown",
   "id": "20e915c5-3f8f-43d6-ab39-497f0985c610",
   "metadata": {},
   "source": [
    "# Практика на дом"
   ]
  },
  {
   "cell_type": "markdown",
   "id": "5872235f-79f2-42e5-b8f4-f330346fd71b",
   "metadata": {},
   "source": [
    "Попробуйте сами воспроизвести пример выше:\n",
    "- Выберите любой товар на яндекс-маркете (с которым мы ещё не работали) и достаньте первые 5 страниц выдачи (достаньте первые 11 промо-продуктов в выдаче тоже)\n",
    "- Попробуйте также достать:\n",
    "    -  цену в сплит\n",
    "    -  ссылку на изображение товара на странице выдачи (thumbnail)\n",
    "    -  ссылку на саму страницу товара (ту, переходя по которой мы получаем всю подробную информацию о товаре, отзывы и т.д.)\n",
    "- Сохраните результат в csv\n",
    "\n",
    "\n",
    "Если захочется чего-то ещё, попробуйте повыставлять на сайте фильтры (которые присутствуют слева - типа бренда/стоимости/т.д.) и посмотреть через инструменты разработчика, как от этого меняется запрос - попробуйте воспроизвести такие запросы через requests "
   ]
  },
  {
   "cell_type": "markdown",
   "id": "3b9e2259-7985-42fc-bec3-f70aa6cce104",
   "metadata": {},
   "source": [
    "# Ридинги + полезные материалы\n",
    "Некоторые ссылки повторяются из слайдов лекций, но я всё равно включил, чтобы собрать в одном месте\n",
    "\n",
    "__Про HTTP-запросы:__\n",
    "- [HTTP-запросы: структура, методы, строка статуса и коды состояния](https://habr.com/ru/articles/865040/)\n",
    "- [Видео про устройство протокола HTTP](https://www.youtube.com/watch?v=RlccXUx4LVw)\n",
    "\n",
    "__Про requests__:\n",
    "- [Python requests library guide](https://realpython.com/python-requests/)\n",
    "- [раздел quickstart в доке requests - можно глянуть ради интереса](https://requests.readthedocs.io/en/latest/user/quickstart/)\n",
    "  \n",
    "__Про bs4__:\n",
    "- [Beautiful Soup: Build a Web Scraper With Python](https://realpython.com/beautiful-soup-web-scraper-python/)\n",
    "- [Дока Beautiful Soup (просто почитать до раздела `Kinds of objects`)](https://www.crummy.com/software/BeautifulSoup/bs4/doc/)\n",
    "\n",
    "__Бонус__:\n",
    "- [Прикольный видос, связанный с темой доступа к открытым данных (и что вообще из них можно получить)](https://youtu.be/frLydE1UCvA)\n",
    "- [Видос про парсинг стима ](https://youtu.be/qiNv3qv-YbU?si=JJ7czJJ5vza757Vl) (ссылок на скрэппер там нет, но вы можете поискать что-то похожее на гитхабе по запросу `steam scrapping` и выставить слева фильтр `Python`)"
   ]
  }
 ],
 "metadata": {
  "kernelspec": {
   "display_name": "Python3.11",
   "language": "python",
   "name": "py311"
  },
  "language_info": {
   "codemirror_mode": {
    "name": "ipython",
    "version": 3
   },
   "file_extension": ".py",
   "mimetype": "text/x-python",
   "name": "python",
   "nbconvert_exporter": "python",
   "pygments_lexer": "ipython3",
   "version": "3.11.9"
  }
 },
 "nbformat": 4,
 "nbformat_minor": 5
}
