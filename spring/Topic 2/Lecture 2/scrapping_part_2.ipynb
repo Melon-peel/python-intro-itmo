{
 "cells": [
  {
   "cell_type": "markdown",
   "id": "ae0084d2-1fb2-4370-a825-db05a7d86269",
   "metadata": {},
   "source": [
    "# Разница между GET- и POST-запросами"
   ]
  },
  {
   "cell_type": "markdown",
   "id": "dd22c1ec-fe86-4b58-8721-7ee1c59d6f0f",
   "metadata": {},
   "source": [
    "__Напоминание__:\n",
    "\n",
    "При работе с вебом HTTP-запросы используются для взаимодействия с серверами. Два наиболее часто применяемых метода — GET и POST. Они определяют, как клиент (браузер, скрипт, API-запрос) запрашивает или отправляет данные на сервер."
   ]
  },
  {
   "cell_type": "markdown",
   "id": "2844c2ba-fc73-45af-a73c-6c7e2f7e02f4",
   "metadata": {},
   "source": [
    "### Основные различия между GET и POST\n",
    "\n",
    "| Характеристика   | GET                                      | POST                                       |\n",
    "|-----------------|-----------------------------------------|-------------------------------------------|\n",
    "| **Цель**        | Получение данных с сервера              | Отправка данных на сервер                 |\n",
    "| **Передача данных** | В URL (через `?key=value`)            | В теле запроса (через `data={}` или `json={}`) |\n",
    "| **Безопасность** | Менее безопасный (виден в URL)         | Безопаснее (данные скрыты в теле запроса) |\n",
    "| **Кэширование**  | Может кешироваться браузером          | Не кешируется                             |\n",
    "| **Использование** | Получение веб-страниц, API-запросы на чтение | Авторизация, отправка форм, загрузка файлов |\n"
   ]
  },
  {
   "cell_type": "markdown",
   "id": "a2badd95-4150-408b-b206-df247739babe",
   "metadata": {},
   "source": [
    "#### Пример 1: GET-запрос работает без дополнительных заголовков"
   ]
  },
  {
   "cell_type": "markdown",
   "id": "cf20dd3d-a598-4c7f-9463-a410158287ab",
   "metadata": {},
   "source": [
    "Некоторые сайты требуют наличия определённых HTTP-заголовков, таких как `User-Agent`, или же устанавливают cookies, которые используются для аутентификации или ограничения запросов. В таких случаях обычный `requests.get()` может не дать ожидаемый результат.\n",
    "\n",
    "В примере ниже всё работает без \"танцев с бубном\" (a.k.a. дополнительных заголовков или установок куки)"
   ]
  },
  {
   "cell_type": "code",
   "execution_count": 179,
   "id": "251832ba-1385-43d2-8a4c-d77867842d6c",
   "metadata": {},
   "outputs": [
    {
     "name": "stdout",
     "output_type": "stream",
     "text": [
      "Статус: 200\n",
      "Кодировка: UTF-8\n"
     ]
    }
   ],
   "source": [
    "import requests\n",
    "\n",
    "URL = \"https://student.itmo.ru/ru/dormitory/\"\n",
    "response = requests.get(URL)\n",
    "\n",
    "# Выводим статус\n",
    "print(f\"Статус: {response.status_code}\")\n",
    "# Выводим кодировку (на всякий случай)\n",
    "print(f\"Кодировка: {response.encoding}\")"
   ]
  },
  {
   "cell_type": "code",
   "execution_count": 183,
   "id": "4726929d-6344-4d33-add6-c90da6d037a6",
   "metadata": {},
   "outputs": [
    {
     "data": {
      "text/plain": [
       "True"
      ]
     },
     "execution_count": 183,
     "metadata": {},
     "output_type": "execute_result"
    }
   ],
   "source": [
    "import webbrowser\n",
    "\n",
    "with open(\"itmo_dorms.html\", \"w\", encoding=\"utf-8\") as f:\n",
    "    f.write(response.text)\n",
    "\n",
    "webbrowser.open(\"itmo_dorms.html\")"
   ]
  },
  {
   "cell_type": "markdown",
   "id": "2bb08b05-2ac0-492a-8e20-0662ad0a95fb",
   "metadata": {},
   "source": [
    "#### Пример 2: GET-запрос (когда нужны куки)"
   ]
  },
  {
   "cell_type": "markdown",
   "id": "1d8b7d03-77cc-4ec4-8927-c5c98eedbef0",
   "metadata": {},
   "source": [
    "Некоторые сайты требуют передачи User-Agent или cookies для успешного выполнения запроса. Например, при попытке извлечения страниц с сервиса Кинопоиск без cookies можно столкнуться с проблемами:"
   ]
  },
  {
   "cell_type": "markdown",
   "id": "2681912f-d9fd-41f6-af46-6fb587b85ab0",
   "metadata": {},
   "source": [
    "<img src=\"cookies.jpg\" width=500 height=500/, title=\"демотиватор\">"
   ]
  },
  {
   "cell_type": "code",
   "execution_count": 184,
   "id": "7dc83431-9196-46d2-a253-5be2b76ec7b1",
   "metadata": {},
   "outputs": [],
   "source": [
    "import requests\n",
    "\n",
    "URL = \"https://www.kinopoisk.ru/lists/movies/genre--thriller\"\n",
    "headers = {\"User-Agent\": \"Mozilla/5.0 (X11; Linux x86_64; rv:133.0) Gecko/20100101 Firefox/133.0\"}\n",
    "param_dict = {\"page\": \"1\"}\n",
    "response = requests.get(url=URL, headers=headers, params=param_dict)"
   ]
  },
  {
   "cell_type": "markdown",
   "id": "fca19f52-c70b-4c08-90d7-23a4b5396d9b",
   "metadata": {},
   "source": [
    "Запрос выше вернёт страницу, которая содержит запрос на ввод капчи от клиента (как часть анти-бот системы сайта)\n",
    "\n",
    "Объект `Session()` в библиотеке requests позволяет сохранять состояние между запросами:\n",
    "- Автоматически сохраняет и передаёт cookies (главное)\n",
    "- Позволяет переиспользовать заголовки (headers), параметры (params) и другие настройки (удобно)\n",
    "\n",
    "Как `Session()` помогает обходить ограничения?\n",
    "- С ответом на первый запрос сервер может отправить cookies, которые браузер обычно сохраняет\n",
    "- При повторных запросах браузер автоматически отправляет сохранённые cookies\n",
    "- `requests.Session()` позволяет имитировать такое поведение, автоматически запоминая и отправляя cookies\n",
    "\n",
    "---\n",
    "\n",
    "\n",
    "Иными словами, использование `Session()` оправдано, когда (хотя бы одно):\n",
    "- Делается много однотипных запросов к подкаталогам одного сайта\n",
    "- Хочется хранить информацию об одном и том же наборе cookies между запросами, не передавая их явно каждый раз\n",
    "- Сайт требует авторизации (например, через POST-запрос с логином и паролем), про это ниже\n",
    "\n",
    "Можно обойтись без `Session()`, если:\n",
    "- Запросов мало, и они не требуют сохранения cookies\n",
    "- Сайт не использует cookies для проверки пользователя\n",
    "\n",
    "**Примечание** В некоторых случаях получение таким способом cookies позволяет лишить нас необходимости эмулирования браузерной сесссии - т.е. попытки закосить под реальный браузерный запрос (в этом смысле он может выступать альтернативой для Селениума [про него ниже]), однако **это не работает всегда**; хотя в случае с кинопоиском, кажется, работает :)"
   ]
  },
  {
   "cell_type": "code",
   "execution_count": 192,
   "id": "01fb2b99-2837-4804-b409-4ef56e296bbc",
   "metadata": {},
   "outputs": [
    {
     "name": "stdout",
     "output_type": "stream",
     "text": [
      "Cookies перед запросом: <RequestsCookieJar[]>\n",
      "\n",
      "\n",
      "Cookies после первого запроса: <RequestsCookieJar[<Cookie _yasc=5JgFbIU3HuC6jZHlPO7ym5yisddjskmi5bQcP0m/upevhrkGOqG7az4OIVnSLuvcMw== for .kinopoisk.ru/>, <Cookie disable_server_sso_redirect=1 for .kinopoisk.ru/>, <Cookie i=8a+qKhZ8T+Q4g+VL4FMedyUsmpRZcSCHY70dEDvrJbWKbDKFPdYC4r7eFaaSNdiFw/qFqGMu/ikfawA6nLd24OlXSFg= for .kinopoisk.ru/>, <Cookie yandexuid=7622292021741000088 for .kinopoisk.ru/>, <Cookie yashr=6582575981741000088 for .kinopoisk.ru/>, <Cookie mda2_beacon=1741000089092 for .passport.yandex.ru/>, <Cookie mda2_domains=kinopoisk.ru for .passport.yandex.ru/>, <Cookie i=jyztl+WUQSAYHDQFewB8BK/XZlS4I48bJFhnZQAxv0ZB6Ok0QVV2A3OAUj/yBQyqFoM2ScEZ554X9XhPtgAuyeegWL8= for .yandex.ru/>, <Cookie yandexuid=8235799261741000089 for .yandex.ru/>, <Cookie ys=c_chck.1663399360 for .yandex.ru/>, <Cookie _csrf=BQO4bz-t5jgzKQqOhG9nlC5q for www.kinopoisk.ru/>]>\n",
      "\n",
      "\n"
     ]
    }
   ],
   "source": [
    "import requests\n",
    "\n",
    "URL = \"https://www.kinopoisk.ru/lists/movies/genre--thriller\"\n",
    "\n",
    "# Создаём сессию\n",
    "session = requests.Session()\n",
    "session.headers.update({\n",
    "    \"User-Agent\": \"Mozilla/5.0 (X11; Linux x86_64; rv:133.0) Gecko/20100101 Firefox/133.0\"\n",
    "})\n",
    "\n",
    "# Посмотрим, какие cookies установлены перед первым запросом\n",
    "print(\"Cookies перед запросом:\", session.cookies)\n",
    "print('\\n')\n",
    "\n",
    "# Первый запрос получит cookies\n",
    "response_1 = session.get(URL)\n",
    "print(\"Cookies после первого запроса:\", session.cookies)\n",
    "print('\\n')\n",
    "\n",
    "# Второй запрос уже будет отправлен с полученными cookies\n",
    "response_2 = session.get(URL)"
   ]
  },
  {
   "cell_type": "code",
   "execution_count": 195,
   "id": "b534b6b1-46ce-4d64-a414-a7792fa40d30",
   "metadata": {},
   "outputs": [
    {
     "data": {
      "text/plain": [
       "True"
      ]
     },
     "execution_count": 195,
     "metadata": {},
     "output_type": "execute_result"
    }
   ],
   "source": [
    "with open(\"kinopoisk.html\", \"w\", encoding=\"utf-8\") as f:\n",
    "    f.write(response_2.text)\n",
    "\n",
    "\n",
    "import webbrowser\n",
    "webbrowser.open(\"kinopoisk.html\")"
   ]
  },
  {
   "cell_type": "markdown",
   "id": "ce2eeb55-073a-47f4-a9e2-a20f16a9fac1",
   "metadata": {},
   "source": [
    "Про объект `Session()` можно почитать:\n",
    "- [Здесь](https://docs-python.ru/packages/modul-requests-python/sessii-seansy-session/)\n",
    "- [В документации](https://requests.readthedocs.io/en/latest/user/advanced/)"
   ]
  },
  {
   "cell_type": "markdown",
   "id": "cb4d7742-920c-4345-b659-3679b8dd8842",
   "metadata": {},
   "source": [
    "В веб-скрэппинге `POST`-запросы чаще всего используются в двух случаях:\n",
    "\n",
    "**Авторизация на сайте**  \n",
    "   - Многие сайты требуют логин и пароль для доступа к данным.\n",
    "   - `POST`-запрос отправляет учетные данные на сервер, который возвращает токен или сессию (сессионный идентификатор, который хранится у клиента и переиспользуется в запросах для идентификации) \n",
    "   - Этот токен/сессионный идентификатор можно использовать в последующих запросах\n",
    "\n",
    "**Загрузка файлов**\n",
    "   - Некоторые сайты позволяют загружать изображения, документы, аудио и видео через `POST`\n",
    "\n",
    "---\n",
    "\n",
    "__Чем отличается передача данных в POST-запросе от параметров в GET-запросе__:\n",
    "\n",
    "**GET**-запрос  \n",
    "   - Данные передаются в **URL** в виде параметров (`?key=value&key2=value2`)\n",
    "   - Используется для **получения** информации (например, поиск в Google / поиск с фильтрами на сайте)\n",
    "   - Параметры видны в браузере и могут быть закэшированы\n",
    "\n",
    "**POST**-запрос  \n",
    "   - Данные передаются **в теле запроса** (не в URL).  \n",
    "   - Используется для **отправки** данных (авторизация, отправка форм, загрузка файлов).  \n",
    "   - Данные **не видны в URL**, что делает его более безопасным\n",
    "\n",
    "**Примечание**\n",
    "\n",
    "Если бы чувствительные данные (например, логин и пароль) передавались в URL, появляются следующие проблемы:\n",
    "- URL-адреса видны в логах серверов/прокси\n",
    "- URL-адреса видны в истории браузера\n",
    "- URL-адреса могут отсвечиваться в рефёрерах (когда вы переходите по внешней ссылке с сайта *example.com*, браузер может подставить в параметр `Referer` заголовка запроса что-то типа *example.com/catalogue?log=login&pass=password* )"
   ]
  },
  {
   "cell_type": "markdown",
   "id": "33113749-55b6-494c-b5e4-10257a1435d7",
   "metadata": {},
   "source": [
    "# Переходим к использованию API\n",
    "\n",
    "**Напоминание**\n",
    "\n",
    "**API** (Application Programming Interface) — это интерфейс, который позволяет программам взаимодействовать между собой. Он предоставляет набор функций, с помощью которых можно запрашивать данные или управлять внешними сервисами\n",
    "\n",
    "Примеры API:\n",
    "- Прогноз погоды ([OpenWeather API](https://openweathermap.org/appid))\n",
    "- Работа с музыкой ([Spotify API](https://developer.spotify.com/))\n",
    "- Доступ к фильмам ([Кинопоиск API](https://api.kinopoisk.dev/documentation))\n",
    "- etc.\n",
    "    "
   ]
  },
  {
   "cell_type": "markdown",
   "id": "5ccac1ea-3850-4299-90b2-6fac5e0bbea7",
   "metadata": {},
   "source": [
    "Очень часто API разрабатываются в стиле **REST**\n",
    "\n",
    "**REST** (Representational State Transfer) — это архитектурный стиль API, который работает через HTTP\n",
    "\n",
    "Короткая справка:\n",
    "- [Здесь](https://realpython.com/api-integration-in-python/#rest-and-python-building-apis) (до \"REST and Python: Building APIs\" не включительно)\n",
    "- или [Здесь](https://blog.skillfactory.ru/glossary/rest-api/)\n",
    "\n",
    "Из ограничений/принципов, заложенных в **REST** нам особенно интересны следующие (скопировано из второй ссылки для удобства восприятия):\n",
    "\n",
    "- Отсутствие записи состояния клиента (**Stateless**). Сервер не должен хранить информацию о состоянии (проведенных операций) клиента. Каждый запрос от клиента должен содержать только ту информацию, которая нужна для получения данных от сервера.\n",
    "\n",
    "- Единообразие интерфейса Rest (**Uniform Interface**). Все данные должны запрашиваться через один URL-адрес стандартными протоколами, например, HTTP. Это упрощает архитектуру сайта или приложения и делает взаимодействие с сервером понятнее\n",
    "\n",
    "И ещё один важный термин - эндпоинты. **Эндпоинты** — это URL-адреса, через которые можно взаимодействовать с API (по сути это адреса конкретных ресурсов сервера / разделов сайта)\n",
    "\n",
    "Пример:\n",
    "\n",
    "- https://api.example.com/users  \n",
    "- https://api.example.com/products/123\n",
    "\n",
    "**Важно**\n",
    "\n",
    "При веб-скрэппинге мы сталкиваемся с двумя ситуациями, работая со сторонним API:\n",
    "- Либо мы (например, через инспектор [панель инструментов разработчика в веб-браузере]) пытаемся понять логику отправки запросов браузера серверу и воспроизвести её сами\n",
    "- Либо мы взаимодействуем с API, используя документацию, и здесь мы как правило должны пройти авторизацию"
   ]
  },
  {
   "cell_type": "markdown",
   "id": "46babe9a-0b22-4af5-acd8-06ec7fd2837b",
   "metadata": {},
   "source": [
    "<img src=\"auth_meme.jpg\" width=400 height=500 title=\"демотиватор 2\">"
   ]
  },
  {
   "cell_type": "markdown",
   "id": "a7abedcd-8490-4523-b500-703b6b88d4da",
   "metadata": {},
   "source": [
    "**Аутентификация** — это процесс подтверждения вашей личности, например, при входе в систему с помощью логина и пароля. Цель — убедиться, что вы тот, за кого себя выдаете (типа \"проверка аутентичности\" ~ authentication)\n",
    "\n",
    "**Авторизация** — это процесс предоставления вам прав доступа к определенным ресурсам или действиям после того, как ваша личность была подтверждена (например, доступ к просмотру или редактированию данных). Т.е. \"авторизироваться на сайте\" = получить определенные права на сайте"
   ]
  },
  {
   "cell_type": "markdown",
   "id": "e4b15657-146b-4921-af88-4566f4c1080d",
   "metadata": {},
   "source": [
    "# Методы аутентификации\n",
    "\n",
    "| Метод | Что это и как работает | Где используется | Примеры сервисов | Плюсы | Минусы |\n",
    "|--------|------------------------|------------------|------------------|--------|--------|\n",
    "| **Session-based аутентификация** | При входе на сервере создается сессия (отправляется POST-запрос с credentials в его теле), а клиент получает `session_id` в составе cookies в ответ. При каждом запросе сервер проверяет эту сессию | Веб-приложения с авторизацией | Wordpress, интернет-магазины | Удобно для пользователей, так как позволяет избежать необходимости авторизовываться при каждом запросе ресурса | Не подходит для API*, требует хранения сессий на сервере |\n",
    "| **API-ключи** | Клиент получает уникальный ключ (alphanumeric string) и передает его в заголовке запроса или в URL. Такой ключ генерируется как правило один раз при регистрации на сервисе, как правило не имеет срока действия и используется для предоставления общего доступа к ресурсу (т.е. не содержит в себе **scope**) | Открытые API, публичные сервисы | OpenWeather, NASA API, Кинопоиск | Простая реализация, удобство в использовании | Если передавать в URL, можно легко перехватить (например, через реферер)* |\n",
    "| **Basic-аутентификация** | Логин и пароль кодируются в Base64 (бинарные данные кодируются с помощью 64 ascii-символов) и передаются в заголовке `Authorization: Basic <encoded_credentials>`. | Закрытые API, внутренние сервисы | Примеры в документации REST API, старые API-интерфейсы | Простота использования (не требует сложных механизмов) | Низкая безопасность (логин и пароль могут быть украдены, даже в Base64) |\n",
    "| **Bearer-аутентификация** | Клиент получает `access_token`, который передается в заголовке `Authorization: Bearer <token>`. Токен действует ограниченное время | API, требующие аутентификации | Spotify API, GitHub API| Безопаснее, чем логин и пароль, можно легко отозвать токен | Токен истекает, его нужно обновлять |\n",
    "| **OAuth 2.0 (Open Authorization)** | Клиент получает `access_token` через процесс авторизации (например, через редиректы и выдачу разрешений пользователем). | API от имени пользователя | Google API, Facebook API, Twitter API, Spotify API | Позволяет давать доступ к сервису без передачи пароля | Сложен в реализации, требует дополнительных шагов |\n",
    "\n",
    "**Справка**\n",
    "\n",
    "1) Session-based аутентификация не подходит для API в основном по следующим причинам:\n",
    "- API (особенно RESTful) по своей сути без состояния (stateless). Это означает, что каждый запрос к серверу должен **уже** содержать всю необходимую информацию для обработки, включая информацию о пользователе, его аутентификации и авторизации. Этот принцип (в REST) помогает хранить гораздо меньше информации о пользователе и облегчает масштабируемость\n",
    "- Куки привязаны к конкретной пользовательской сессии на конкретном устройстве (в то время как ключ/токен можно выдать что называется platform-agnostic)\n",
    "2) Из ограничений API-ключей:\n",
    "- Ключ генерируется один раз и не истекает --> проблемы с безопасностью\n",
    "- Ключ не содержит информации о правах доступа конкретного пользователя\n",
    "- Часто процесс генерации происходит через веб-интерфейс (т.е. закодить сложнее)"
   ]
  },
  {
   "cell_type": "markdown",
   "id": "6a044902-343f-4974-a441-08b2a37408e7",
   "metadata": {},
   "source": [
    "- [Про методы аутентификации в целом](https://starkovden.github.io/authentication-and-authorization.html)\n",
    "- [Про session-based, т.к. в верхней ссылке этого нет](https://www.geeksforgeeks.org/session-vs-token-based-authentication/)\n",
    "- [Про OAuth 2.0 можно почитать здесь](https://skillbox.ru/media/code/chto-takoe-oauth-20-ponyatie-i-printsip-raboty/), но мы обсудим на семинаре"
   ]
  },
  {
   "cell_type": "markdown",
   "id": "a33138b8-17a5-4a9e-94a5-9e809073aa0c",
   "metadata": {},
   "source": [
    "#### Пример 3: POST-запрос (для авторизации): basic authentication + bearer token"
   ]
  },
  {
   "cell_type": "code",
   "execution_count": 130,
   "id": "dabf5d7f-0213-47cd-8a72-c868f3a46947",
   "metadata": {},
   "outputs": [
    {
     "data": {
      "text/plain": [
       "True"
      ]
     },
     "execution_count": 130,
     "metadata": {},
     "output_type": "execute_result"
    }
   ],
   "source": [
    "from dotenv import load_dotenv\n",
    "import os\n",
    "\n",
    "load_dotenv()"
   ]
  },
  {
   "cell_type": "code",
   "execution_count": 135,
   "id": "cf924c94-21b6-423d-ba73-0390cd834ca3",
   "metadata": {},
   "outputs": [
    {
     "name": "stdout",
     "output_type": "stream",
     "text": [
      "Данные без кодирования: c738...:1c6c...\n",
      "Закодированные данные в base64 (в формате ascii, ибо это часть стандарта HTTP): YzczO...\n",
      "Access Token: BQDCi8I...\n",
      "\n",
      "\n",
      "\n",
      "{\"external_urls\":{\"spotify\":\"https://open.spotify.com/artist/0TnOYISbd1XYRBk9myaseg\"},\"followers\":{\"href\":null,\"total\":11340013},\"genres\":[],\"href\":\"https://api.spotify.com/v1/artists/0TnOYISbd1XYRBk9myaseg\",\"id\":\"0TnOYISbd1XYRBk9myaseg\",\"images\":[{\"url\":\"https://i.scdn.co/image/ab6761610000e5eb4051627b19277613e0e62a34\",\"height\":640,\"width\":640},{\"url\":\"https://i.scdn.co/image/ab676161000051744051627b19277613e0e62a34\",\"height\":320,\"width\":320},{\"url\":\"https://i.scdn.co/image/ab6761610000f1784051627b19277613e0e62a34\",\"height\":160,\"width\":160}],\"name\":\"Pitbull\",\"popularity\":85,\"type\":\"artist\",\"uri\":\"spotify:artist:0TnOYISbd1XYRBk9myaseg\"}\n"
     ]
    }
   ],
   "source": [
    "# пример отправки POST-запроса на получение токена для спотифая \n",
    "# сначала нужно получить токен, который будет прикрепляться к заголовкам запроса\n",
    "# процесс получения токена происходит через механизм basic authentication\n",
    "\n",
    "import requests\n",
    "import base64 \n",
    "\n",
    "\n",
    "# Укажите свой client_id и client_secret (берутся в веб-версии при создании приложения здесь https://developer.spotify.com/dashboard) \n",
    "\n",
    "client_id = os.getenv('client_id')  # аналог логина\n",
    "client_secret = os.getenv('client_secret')  # аналог пароля\n",
    "auth_url = 'https://accounts.spotify.com/api/token'\n",
    "\n",
    "raw_credentials = f\"{client_id}:{client_secret}\"\n",
    "print(f\"Данные без кодирования: {client_id[:4]}...:{client_secret[:4]}...\")\n",
    "# мы вешаем .encode() на строку, поскольку перед кодированием в base64 данные должны быть представлены в бинарном виде\n",
    "b64_decoded = base64.b64encode(raw_credentials.encode()).decode(\"ascii\")\n",
    "print(f\"Закодированные данные в base64 (в формате ascii, ибо это часть стандарта HTTP): {b64_decoded[:5]}...\")\n",
    "\n",
    "# ------\n",
    "# Далее формируем запрос\n",
    "headers = {\n",
    "    'Authorization': 'Basic ' + b64_decoded\n",
    "}\n",
    "\n",
    "data = {\n",
    "    'grant_type': 'client_credentials',\n",
    "}\n",
    "\n",
    "response = requests.post(url=auth_url, \n",
    "                         headers=headers, \n",
    "                         data=data)\n",
    "\n",
    "if \"access_token\" in response.json():\n",
    "    token = response.json()['access_token']\n",
    "    print(f\"Access Token: {token[:7]}...\")\n",
    "else:\n",
    "    print(\"Токен не был получен\")\n",
    "    token = \"\"\n",
    "\n",
    "\n",
    "# -------\n",
    "# Далее используем данный токен при отправке запросов к API эндпоинтам\n",
    "\n",
    "url = \"https://api.spotify.com/v1/artists/0TnOYISbd1XYRBk9myaseg\"\n",
    "bearer_header = {\"Authorization\": \"Bearer \" + token}\n",
    "response = requests.get(url=url,\n",
    "                        headers=bearer_header\n",
    "                       )\n",
    "\n",
    "print(\"\\n\\n\")\n",
    "print(response.text)"
   ]
  },
  {
   "cell_type": "markdown",
   "id": "5684dadd-924c-4538-be9c-f7605ff9d265",
   "metadata": {},
   "source": [
    "# Введение в Selenium"
   ]
  },
  {
   "cell_type": "markdown",
   "id": "b08036fa-6909-4342-ae13-b2edf5fbbdb7",
   "metadata": {},
   "source": [
    "__Почему requests + BeautifulSoup не всегда работают?__\n",
    "- **Requests** и **BeautifulSoup** — отличные инструменты для парсинга статических HTML-страниц. Однако они не могут работать с контентом, который генерируется динамически с помощью JavaScript\n",
    "- Например, если сайт загружает данные с помощью JavaScript после первоначальной загрузки страницы, запрос через `requests` не получит нужный контент (requests не выполняет JavaScript-код)\n",
    "- В таких случаях для парсинга (и скрэппинга перед ним) нужно использовать инструменты, которые могут взаимодействовать с браузером, такие как **Selenium** \n",
    "\n",
    "__Что такое Selenium?__\n",
    "- [**Selenium**](https://www.selenium.dev/) — это библиотека для автоматизации браузеров (открытие страниц, клики, ввод текста, скроллы и т.д.)\n",
    "- Selenium может управлять реальными браузерами, такими как Chrome, Firefox, и другие, что позволяет работать с динамическим контентом, который генерируется с помощью JavaScript\n",
    "\n",
    "__Как работает WebDriver (Chromedriver, Geckodriver)__\n",
    "- **WebDriver** — это интерфейс для взаимодействия с браузером.\n",
    "- **Chromedriver** — это инструмент, который позволяет Selenium управлять браузером Google Chrome.\n",
    "- **Geckodriver** — аналог для браузера Mozilla Firefox.\n",
    "- Эти драйвера необходимы для того, чтобы Selenium мог взаимодействовать с конкретным браузером."
   ]
  },
  {
   "cell_type": "code",
   "execution_count": null,
   "id": "47c32429-1013-4c72-b47a-6720ce61f951",
   "metadata": {},
   "outputs": [],
   "source": [
    "!pip install selenium"
   ]
  },
  {
   "cell_type": "code",
   "execution_count": 165,
   "id": "f936d0dd-5d1d-48de-a3db-7036b042c19f",
   "metadata": {},
   "outputs": [],
   "source": [
    "from selenium import webdriver\n",
    "from selenium.webdriver.common.by import By"
   ]
  },
  {
   "cell_type": "code",
   "execution_count": 166,
   "id": "c33f87f1-2775-4227-a3f8-b35f80c88c51",
   "metadata": {},
   "outputs": [],
   "source": [
    "driver = webdriver.Chrome()\n",
    "\n",
    "driver.get(\"https://www.selenium.dev/selenium/web/web-form.html\")"
   ]
  },
  {
   "cell_type": "code",
   "execution_count": 167,
   "id": "b55cc345-7038-41fa-b195-9acd57f616cd",
   "metadata": {},
   "outputs": [],
   "source": [
    "driver.get(\"https://student.itmo.ru/ru/dormitory/\")"
   ]
  },
  {
   "cell_type": "code",
   "execution_count": 170,
   "id": "ea1d1874-5337-4234-972f-81395771447d",
   "metadata": {},
   "outputs": [],
   "source": [
    "dorm_abouts = driver.find_elements(by=By.CSS_SELECTOR, value=\".card__info-link.link-arrow.icon-arrow-right\")"
   ]
  },
  {
   "cell_type": "code",
   "execution_count": 173,
   "id": "e63f012e-4ec6-4bea-87ba-5bbb57ab841d",
   "metadata": {},
   "outputs": [],
   "source": [
    "import time\n",
    "\n",
    "time.sleep(2)\n",
    "dorm_abouts[0].click()"
   ]
  },
  {
   "cell_type": "code",
   "execution_count": 178,
   "id": "cd6bbf3e-8e5e-4a65-baa2-f136dd794b5b",
   "metadata": {},
   "outputs": [],
   "source": [
    "driver.quit()  # любые попытки взаимодействия с драйвером приведут к выбросу ошибки"
   ]
  },
  {
   "cell_type": "markdown",
   "id": "5f94fcc9-2b24-4c9f-9f46-be9c66ad9246",
   "metadata": {},
   "source": [
    "# Что почитать/посмотреть"
   ]
  },
  {
   "cell_type": "markdown",
   "id": "4cef9b11-5082-4e71-be27-9870274a812b",
   "metadata": {},
   "source": [
    "__Общее__\n",
    "- [Про HTTP запросы](https://habr.com/ru/articles/865040/) (дублирую из первого семинара, если ещё не читали)\n",
    "- [Этот ридинг](https://realpython.com/api-integration-in-python/#rest-and-python-building-apis) (до \"REST and Python: Building APIs\" не включительно). Здесь во многом идёт пересечение с самым первым общим ридингом, но конкретные запросы (GET/POST/etc.) рассматриваются более предметно\n",
    "\n",
    "__requests__\n",
    "- [Про отправку запросов с использованием объекта `requests.Session()`](https://docs-python.ru/packages/modul-requests-python/sessii-seansy-session/)\n",
    "- [Здесь же ссылка на доку по `Session()`, если надо (не рекомендую читать как гайд, это не гайд)](https://requests.readthedocs.io/en/latest/user/advanced/)\n",
    "\n",
    "__REST API__\n",
    "- [Здесь говорится про REST API отдельно](https://blog.skillfactory.ru/glossary/rest-api/). Полезно почитать просто с целью понять, почему современные API строятся так, как они строятся (идейно)\n",
    "\n",
    "__Аутентификация__\n",
    "- [Про методы аутентификации](https://starkovden.github.io/authentication-and-authorization.html). Отсюда почитайте до Basic Authentication включительно. Вы можете почитать про HMAC ради интереса, но нам такой способ вряд ли встретится (про OAuth 2.0 пока читать не надо, если нет личного желания)\n",
    "- [Про аутентификацию на основе сессий](https://habr.com/ru/companies/vk/articles/343288#autentifikaciya-na-osnove-sessiy). Ссылка ведёт на конкретный абзац текста (я сейчас не советую читать статью целиком). В этой же статьей можно прочитать про [аутентификацию на основе токенов](https://habr.com/ru/companies/vk/articles/343288/#autentifikaciya-na-osnove-tokenov) (Bearer authentication в таблице сверху - это частный случай такой аутентификации)\n",
    "\n",
    "__Selenium__\n",
    "- [Официальный мини-гайд](https://www.selenium.dev/documentation/webdriver/getting_started/)\n",
    "- [Документация](https://selenium-python.readthedocs.io/). Полезно, если нужно узнать, как повзаимодействовать с каким-то специфичным элементом\n",
    "\n",
    "__Видосики__\n",
    "- [Вот этот плейлист про скрэппинг статических страниц](https://www.youtube.com/playlist?list=PLRzwgpycm-Fio7EyivRKOBN4D3tfQ_rpu)\n",
    "- [Вот этот плейлист про скрэппинг динамического контента](https://www.youtube.com/playlist?list=PLRzwgpycm-FgQ9lP_JTfrCa9O573XiJph)"
   ]
  }
 ],
 "metadata": {
  "kernelspec": {
   "display_name": "Python 3 (ipykernel)",
   "language": "python",
   "name": "python3"
  },
  "language_info": {
   "codemirror_mode": {
    "name": "ipython",
    "version": 3
   },
   "file_extension": ".py",
   "mimetype": "text/x-python",
   "name": "python",
   "nbconvert_exporter": "python",
   "pygments_lexer": "ipython3",
   "version": "3.10.12"
  }
 },
 "nbformat": 4,
 "nbformat_minor": 5
}
