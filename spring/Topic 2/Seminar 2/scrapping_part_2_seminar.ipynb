{
 "cells": [
  {
   "cell_type": "markdown",
   "id": "a351970f-a5c4-4ad7-a08c-d619f4581a75",
   "metadata": {},
   "source": [
    "# Часть 1: аутентификация, работа с API"
   ]
  },
  {
   "cell_type": "markdown",
   "id": "a66e0aa4-56c7-430d-a40f-86356ef39326",
   "metadata": {},
   "source": [
    "## Методы аутентификации\n",
    "\n",
    "| Метод | Что это и как работает | Где используется | Примеры сервисов | Плюсы | Минусы |\n",
    "|--------|------------------------|------------------|------------------|--------|--------|\n",
    "| **Session-based аутентификация** | При входе на сервере создается сессия (отправляется POST-запрос с credentials в его теле), а клиент получает `session_id` в составе cookies в ответ. При каждом запросе сервер проверяет эту сессию | Веб-приложения с авторизацией | Wordpress, интернет-магазины | Удобно для пользователей, так как позволяет избежать необходимости авторизовываться при каждом запросе ресурса | Не подходит для API*, требует хранения сессий на сервере |\n",
    "| **API-ключи** | Клиент получает уникальный ключ (alphanumeric string) и передает его в заголовке запроса или в URL. Такой ключ генерируется как правило один раз при регистрации на сервисе, как правило не имеет срока действия и используется для предоставления общего доступа к ресурсу (т.е. не содержит в себе **scope**) | Открытые API, публичные сервисы | OpenWeather, NASA API, Кинопоиск | Простая реализация, удобство в использовании | Если передавать в URL, можно легко перехватить (например, через реферер)* |\n",
    "| **Basic-аутентификация** | Логин и пароль кодируются в Base64 (бинарные данные кодируются с помощью 64 ascii-символов) и передаются в заголовке `Authorization: Basic <encoded_credentials>`. | Закрытые API, внутренние сервисы | Примеры в документации REST API, старые API-интерфейсы | Простота использования (не требует сложных механизмов) | Низкая безопасность (логин и пароль могут быть украдены, даже в Base64) |\n",
    "| **Bearer-аутентификация** | Клиент получает `access_token`, который передается в заголовке `Authorization: Bearer <token>`. Токен действует ограниченное время | API, требующие аутентификации | Spotify API, GitHub API| Безопаснее, чем логин и пароль, можно легко отозвать токен | Токен истекает, его нужно обновлять |\n",
    "| **OAuth 2.0 (Open Authorization)** | Клиент получает `access_token` через процесс авторизации (например, через редиректы и выдачу разрешений пользователем). | API от имени пользователя | Google API, Facebook API, Twitter API, Spotify API | Позволяет давать доступ к сервису без передачи пароля | Сложен в реализации, требует дополнительных шагов |\n",
    "\n",
    "**Справка**\n",
    "\n",
    "1) Session-based аутентификация не подходит для API в основном по следующим причинам:\n",
    "- API (особенно RESTful) по своей сути без состояния (stateless). Это означает, что каждый запрос к серверу должен **уже** содержать всю необходимую информацию для обработки, включая информацию о пользователе, его аутентификации и авторизации. Этот принцип (в REST) помогает хранить гораздо меньше информации о пользователе и облегчает масштабируемость\n",
    "- Куки привязаны к конкретной пользовательской сессии на конкретном устройстве (в то время как ключ/токен можно выдать что называется platform-agnostic)\n",
    "2) Из ограничений API-ключей:\n",
    "- Ключ генерируется один раз и не истекает --> проблемы с безопасностью\n",
    "- Ключ не содержит информации о правах доступа конкретного пользователя\n",
    "- Часто процесс генерации происходит через веб-интерфейс (т.е. закодить сложнее)"
   ]
  },
  {
   "cell_type": "markdown",
   "id": "8a7d4cef-181c-4e01-929e-e7af56ef0589",
   "metadata": {},
   "source": [
    "### API-ключи"
   ]
  },
  {
   "cell_type": "markdown",
   "id": "aa540960-a9a2-4479-930e-57717e7f2b4a",
   "metadata": {},
   "source": [
    "#### Небольшая вставка (`pathlib` vs `urllib`)\n",
    "\n",
    "В то время как pathlib является модулем, которым стоит пользоваться, когда мы работаем с путями до объектов внутри файловой системы, при работе с адресами URL лучше использовать другие решения (например, urllib)"
   ]
  },
  {
   "cell_type": "code",
   "execution_count": 125,
   "id": "aa539bd7-bc0f-4007-b1fb-f2f7b7ffffe1",
   "metadata": {},
   "outputs": [
    {
     "name": "stdout",
     "output_type": "stream",
     "text": [
      "Объединение через pathlib: https:/somesite.com/catalogue_name\n",
      "Объединение через urllib: https://somesite.com/catalogue_name\n"
     ]
    }
   ],
   "source": [
    "import pathlib\n",
    "import urllib\n",
    "from urllib.parse import urljoin\n",
    "\n",
    "\n",
    "base_url = \"https://somesite.com\"\n",
    "catalogue = \"catalogue_name\"\n",
    "\n",
    "\n",
    "\n",
    "# pathlib\n",
    "print(f\"Объединение через pathlib: {pathlib.Path(base_url) / catalogue}\")\n",
    "\n",
    "# urllib\n",
    "print(f\"Объединение через urllib: {urljoin(base_url, catalogue)}\")"
   ]
  },
  {
   "cell_type": "markdown",
   "id": "7193b2b8-4ced-4537-b9e5-60dfec1e3db2",
   "metadata": {},
   "source": [
    "[Небольшой ридинг про urllib](https://arjancodes.com/blog/using-python-urllib-module-for-web-scraping-and-url-parsing/)"
   ]
  },
  {
   "cell_type": "markdown",
   "id": "91760f89-eaed-4f5b-a1e0-dc9cde847e64",
   "metadata": {},
   "source": [
    "Метод `urllib.parse.urlparse` можно использовать для извлечения частей URL-адреса:"
   ]
  },
  {
   "cell_type": "code",
   "execution_count": 130,
   "id": "48e51d87-ad3f-462f-9354-2049a8434d70",
   "metadata": {},
   "outputs": [
    {
     "name": "stdout",
     "output_type": "stream",
     "text": [
      "Full path: https://somesite.com/catalogue_name\n",
      "Scheme: https\n",
      "Hostname: somesite.com\n",
      "Path after hostname: /catalogue_name\n"
     ]
    }
   ],
   "source": [
    "from urllib.parse import urlparse\n",
    "\n",
    "base_url = \"https://somesite.com\"\n",
    "catalogue = \"catalogue_name\"\n",
    "full_url = urljoin(base_url, catalogue)\n",
    "\n",
    "\n",
    "parsed_url = urlparse(full_url)\n",
    "print(f\"Full path: {full_url}\")\n",
    "print(f\"Scheme: {parsed_url.scheme}\")\n",
    "print(f\"Hostname: {parsed_url.hostname}\")  # есть ещё netloc, который бы вернул название хоста + порта (можете попробовать с адресом типа http://localhost:8888/lab/tree)\n",
    "print(f\"Path after hostname: {parsed_url.path}\")"
   ]
  },
  {
   "cell_type": "markdown",
   "id": "4a995a8d-1f6e-4c62-80fe-948e2437a6c9",
   "metadata": {},
   "source": [
    "Вернёмся к кинопоиску!\n",
    "\n",
    "---"
   ]
  },
  {
   "cell_type": "markdown",
   "id": "f807b9ca-005e-48d3-997e-49e0021b6cca",
   "metadata": {},
   "source": [
    "__Пример: Кинопоиск__:\n",
    "1) Заходим на сайт с [документацией](https://api.kinopoisk.dev/documentation)\n",
    "2) Как описано в документации кинопоиска, для официального доступа к их API нужно получить токен через телеграм-бота (ссылка на бота в документации)\n",
    "3) В данном примере я выбираю бесплатный тариф (на момент подготовки семинара это 200 запросов в сутки)\n",
    "4) Получаю токен и создаю следующую строку в созданном рядом с данном ноутбуком `.env` файле: `kinopoisk_key=xxx...`"
   ]
  },
  {
   "cell_type": "code",
   "execution_count": 132,
   "id": "118a999b-6a3f-4537-b973-2e9d960447ef",
   "metadata": {},
   "outputs": [
    {
     "data": {
      "text/plain": [
       "True"
      ]
     },
     "execution_count": 132,
     "metadata": {},
     "output_type": "execute_result"
    }
   ],
   "source": [
    "from dotenv import load_dotenv\n",
    "import os\n",
    "\n",
    "# все токены/ключи, используемые в данном семинаре, я буду хранить в отдельном .env файле\n",
    "# процесс получения описан текстом + демонстрируется на семинаре\n",
    "load_dotenv()"
   ]
  },
  {
   "cell_type": "code",
   "execution_count": 133,
   "id": "04e0cfc9-fc15-4b24-b255-6f38f8d77c5a",
   "metadata": {},
   "outputs": [],
   "source": [
    "kinopoisk_key = os.getenv(\"kinopoisk_key\")"
   ]
  },
  {
   "cell_type": "markdown",
   "id": "f40b2a8d-3357-4346-8808-5077ba40df22",
   "metadata": {},
   "source": [
    "Давайте попробуем с помощью полученного ключа достать какое-то количество фильмов в жанре триллер за 2024 год"
   ]
  },
  {
   "cell_type": "code",
   "execution_count": 139,
   "id": "3823b8b9-7279-42a4-9aec-9bda68135c1f",
   "metadata": {},
   "outputs": [],
   "source": [
    "import requests\n",
    "\n",
    "def get_kinopoisk_endpoint(endpoint_name: str, params: dict, headers={}):\n",
    "    base_url=\"https://api.kinopoisk.dev/v1/\"\n",
    "\n",
    "    full_url = urljoin(base_url, endpoint_name)\n",
    "    resp = requests.get(full_url, params=params, headers=headers)\n",
    "\n",
    "    return resp"
   ]
  },
  {
   "cell_type": "code",
   "execution_count": 142,
   "id": "b469972f-93fa-4ca3-8b02-e6a4bc0269c1",
   "metadata": {},
   "outputs": [],
   "source": [
    "endpoint_name = \"movie/possible-values-by-field\"\n",
    "params = {\"field\": \"genres.name\"}\n",
    "headers = {\"X-API-KEY\": kinopoisk_key}\n",
    "\n",
    "resp = get_kinopoisk_endpoint(endpoint_name, params, headers=headers)  # нам нужно найти триллеры"
   ]
  },
  {
   "cell_type": "code",
   "execution_count": 151,
   "id": "c4beb3f8-6268-4314-808f-983aca36810d",
   "metadata": {},
   "outputs": [],
   "source": [
    "endpoint_name = \"movie\"\n",
    "params = {\"genres.name\": \"триллер\", \n",
    "         \"page\": \"1\", \n",
    "         \"limit\": \"250\",\n",
    "         \"year\": \"2024\"}\n",
    "headers = {\"X-API-KEY\": kinopoisk_key}\n",
    "resp = get_kinopoisk_endpoint(endpoint_name, params, headers=headers)  # теперь осталось изучить структуру полученного json-объекта"
   ]
  },
  {
   "cell_type": "code",
   "execution_count": 154,
   "id": "88c4249a-074f-4850-8fb7-a8800f911e93",
   "metadata": {},
   "outputs": [],
   "source": [
    "jsonized_response = resp.json()"
   ]
  },
  {
   "cell_type": "code",
   "execution_count": 155,
   "id": "a17b8497-8033-4277-8418-fc2e89f52954",
   "metadata": {},
   "outputs": [
    {
     "data": {
      "text/plain": [
       "dict_keys(['docs', 'total', 'limit', 'page', 'pages'])"
      ]
     },
     "execution_count": 155,
     "metadata": {},
     "output_type": "execute_result"
    }
   ],
   "source": [
    "jsonized_response.keys()"
   ]
  },
  {
   "cell_type": "markdown",
   "id": "dd920534-3e51-4875-aaaa-e9c09c9b69bc",
   "metadata": {},
   "source": [
    "## Про Basic-аутентификацию и Bearer-токены"
   ]
  },
  {
   "cell_type": "markdown",
   "id": "2f48b3e4-8b9f-4872-b6c2-c582458ca4ab",
   "metadata": {},
   "source": [
    "__Basic-аутентификация__ заключается в передаче в заголовке отдельного параметра `Authorization`, который устанавливается в что-то вроде `Basic <encoded_credentials>`, где `<encoded_credentials>` - это закодированные в base64, например, логин и пароль (или аналоги)\n",
    "\n",
    "Такой формат аутентификации как правило не используется как самостоятельный, однако в лекции мы видели на примере Spotify API, как с помощью basic-аутентификации мы отправляем `client_id` (аналог логина для приложения) и `client_secret` (аналог пароля), в ответ получая `Bearer-token`\n",
    "\n",
    "__Bearer-токены__ как правило используется в качестве **элемента** процесса аутентификации, поскольку эти токены должны откуда-то взяться (для их получения, например, нужно сформировать какой-то POST-запрос или проделать набор шагов через веб-интерфейс сервиса). Токены являются как правило набором символов, которые мы тоже передаем в заголовке `Authorization` вместе с запросом. Значение параметра как правило имеет вид `Bearer <token>`, где `<токен>` - какая-то строка"
   ]
  },
  {
   "cell_type": "markdown",
   "id": "67176942-be91-45b1-9c08-823b704c4778",
   "metadata": {},
   "source": [
    "# Часть 2: Selenium"
   ]
  },
  {
   "cell_type": "markdown",
   "id": "a8513a15-bef8-4bb7-9a09-7650563d5431",
   "metadata": {},
   "source": [
    "## Введение"
   ]
  },
  {
   "cell_type": "markdown",
   "id": "71a3c3e3-364d-4bec-8e33-7f11c02a85a4",
   "metadata": {},
   "source": [
    "__Почему requests + BeautifulSoup не всегда работают?__\n",
    "- **Requests** и **BeautifulSoup** — отличные инструменты для парсинга статических HTML-страниц. Однако они не могут работать с контентом, который генерируется динамически с помощью JavaScript\n",
    "- Например, если сайт загружает данные с помощью JavaScript после первоначальной загрузки страницы, запрос через `requests` не получит нужный контент (requests не выполняет JavaScript-код)\n",
    "- В таких случаях для парсинга (и скрэппинга перед ним) нужно использовать инструменты, которые могут взаимодействовать с браузером, такие как **Selenium** \n",
    "\n",
    "__Что такое Selenium?__\n",
    "- [**Selenium**](https://www.selenium.dev/) — это библиотека для автоматизации браузеров (открытие страниц, клики, ввод текста, скроллы и т.д.)\n",
    "- Selenium может управлять реальными браузерами, такими как Chrome, Firefox, и другие, что позволяет работать с динамическим контентом, который генерируется с помощью JavaScript\n",
    "\n",
    "__Как работает WebDriver (Chromedriver, Geckodriver)__\n",
    "- **WebDriver** — это интерфейс для взаимодействия с браузером.\n",
    "- **Chromedriver** — это инструмент, который позволяет Selenium управлять браузером Google Chrome.\n",
    "- **Geckodriver** — аналог для браузера Mozilla Firefox.\n",
    "- Эти драйвера необходимы для того, чтобы Selenium мог взаимодействовать с конкретным браузером."
   ]
  },
  {
   "cell_type": "code",
   "execution_count": 62,
   "id": "8bdd4ba6-0a5d-41aa-a00c-d223f2dc1aa0",
   "metadata": {},
   "outputs": [],
   "source": [
    "# раскомментируйте строчку ниже для установки Selenium'а\n",
    "# !pip install selenium"
   ]
  },
  {
   "cell_type": "markdown",
   "id": "aaa48a5c-5900-41a9-af43-be30f3db9fa7",
   "metadata": {},
   "source": [
    "__Минимальный пример работы:__"
   ]
  },
  {
   "cell_type": "code",
   "execution_count": 4,
   "id": "6b851bba-0115-4d8c-bcf7-6639de5c9d94",
   "metadata": {},
   "outputs": [],
   "source": [
    "from selenium import webdriver  # импортируем вебдрайвер\n",
    "import time\n",
    "# импортируем объект для доступа к различным локаторам \n",
    "# примеры таких локаторов в документации https://www.selenium.dev/selenium/docs/api/py/webdriver/selenium.webdriver.common.by.html\n",
    "from selenium.webdriver.common.by import By"
   ]
  },
  {
   "cell_type": "code",
   "execution_count": 173,
   "id": "ce4758f7-2aa2-43ce-82c4-cb5cd218e8ed",
   "metadata": {},
   "outputs": [],
   "source": [
    "driver = webdriver.Chrome()  # инициализируем веб-драйвер\n",
    "\n",
    "driver.get(\"https://student.itmo.ru/ru/dormitory/\")  # переходим на веб-страницу с общежитями ИТМО"
   ]
  },
  {
   "cell_type": "code",
   "execution_count": 177,
   "id": "61cfb9b2-d8dc-48a5-914e-5b1780b0cd32",
   "metadata": {},
   "outputs": [],
   "source": [
    "cat_page_navig = driver.find_element(by=By.CLASS_NAME, value=\"catalog-page__navigation-link.icon-arrow-left\")  # выбираем объекты по CSS-селекторуtime.sleep(2)  # здесь ожидание вставлено для удобства демонстрации"
   ]
  },
  {
   "cell_type": "code",
   "execution_count": 184,
   "id": "d3da21f7-e753-42c4-99df-664350bbdc8a",
   "metadata": {},
   "outputs": [],
   "source": [
    "time.sleep(2)\n",
    "cat_page_navig.click()"
   ]
  },
  {
   "cell_type": "code",
   "execution_count": 185,
   "id": "d96fbc58-cfac-4a29-a0e3-ca8be22967f8",
   "metadata": {},
   "outputs": [],
   "source": [
    "driver.quit()  # закрываем драйвер; любые попытки взаимодействия с драйвером после этой строки приведут к выбросу ошибки"
   ]
  },
  {
   "cell_type": "markdown",
   "id": "bd7cc735-6308-4568-9f50-e4d1392d43b2",
   "metadata": {},
   "source": [
    "**Примечание**\n",
    "\n",
    "Если хочется получить доступ ко всему HTML-коду веб-страницы, можно посмотреть в атрибут `driver.page_source`"
   ]
  },
  {
   "cell_type": "markdown",
   "id": "1c227b38-5ebf-433c-934f-669e7c433595",
   "metadata": {},
   "source": [
    "## Наиболее частые локаторы"
   ]
  },
  {
   "cell_type": "markdown",
   "id": "e93aa6f1-6b3c-48d0-86af-92cde72426b3",
   "metadata": {},
   "source": [
    "**Локаторы** – это способы поиска элементов на веб-странице. Selenium предоставляет несколько типов локаторов, которые позволяют нам идентифицировать нужные элементы, чтобы взаимодействовать с ними (например, заполнять формы, кликать по кнопкам или извлекать текст).\n",
    "\n",
    "В то время как Selenium из коробки предлагает работу с несколькими локаторами, для нас наиболее частыми скорее всего будут следующие:\n",
    "\n",
    "- `TAG_NAME` – поиск элемента по его HTML-тегу\n",
    "- `CLASS_NAME` – поиск элемента по его классу\n",
    "- `CSS_SELECTOR` – поиск элемента с использованием CSS-селекторов"
   ]
  },
  {
   "cell_type": "markdown",
   "id": "f16ae30c-5c95-49a5-8660-d8f5755147f5",
   "metadata": {},
   "source": [
    "Давайте рассмотрим каждый из этих локаторов на примере вот такого HTML-документа:\n",
    "\n",
    "```\n",
    "<!DOCTYPE html>\n",
    "<html lang=\"en\">\n",
    "<head>\n",
    "  <meta charset=\"UTF-8\">\n",
    "  <meta name=\"viewport\" content=\"width=device-width, initial-scale=1.0\">\n",
    "  <title>HTML Locators Example</title>\n",
    "</head>\n",
    "<body>\n",
    "  <h1>Welcome to the Locators Demo</h1>\n",
    "  \n",
    "  <div id=\"container\">\n",
    "    <p class=\"description\">This is a sample paragraph.</p>\n",
    "    <p id=\"intro\">Intro paragraph.</p>\n",
    "    \n",
    "    <ul class=\"list\">\n",
    "      <li><a href=\"https://example.com\">Example Link 1</a></li>\n",
    "      <li><a href=\"https://example2.com\">Example Link 2</a></li>\n",
    "      <li><a href=\"https://example3.com\">Example Link 3</a></li>\n",
    "    </ul>\n",
    "    \n",
    "    <button id=\"submit-button\">Submit</button>\n",
    "    \n",
    "    <div class=\"form-group\">\n",
    "      <label for=\"username\">Username:</label>\n",
    "      <input type=\"text\" id=\"username\" name=\"username\" value=\"john_doe\">\n",
    "    </div>\n",
    "    \n",
    "    <form id=\"form1\">\n",
    "      <input type=\"checkbox\" id=\"terms\" name=\"terms\"> Accept Terms and Conditions\n",
    "      <input type=\"submit\" value=\"Submit\">\n",
    "    </form>\n",
    "  </div>\n",
    "  \n",
    "  <footer>\n",
    "    <p>Contact us at <a href=\"mailto:support@example.com\">support@example.com</a></p>\n",
    "  </footer>\n",
    "</body>\n",
    "</html>\n",
    "```\n",
    "\n",
    "В отличие от `bs4`, для рассмотрения такой страницы через Selenium, нам нужно как-то открыть её в браузере. Для сохраним веб-страницу локально (в текстовый файл) и откроем его через Selenium. Далее мы будем честно извлекать веб-страницы по не локальным URL-адресам"
   ]
  },
  {
   "cell_type": "code",
   "execution_count": 186,
   "id": "9e3bc3d3-5d5d-429d-8c7b-5aafbef0ca64",
   "metadata": {},
   "outputs": [],
   "source": [
    "selenium_html_example = '''\n",
    "<!DOCTYPE html>\n",
    "<html lang=\"en\">\n",
    "<head>\n",
    "  <meta charset=\"UTF-8\">\n",
    "  <meta name=\"viewport\" content=\"width=device-width, initial-scale=1.0\">\n",
    "  <title>HTML Locators Example</title>\n",
    "</head>\n",
    "<body>\n",
    "  <h1>Welcome to the Locators Demo</h1>\n",
    "  \n",
    "  <div id=\"container\">\n",
    "    <p class=\"description\">This is a sample paragraph.</p>\n",
    "    <p id=\"intro\">Intro paragraph.</p>\n",
    "    \n",
    "    <ul class=\"list\">\n",
    "      <li><a href=\"https://example.com\">Example Link 1</a></li>\n",
    "      <li><a href=\"https://example2.com\">Example Link 2</a></li>\n",
    "      <li><a href=\"https://example3.com\">Example Link 3</a></li>\n",
    "    </ul>\n",
    "    \n",
    "    <button id=\"submit-button\">Submit</button>\n",
    "    \n",
    "    <div class=\"form-group\">\n",
    "      <label for=\"username\">Username:</label>\n",
    "      <input type=\"text\" id=\"username\" name=\"username\" value=\"john_doe\">\n",
    "    </div>\n",
    "    \n",
    "    <form id=\"form1\">\n",
    "      <input type=\"checkbox\" id=\"terms\" name=\"terms\"> Accept Terms and Conditions\n",
    "      <input type=\"submit\" value=\"Submit\">\n",
    "    </form>\n",
    "  </div>\n",
    "  \n",
    "  <footer>\n",
    "    <p>Contact us at <a href=\"mailto:support@example.com\">support@example.com</a></p>\n",
    "  </footer>\n",
    "</body>\n",
    "</html>\n",
    "'''\n",
    "\n",
    "with open(\"selenium_html_example.html\", \"w\") as f:\n",
    "    f.write(selenium_html_example)"
   ]
  },
  {
   "cell_type": "code",
   "execution_count": 60,
   "id": "965e0ae2-7dcb-4023-b338-1901812aa926",
   "metadata": {},
   "outputs": [],
   "source": [
    "from pathlib import Path\n",
    "\n",
    "# Получаем абсолютный путь к файлу\n",
    "html_file_path = Path(\"selenium_html_example.html\").resolve()\n",
    "\n",
    "# Открываем файл в браузере\n",
    "driver = webdriver.Chrome()\n",
    "driver.get(f\"file://{html_file_path}\")"
   ]
  },
  {
   "cell_type": "markdown",
   "id": "c7769a83-e186-4788-920a-888ea60e001d",
   "metadata": {},
   "source": [
    "#### Локатор TAG_NAME"
   ]
  },
  {
   "cell_type": "markdown",
   "id": "e422d299-5160-4b33-917e-a1b3aaf232e9",
   "metadata": {},
   "source": [
    "Этот метод позволяет находить элементы по их HTML-тегу. Например, чтобы найти все \\<p>-поля на странице:"
   ]
  },
  {
   "cell_type": "code",
   "execution_count": 188,
   "id": "4be35508-94e1-4343-a0f9-14f5560f44f8",
   "metadata": {},
   "outputs": [],
   "source": [
    "driver = webdriver.Chrome()\n",
    "driver.get(f\"file://{html_file_path}\")"
   ]
  },
  {
   "cell_type": "code",
   "execution_count": 189,
   "id": "098e13a4-02f6-4112-bf28-a3a6ddaabb21",
   "metadata": {},
   "outputs": [],
   "source": [
    "inputs = driver.find_elements(by=By.TAG_NAME, value=\"p\")"
   ]
  },
  {
   "cell_type": "code",
   "execution_count": 200,
   "id": "b2e16438-7ffe-42ce-9eee-414df3731b8a",
   "metadata": {},
   "outputs": [
    {
     "name": "stdout",
     "output_type": "stream",
     "text": [
      "Found p element: <p>Contact us at <a href=\"mailto:support@example.com\">support@example.com</a></p>\n",
      "Found <p> tag contains: Contact us at support@example.com\n"
     ]
    }
   ],
   "source": [
    "# мы можем вывести найденный элемент вместе с его разметкой через .get_attribute(\"outerHTML\")\n",
    "index_ = 2\n",
    "\n",
    "found_input_0 = inputs[index_].get_attribute(\"outerHTML\")\n",
    "print(f\"Found p element: {found_input_0}\")\n",
    "\n",
    "# или достать какую-то информацию из найденного тега (например, текст)\n",
    "print(f\"Found <p> tag contains: {inputs[index_].text}\")"
   ]
  },
  {
   "cell_type": "code",
   "execution_count": 201,
   "id": "c70efe39-312e-4fcc-a88e-4b50e6f7a95a",
   "metadata": {},
   "outputs": [],
   "source": [
    "driver.quit()"
   ]
  },
  {
   "cell_type": "markdown",
   "id": "007f966c-ef6f-491d-b01a-6ebfef2c3230",
   "metadata": {},
   "source": [
    "#### Локатор CLASS_NAME"
   ]
  },
  {
   "cell_type": "markdown",
   "id": "7c47aaff-50e2-412c-be95-34ebe79815fa",
   "metadata": {},
   "source": [
    "Этот метод ищет элементы по их CSS-классу. Например, найдем все поля ввода с классом `list` (такой всего один):"
   ]
  },
  {
   "cell_type": "code",
   "execution_count": 202,
   "id": "85688c41-4866-426b-9731-8bb08c24913e",
   "metadata": {},
   "outputs": [],
   "source": [
    "driver = webdriver.Chrome()\n",
    "driver.get(f\"file://{html_file_path}\")"
   ]
  },
  {
   "cell_type": "code",
   "execution_count": 203,
   "id": "acbfb541-1458-481f-a7e4-53b75af6e93b",
   "metadata": {},
   "outputs": [],
   "source": [
    "# Находим все элементы с классом \"list\"\n",
    "list_field = driver.find_element(By.CLASS_NAME, \"list\")\n"
   ]
  },
  {
   "cell_type": "code",
   "execution_count": 209,
   "id": "6ecdf89f-3d90-44fe-87d7-6b03d708f8ce",
   "metadata": {},
   "outputs": [
    {
     "name": "stdout",
     "output_type": "stream",
     "text": [
      "First element's text: Example Link 1\n"
     ]
    }
   ],
   "source": [
    "# Далее достанем первый элемент списка\n",
    "li_tags = list_field.find_elements(By.TAG_NAME, \"li\")\n",
    "\n",
    "# И выведем текст первого элемента списка\n",
    "print(f\"First element's text: {li_tags[0].text}\")"
   ]
  },
  {
   "cell_type": "markdown",
   "id": "8544704c-bebd-4fb5-8051-4dfdff99b5ab",
   "metadata": {},
   "source": [
    "#### Локатор CSS_SELECTOR"
   ]
  },
  {
   "cell_type": "markdown",
   "id": "5b8a300c-c4b3-4255-9fee-617b26ee621d",
   "metadata": {},
   "source": [
    "`CSS-локаторы` позволяют искать элементы на основе правил, аналогичных тем, что используются в CSS-стилях. Это мощный инструмент для навигации по DOM-структуре.\n",
    "\n",
    "`DOM` – это структура HTML-документа в виде дерева объектов, где каждый элемент страницы представлен как узел (node). Браузер строит DOM после загрузки страницы, и JavaScript (или Selenium) может взаимодействовать с ним, изменяя содержимое или структуру.\n",
    "\n",
    "Подробнее про DOM [здесь](https://blog.skillfactory.ru/glossary/dom/)"
   ]
  },
  {
   "cell_type": "markdown",
   "id": "47aed789-24fd-4aed-b60f-f52d7a2000a9",
   "metadata": {},
   "source": [
    "__CSS__ (Cascading Style Sheets / Каскадные таблицы стилей) используется для стилизации HTML-страниц. Стили как правило задаются в отдельном файле, хотя могут быть и явно заданы внутри HTML-кода\n",
    "\n",
    "Пример (этот код применяет стили к любому элементу с class=\"information\"):\n",
    "\n",
    "```\n",
    ".information {\n",
    "  background-color: white;\n",
    "  color: black;\n",
    "  padding: 10px;\n",
    "}\n",
    "```\n",
    "\n",
    "__CSS-селектор__ — это выражение, используемое для выбора HTML-элементов на веб-странице на основе их тегов, классов, идентификаторов, атрибутов и структуры документа. В контексте Selenium CSS-селекторы позволяют находить элементы на странице для взаимодействия (клика, ввода текста, проверки свойств и т.д.)\n",
    "\n",
    "Посмотрим на примеры поиска по CSS-селекторам!"
   ]
  },
  {
   "cell_type": "code",
   "execution_count": 61,
   "id": "ea068bd4-e67e-4c4b-a063-6325abb0d71d",
   "metadata": {},
   "outputs": [],
   "source": [
    "driver = webdriver.Chrome()\n",
    "driver.get(f\"file://{html_file_path}\")"
   ]
  },
  {
   "cell_type": "code",
   "execution_count": 211,
   "id": "0ac438d1-1133-4229-9007-5eb0f8538b7a",
   "metadata": {},
   "outputs": [
    {
     "name": "stdout",
     "output_type": "stream",
     "text": [
      "Element by ID: This is a sample paragraph.\n",
      "Intro paragraph.\n",
      "Example Link 1\n",
      "Example Link 2\n",
      "Example Link 3\n",
      "Submit\n",
      "Username:\n",
      "Accept Terms and Conditions\n"
     ]
    }
   ],
   "source": [
    "# 1. Поиск по ID\n",
    "# Поиск элемента по ID (например, элемент с ID \"container\")\n",
    "element_by_id = driver.find_element(By.CSS_SELECTOR, \"#container\")\n",
    "print(\"Element by ID:\", element_by_id.text)"
   ]
  },
  {
   "cell_type": "code",
   "execution_count": 213,
   "id": "325ff2f7-2260-45c0-81db-3560b2f269d2",
   "metadata": {},
   "outputs": [
    {
     "name": "stdout",
     "output_type": "stream",
     "text": [
      "Element by Class: This is a sample paragraph.\n"
     ]
    }
   ],
   "source": [
    "# 2. Поиск по классу\n",
    "# Поиск элемента по классу (например, элемент с классом \"description\")\n",
    "element_by_class = driver.find_element(By.CSS_SELECTOR, \".description\")\n",
    "print(\"Element by Class:\", element_by_class.text)"
   ]
  },
  {
   "cell_type": "code",
   "execution_count": 217,
   "id": "313ee285-2a46-4627-b3e3-c74e1988d74c",
   "metadata": {},
   "outputs": [
    {
     "name": "stdout",
     "output_type": "stream",
     "text": [
      "Input Element by Attribute: john_doe\n"
     ]
    }
   ],
   "source": [
    "# 3. Поиск по атрибуту\n",
    "# Поиск элемента по атрибуту (например, <input> с атрибутом name='username')\n",
    "input_element = driver.find_element(By.CSS_SELECTOR, \"input[name='username']\")\n",
    "print(\"Input Element by Attribute:\", input_element.get_attribute('value'))"
   ]
  },
  {
   "cell_type": "code",
   "execution_count": 218,
   "id": "0b41c0f8-09bf-4dd6-a5a6-f1f55b1a7e2b",
   "metadata": {},
   "outputs": [
    {
     "name": "stdout",
     "output_type": "stream",
     "text": [
      "First Paragraph: This is a sample paragraph.\n"
     ]
    }
   ],
   "source": [
    "# 4. Поиск по тегу\n",
    "# Поиск первого элемента <p> на странице\n",
    "first_paragraph = driver.find_element(By.CSS_SELECTOR, \"p\")\n",
    "print(\"First Paragraph:\", first_paragraph.text)"
   ]
  },
  {
   "cell_type": "markdown",
   "id": "7c858553-b9eb-4797-909e-502f77c3096d",
   "metadata": {},
   "source": [
    "```\n",
    "<ul class=\"list\">\n",
    "    <li><a href=\"https://example.com\">Example Link 1</a></li>\n",
    "```"
   ]
  },
  {
   "cell_type": "code",
   "execution_count": 220,
   "id": "9c4f7f5c-2be8-4c16-9854-fdfd4b7450fc",
   "metadata": {},
   "outputs": [
    {
     "name": "stdout",
     "output_type": "stream",
     "text": [
      "First Link in List: Example Link 1\n"
     ]
    }
   ],
   "source": [
    "# 5. Поиск дочернего элемента\n",
    "# Поиск элемента <a> внутри элемента <li> (первый элемент списка)\n",
    "link_in_list = driver.find_element(By.CSS_SELECTOR, \"ul.list li a\")\n",
    "print(\"First Link in List:\", link_in_list.text)"
   ]
  },
  {
   "cell_type": "markdown",
   "id": "0c9d4726-7ca8-4719-b52f-8816b6772ecd",
   "metadata": {},
   "source": [
    "**Справка**\n",
    "\n",
    "Синтаксис \"ul.list li a\" — это CSS-селектор, который используется для поиска дочерних элементов в иерархической структуре HTML. Давайте посмотрим поближе:\n",
    "\n",
    "- `ul.list`: Это означает, что мы ищем элемент \\<ul> (неупорядоченный список), у которого есть класс list. Таким образом, мы ищем `<ul class=\"list\">`.\n",
    "- `li`: После этого у нас идет тег \\<li>. Этот селектор ищет все элементы списка \\<li>, которые являются дочерними элементами внутри найденного элемента `<ul class=\"list\">`.\n",
    "- `a`: Наконец, это означает, что мы ищем элементы \\<a> внутри каждого элемента \\<li>. Таким образом, этот селектор будет искать все ссылки \\<a>, которые находятся внутри каждого элемента списка.\n",
    "\n",
    "__Важно:__\n",
    "\n",
    "Этот селектор не обязательно ищет прямого потомка на каждом уровне. Он будет искать все элементы, которые соответствуют цепочке **ul.list → li → a**. \n",
    "\n",
    "То есть \\<a> может быть не прямым потомком \\<li>, а любым потомком внутри, что важно для вложенных структур"
   ]
  },
  {
   "cell_type": "code",
   "execution_count": 67,
   "id": "5f034f3f-9b53-4858-b7cd-a30699832dfa",
   "metadata": {},
   "outputs": [
    {
     "name": "stdout",
     "output_type": "stream",
     "text": [
      "First List Item: Example Link 1\n"
     ]
    }
   ],
   "source": [
    "# 6. Поиск с псевдоклассом\n",
    "# Поиск первого элемента <li> в списке\n",
    "first_list_item = driver.find_element(By.CSS_SELECTOR, \"ul.list li:first-child\")\n",
    "print(\"First List Item:\", first_list_item.text)"
   ]
  },
  {
   "cell_type": "markdown",
   "id": "8175ff5f-f163-4a47-8611-062825aeaa33",
   "metadata": {},
   "source": [
    "Подробнее про псевдоклассы с примерами можно посмотреть [здесь](https://developer.mozilla.org/ru/docs/Web/CSS/Pseudo-classes)"
   ]
  },
  {
   "cell_type": "markdown",
   "id": "bfbda291-09b8-4ed7-b9e3-96a2d4c1dfad",
   "metadata": {},
   "source": [
    "## Работа с динамическим контентом, важное"
   ]
  },
  {
   "cell_type": "markdown",
   "id": "b5826e66-d719-4aa1-b0b1-d3ea76a007d6",
   "metadata": {},
   "source": [
    "Перед тем как мы попрактикуемся в веб-скрэппинге с использованием Selenium, нам нужно разобрать несколько моментов"
   ]
  },
  {
   "cell_type": "markdown",
   "id": "084f8664-4ae2-4709-875b-f31a2304c401",
   "metadata": {},
   "source": [
    "Веб-страницы могут загружать контент не сразу при открытии, а динамически, в зависимости от действий пользователя или запроса к \n",
    "серверу. Это делается для улучшения производительности и удобства взаимодействия с сайтом.\n",
    "\n",
    "Примеры динамической подгрузки контента:\n",
    "\n",
    "- Лента соцсетей загружается по мере прокрутки (например, лента ВК)\n",
    "- Подтягивание данных при вводе (автодополнение в поиске, например, гугл)\n",
    "- Кнопка \"Показать ещё\" загружает дополнительные товары в интернет-магазине\n",
    "- Комментарии под статьями появляются только после клика на \"Открыть комментарии\" (без редиректа на новую веб-страницу)\n"
   ]
  },
  {
   "cell_type": "markdown",
   "id": "319eab6c-75ea-40d8-8787-f3f86537595c",
   "metadata": {},
   "source": [
    "__Что такое AJAX-запросы?__\n",
    "\n",
    "__AJAX (Asynchronous JavaScript and XML)__ — это технология, позволяющая веб-странице запрашивать данные с сервера без полной перезагрузки страницы\n",
    "\n",
    "Как работает AJAX:\n",
    "\n",
    "- Пользователь выполняет действие (например, кликает на кнопку \"Загрузить ещё\")\n",
    "- JavaScript отправляет асинхронный HTTP-запрос к серверу\n",
    "- Сервер обрабатывает запрос и отправляет данные (обычно в формате JSON)\n",
    "- JavaScript обновляет страницу, добавляя полученные данные, без её перезагрузки"
   ]
  },
  {
   "cell_type": "markdown",
   "id": "b9bcaec7-c3d4-4a9d-9126-7bc267feb7c8",
   "metadata": {},
   "source": [
    "При работе с динамическим контентом для нас важны два момента:\n",
    "- Триггер подгрузки элементов (скролл / нажатие на кнопку / ввод текста / что-то ещё)\n",
    "- Ожидание подгрузки элемента/элементов\n",
    "\n",
    "Поговорим про ожидание и перейдем к практике!"
   ]
  },
  {
   "cell_type": "markdown",
   "id": "82e38f02-1296-4523-909f-d93dcf6f1f9a",
   "metadata": {},
   "source": [
    "#### Про ожидание ответа"
   ]
  },
  {
   "cell_type": "markdown",
   "id": "7b081d16-54f5-48af-accc-8545bfd6a58d",
   "metadata": {},
   "source": [
    "При работе с Selenium браузер не всегда загружает все элементы сразу. \n",
    "Иногда контент подгружается асинхронно (например, через AJAX), что делает стандартный поиск элементов ненадежным – Selenium может пытаться найти элемент до того, как он появился на странице.\n",
    "\n",
    "Чтобы избежать ошибок типа `NoSuchElementException` и `StaleElementReferenceException` (когда-то найденный элемент больше не доступен), используется механизм ожиданий (Waits)"
   ]
  },
  {
   "cell_type": "markdown",
   "id": "34440b72-b539-4f5f-abf9-56c69cec34d7",
   "metadata": {},
   "source": [
    "__Виды ожиданий в Selenium__\n",
    "\n",
    "В Selenium есть три типа ожиданий:\n",
    "- **Неявные ожидания (Implicit Wait)**. Глобально ждут появления любого элемента перед выполнением следующей команды\n",
    "- **Явные ожидания (Explicit Wait)**. Ожидают конкретное условие (например, появление элемента) в течение заданного времени\n",
    "- **Принудительная задержка (time.sleep)**. Останавливает выполнение кода на фиксированное время (неэффективно и нежелательно)"
   ]
  },
  {
   "cell_type": "markdown",
   "id": "84ffc870-333c-4b0d-a4da-a9e323394e35",
   "metadata": {},
   "source": [
    "Подробнее про ожидания в [документации](https://www.selenium.dev/documentation/webdriver/waits/)"
   ]
  },
  {
   "cell_type": "markdown",
   "id": "cef63ecb-9270-4fc9-85cc-e6731318c9bd",
   "metadata": {},
   "source": [
    "__Пример Implicit ожидания:__"
   ]
  },
  {
   "cell_type": "code",
   "execution_count": null,
   "id": "e14b7611-e52a-4491-be62-1444ac963886",
   "metadata": {},
   "outputs": [],
   "source": [
    "# пример не сработает\n",
    "\n",
    "driver = webdriver.Chrome()\n",
    "\n",
    "driver.get(\"https://itmo.ru/\")\n",
    "burger_menu = driver.find_elements(by=By.CSS_SELECTOR, value=\".NavItem_container__fbdal\")[2]\n",
    "burger_menu.click()\n",
    "driver.find_element(by=By.CSS_SELECTOR, value=\".Accordion_heading__link__FYF1W\").click()"
   ]
  },
  {
   "cell_type": "code",
   "execution_count": 226,
   "id": "af391214-f625-4d0f-a45f-dadd60fc09af",
   "metadata": {},
   "outputs": [],
   "source": [
    "driver.quit()"
   ]
  },
  {
   "cell_type": "code",
   "execution_count": null,
   "id": "d064798c-0ab8-448c-a1bc-37740e8e2e50",
   "metadata": {},
   "outputs": [],
   "source": [
    "# пример сработает\n",
    "\n",
    "driver = webdriver.Chrome()\n",
    "driver.implicitly_wait(5)  # глобальная настройка ожидания до 5 секунд при каждом вызове find_elements\n",
    "\n",
    "driver.get(\"https://itmo.ru/\")\n",
    "burger_menu = driver.find_elements(by=By.CSS_SELECTOR, value=\".NavItem_container__fbdal\")[2]\n",
    "burger_menu.click()\n",
    "driver.find_element(by=By.CSS_SELECTOR, value=\".Accordion_heading__link__FYF1W\").click()"
   ]
  },
  {
   "cell_type": "markdown",
   "id": "2ca6f6c8-e620-4fd8-b7a1-af077c8ce939",
   "metadata": {},
   "source": [
    "__Пример Explicit ожидания__"
   ]
  },
  {
   "cell_type": "code",
   "execution_count": 8,
   "id": "5793546a-b3e8-4da8-b787-39cde985f465",
   "metadata": {},
   "outputs": [],
   "source": [
    "from selenium.webdriver.support.wait import WebDriverWait\n",
    "from selenium.webdriver.support import expected_conditions as EC"
   ]
  },
  {
   "cell_type": "code",
   "execution_count": null,
   "id": "c19d9d82-0e57-4c57-9492-21a0f63238a7",
   "metadata": {},
   "outputs": [],
   "source": [
    "driver = webdriver.Chrome()\n",
    "driver.get(\"https://itmo.ru/\")\n",
    "\n",
    "burger_menu = driver.find_elements(by=By.CSS_SELECTOR, value=\".NavItem_container__fbdal\")[2]\n",
    "burger_menu.click()\n",
    "\n",
    "wait = WebDriverWait(driver, timeout=3)\n",
    "button = wait.until(EC.element_to_be_clickable((By.CSS_SELECTOR, \".Accordion_heading__link__FYF1W\")))\n",
    "\n",
    "button.click()"
   ]
  },
  {
   "cell_type": "markdown",
   "id": "7e5257ed-8237-4d13-874a-e74654879b77",
   "metadata": {},
   "source": [
    "__Частые explicit условия (EC.***)__\n",
    "\n",
    "| Условие                                   | Описание                                         |\n",
    "|-------------------------------------------|-------------------------------------------------|\n",
    "| `element_to_be_clickable((By., \"\"))`      | Элемент стал кликабельным                      |\n",
    "| `presence_of_element_located((By., \"\"))`  | Элемент появился в DOM (но не обязательно видим) |\n",
    "| `visibility_of_element_located((By., \"\"))`| Элемент появился и стал видимым                 |\n",
    "| `text_to_be_present_in_element((By., \"\"), \"текст\")` | В элементе появился нужный текст |\n"
   ]
  },
  {
   "cell_type": "markdown",
   "id": "ba08b4a5-3ece-4e5a-8e21-7338bf943b86",
   "metadata": {},
   "source": [
    "# Часть 3: Практика Selenium"
   ]
  },
  {
   "cell_type": "markdown",
   "id": "bc0d17c0-e916-442d-8778-59febdc4a923",
   "metadata": {},
   "source": [
    "## Кейс 1: Lamoda и \"показать ещё\""
   ]
  },
  {
   "cell_type": "code",
   "execution_count": 2,
   "id": "3222d02f-e7e1-423a-9955-558ec4e9693e",
   "metadata": {},
   "outputs": [],
   "source": [
    "driver = webdriver.Chrome()\n",
    "driver.get(\"https://www.lamoda.ru/c/151/shoes-muzhskie-botinki/?sitelink=topmenuM&l=2&page=1\")"
   ]
  },
  {
   "cell_type": "code",
   "execution_count": 232,
   "id": "f6d09d25-e130-4fae-bdbe-906c6d1b8821",
   "metadata": {},
   "outputs": [],
   "source": [
    "button = driver.find_element(by=By.CLASS_NAME, value=\"x-button.x-button_secondaryFilledWeb7184.x-button_40._showMore_z1yqr_2\")"
   ]
  },
  {
   "cell_type": "code",
   "execution_count": 234,
   "id": "e2fe68e3-56d4-43e4-bcc7-6545e8550f6f",
   "metadata": {},
   "outputs": [],
   "source": [
    "time.sleep(2)\n",
    "button.click()"
   ]
  },
  {
   "cell_type": "markdown",
   "id": "dadcc37d-5511-42d0-9316-54ce0353d151",
   "metadata": {},
   "source": [
    "## Кейс 2: Yandex.Market и динамическая подгрузка через скролл"
   ]
  },
  {
   "cell_type": "markdown",
   "id": "a157214c-1586-4e4a-ac27-758bb6329152",
   "metadata": {},
   "source": [
    "1. Зайдем на яндекс.маркет\n",
    "2. Впишем в форму поиска название какого-то товара\n",
    "3. Кликнем \"Найти\"\n",
    "4. Проскроллим до конца"
   ]
  },
  {
   "cell_type": "code",
   "execution_count": null,
   "id": "345c1730-2e7d-4220-9c5c-1c514f4c4950",
   "metadata": {},
   "outputs": [],
   "source": [
    "driver = webdriver.Chrome()\n",
    "driver.get(\"https://market.yandex.ru/\")"
   ]
  },
  {
   "cell_type": "code",
   "execution_count": null,
   "id": "b7f88245-16a0-4c2f-a913-8fef87e12699",
   "metadata": {},
   "outputs": [],
   "source": [
    "driver_options = webdriver.ChromeOptions()\n",
    "driver_options.add_argument(\"--disable-blink-feature=AutomationControlled\")\n",
    "driver_options.add_argument(\"user-agent=Mozilla/5.0 (X11; Linux x86_64; rv:133.0) Gecko/20100101 Firefox/133.0\")\n",
    "\n",
    "driver = webdriver.Chrome(options=driver_options)\n",
    "driver.get('https://market.yandex.ru/')"
   ]
  },
  {
   "cell_type": "code",
   "execution_count": 238,
   "id": "971bbb24-7c33-479b-a913-ea2d071dadf3",
   "metadata": {},
   "outputs": [],
   "source": [
    "search_field = driver.find_element(By.ID, \"header-search\")\n",
    "time.sleep(2)\n",
    "search_field.click()"
   ]
  },
  {
   "cell_type": "code",
   "execution_count": 239,
   "id": "9f9d1fca-9005-4bb4-9c03-5fc02dc46a16",
   "metadata": {},
   "outputs": [],
   "source": [
    "search_field.send_keys(\"чайник фарфоровый\")"
   ]
  },
  {
   "cell_type": "code",
   "execution_count": 240,
   "id": "1c047f57-65fe-44a6-abf8-863217f51a3e",
   "metadata": {},
   "outputs": [],
   "source": [
    "find_button = driver.find_element(By.CSS_SELECTOR, \"button[type='submit']\")\n",
    "time.sleep(2)\n",
    "find_button.click()"
   ]
  },
  {
   "cell_type": "markdown",
   "id": "53c0eddf-2e45-439c-a4b3-c4fad60c105b",
   "metadata": {},
   "source": [
    "[Про скроллинг](https://www.selenium.dev/documentation/webdriver/actions_api/wheel/)"
   ]
  },
  {
   "cell_type": "code",
   "execution_count": 11,
   "id": "fb96cfe0-d964-479f-b7c2-44f24ba58db7",
   "metadata": {},
   "outputs": [],
   "source": [
    "from selenium.webdriver import ActionChains"
   ]
  },
  {
   "cell_type": "code",
   "execution_count": 219,
   "id": "d6566275-d254-4198-b992-c7a4772871d6",
   "metadata": {},
   "outputs": [],
   "source": [
    "time.sleep(2)\n",
    "product_containers = driver.find_elements(by=By.CLASS_NAME, value=\"cia-cs.Gqfzd\")\n",
    "ActionChains(driver).scroll_to_element(product_containers[-1]).perform()"
   ]
  },
  {
   "cell_type": "markdown",
   "id": "a26d4138-4af7-4cf9-8095-5dcc48776df9",
   "metadata": {},
   "source": [
    "## Кейс 3 (продолжение): Яндекс.Маркет и переключение между окнами"
   ]
  },
  {
   "cell_type": "code",
   "execution_count": 12,
   "id": "2735b9bb-19b2-4872-92f3-ba85f2a46f30",
   "metadata": {},
   "outputs": [],
   "source": [
    "driver_options = webdriver.ChromeOptions()\n",
    "driver_options.add_argument(\"--disable-blink-feature=AutomationControlled\")\n",
    "driver_options.add_argument(\"user-agent=Mozilla/5.0 (X11; Linux x86_64; rv:133.0) Gecko/20100101 Firefox/133.0\")\n",
    "\n",
    "driver = webdriver.Chrome(options=driver_options)\n",
    "driver.get('https://market.yandex.ru/')"
   ]
  },
  {
   "cell_type": "code",
   "execution_count": 14,
   "id": "896aeaf0-66f5-4bcd-9c91-59c9d4599bf9",
   "metadata": {},
   "outputs": [],
   "source": [
    "# ждём, пока не появится всплывающее окно, предлагающее получить какой-то бонус (оно перекрывает доступ ко всей странице)\n",
    "wait = WebDriverWait(driver, timeout=10)  # будем ждать, пока окно не появится, в течение 10 секунд\n",
    "popup_window_to_close = wait.until(EC.element_to_be_clickable((By.CSS_SELECTOR, \"._2veCe.cia-vs\")))\n",
    "\n",
    "location = popup_window_to_close.location  # Словарь с координатами {\"x\": <x-координата>, \"y\": <y-координата>}\n",
    "size = popup_window_to_close.size  # Словарь с размерами {\"width\": <ширина>, \"height\": <высота>}\n",
    "\n",
    "# Координаты верхнего левого угла\n",
    "x, y = location['x'], location['y']\n",
    "# +10% вверх от размера рекламного блока \n",
    "to_top_10 = int(size['height']*0.1)\n",
    "\n",
    "# Теперь можно использовать эти координаты для выполнения цепочки действий:\n",
    "# передвинуть мышку за пределы всплывающего блока -> нажать клик по координате (x, y-to_top_10) \n",
    "actions = ActionChains(driver)\n",
    "actions.move_by_offset(x, y-to_top_10).click().perform()"
   ]
  },
  {
   "cell_type": "code",
   "execution_count": 15,
   "id": "d746a8a6-5a43-4646-abe3-fe054ce86c13",
   "metadata": {},
   "outputs": [],
   "source": [
    "# находим поисковую строку\n",
    "search_field = driver.find_element(By.ID, \"header-search\")\n",
    "search_field.click()  \n",
    "\n",
    "# вбиваем поисковый запрос \"чайник фарфоровый\"\n",
    "search_field.send_keys(\"чайник фарфоровый\")\n",
    "\n",
    "# находим кнопку \"Найти\", чтобы отправить поисковый запрос\n",
    "find_button = driver.find_element(By.CSS_SELECTOR, \"button[type='submit']\")\n",
    "find_button.click()\n",
    "\n",
    "# находим список всех товаров (здесь - включая промо-товары)\n",
    "product_containers = driver.find_elements(by=By.CLASS_NAME, value=\"_2rw4E._2O5qi\")\n",
    "# кликаем на первый товар\n",
    "first_item = product_containers[0]\n",
    "# находим изображение (thumbnail) первого товара\n",
    "item_image = first_item.find_element(by=By.CSS_SELECTOR, value='div[class=\"cia-vs\"][data-baobab-name=\"pictureGallery\"]')\n"
   ]
  },
  {
   "cell_type": "code",
   "execution_count": 32,
   "id": "d1ea3089-6ebd-4d86-a8ac-0b0a320efc38",
   "metadata": {},
   "outputs": [],
   "source": [
    "# перед открытием товара (он откроется в другой вкладке) сохраним адрес текущей открытой вкладки\n",
    "all_items_window = driver.current_window_handle\n",
    "# теперь кликаем по thumbnail'у товара (откроется новая вкладка)\n",
    "item_image.click()"
   ]
  },
  {
   "cell_type": "markdown",
   "id": "26cb9194-2ebe-4067-8324-76091922c051",
   "metadata": {},
   "source": [
    "[Про работу с окнами](https://www.selenium.dev/documentation/webdriver/interactions/windows/)"
   ]
  },
  {
   "cell_type": "code",
   "execution_count": 33,
   "id": "9d0494fa-e986-4e2c-aa36-df3c1e83a7a5",
   "metadata": {},
   "outputs": [
    {
     "name": "stdout",
     "output_type": "stream",
     "text": [
      "['F4E206CE20292B17E7EEC1B0CACB0B74', '010123DFD327FFC5DA3AAAE0992C463C']\n"
     ]
    }
   ],
   "source": [
    "# получим список открытых на данный момент вкладок\n",
    "windows = driver.window_handles\n",
    "print(windows)"
   ]
  },
  {
   "cell_type": "code",
   "execution_count": 36,
   "id": "75d90c8d-e521-4d56-b90d-47a79a85e1f7",
   "metadata": {},
   "outputs": [
    {
     "data": {
      "text/plain": [
       "False"
      ]
     },
     "execution_count": 36,
     "metadata": {},
     "output_type": "execute_result"
    }
   ],
   "source": [
    "# убедимся в том, что мы сейчас находимся в новой вкладке \n",
    "driver.current_window_handle != all_items_window"
   ]
  },
  {
   "cell_type": "code",
   "execution_count": 37,
   "id": "581b2ec8-e09b-4ad7-bd90-1d13d818032b",
   "metadata": {},
   "outputs": [],
   "source": [
    "# если выражений оценено как False, надо переключиться на новую вкладку\n",
    "driver.switch_to.window(windows[-1])  # переключиться на последнюю вкладку"
   ]
  },
  {
   "cell_type": "code",
   "execution_count": 38,
   "id": "09561e5a-64ef-4e9f-9648-20306c0098a8",
   "metadata": {},
   "outputs": [
    {
     "data": {
      "text/plain": [
       "True"
      ]
     },
     "execution_count": 38,
     "metadata": {},
     "output_type": "execute_result"
    }
   ],
   "source": [
    "# убедимся в том, что мы сейчас находимся в новой вкладке (теперь должно быть True)\n",
    "driver.current_window_handle != all_items_window"
   ]
  },
  {
   "cell_type": "markdown",
   "id": "4bcc2141-4f82-4ee8-a1ab-f2fe087b2081",
   "metadata": {},
   "source": [
    "# Вставка про установку Selenium driver"
   ]
  },
  {
   "cell_type": "markdown",
   "id": "f2f1b055-8835-492b-98f5-6e59d9d86bdd",
   "metadata": {},
   "source": [
    "Для того, чтобы мы могли инициализировать виртуальный браузер, необходим драйвер (считайте, что это объект-интерфейс) для доступа к этому самому браузеру"
   ]
  },
  {
   "cell_type": "markdown",
   "id": "0b8c1133-513d-4740-a802-37f27a4f03cb",
   "metadata": {},
   "source": [
    "Если инициализация драйвера как `driver = webdriver.Chrome()` приводит к ошибке типа Unable to Locate Driver, то скорее всего драйвер не установлен\n",
    "\n",
    "Если он установлен, вы можете найти информацию о его версии, а также узнать, где именно он установлен, выполнив скрипт ниже"
   ]
  },
  {
   "cell_type": "code",
   "execution_count": 40,
   "id": "c22b52b6-ee52-44cd-8f2a-98c1a78dafb4",
   "metadata": {},
   "outputs": [
    {
     "name": "stdout",
     "output_type": "stream",
     "text": [
      "Chrome Browser Version: 129.0.6668.89\n",
      "ChromeDriver Version: 129.0.6668.100 (cf58cba358d31ce285c1970a79a9411d0fb381a5-refs/branch-heads/6668@{#1704})\n",
      "ChromeDriver Path: /home/kiri/.cache/selenium/chromedriver/linux64/129.0.6668.100/chromedriver\n"
     ]
    }
   ],
   "source": [
    "from selenium import webdriver\n",
    "\n",
    "driver = webdriver.Chrome()\n",
    "version = driver.capabilities['browserVersion']  # получить доступ к версии браузера\n",
    "chromedriver_version = driver.capabilities['chrome']['chromedriverVersion']  # получить доступ к версии драйвера\n",
    "print(f\"Chrome Browser Version: {version}\")\n",
    "print(f\"ChromeDriver Version: {chromedriver_version}\")\n",
    "print(f\"ChromeDriver Path: {driver.service.path}\")\n",
    "driver.quit()"
   ]
  },
  {
   "cell_type": "markdown",
   "id": "5a41143c-2caf-44ed-858a-0f112d7e599c",
   "metadata": {},
   "source": [
    "Обратите внимание на то, что версия драйвера и версия браузера должны совпадать по первой чиселке (в примере выше это 129)"
   ]
  },
  {
   "cell_type": "markdown",
   "id": "b5cf2950-0fd6-47a9-b18b-565dd84e0e1c",
   "metadata": {},
   "source": [
    "Если драйвер не установлен, его можно установить двумя способами:\n",
    "- Скачать нужный драйвер и добавить путь до него в переменную PATH\n",
    "- Использовать утилиту `webdriver-manager`, которая возьмёт установку (и трекинг обновлений) драйвера на себя"
   ]
  },
  {
   "cell_type": "markdown",
   "id": "ecbc9bd4-13f7-46d1-ada0-ed22ecff65ef",
   "metadata": {},
   "source": [
    "### Способ 1"
   ]
  },
  {
   "cell_type": "markdown",
   "id": "4e44d3f8-f3bd-4014-8b0e-97125fe8b05f",
   "metadata": {},
   "source": [
    "1. Устанавливаем драйвер для нужного браузера из [этого списка](https://www.selenium.dev/documentation/webdriver/troubleshooting/errors/driver_location/#download-the-driver)\n",
    "\n",
    "**Примечания**\n",
    "- В списке по ссылке выше неверная ссылка на драйвера хрома. Драйвер для хрома можно скачать по [этой ссылке](https://googlechromelabs.github.io/chrome-for-testing/#stable) - берёте из канала Stable под вашу ОС.\n",
    "- Версия драйвера должна совпадать с вашей версией браузера (например, хрома). Ссылка выше ведет на страницу с последней версией драйвера. Если вам нужна другая версия, вы можете найти её среди [этих эндпоинтов](https://googlechromelabs.github.io/chrome-for-testing/known-good-versions-with-downloads.json)\n",
    "\n",
    "2. После скачивания драйвера распаковываем архив с ним и добавляем путь до вашего драйвера в переменную PATH ([пример здесь](https://www.selenium.dev/documentation/webdriver/troubleshooting/errors/driver_location/)). Путь должен заканчиваться на `chromedriver.exe` для Windows и `chromedriver` на Linux/MacOS\n",
    "\n",
    "Можно либо поместить веб-драйвер внутрь вашего проекта (в целом, тогда и в переменную PATH класть не нужно, но при инициализации драйвера нужно будет каждый раз указывать до него путь), либо поместить в какое-то типичное глобальное место, типа:\n",
    "- `C:\\Program Files\\chromedriver\\` на Windows\n",
    "- `usr/local/bin` на Linux/MacOS "
   ]
  },
  {
   "cell_type": "markdown",
   "id": "1558c062-6e57-45d3-a6cc-9e2bbbda0bfc",
   "metadata": {},
   "source": [
    "### Способ 2"
   ]
  },
  {
   "cell_type": "markdown",
   "id": "4cae3d69-5761-45ea-b7ba-dd66988f37b6",
   "metadata": {},
   "source": [
    "1. Устанавливаем нужный драйвер для нужного браузера, как в способе выше\n",
    "2. Устанавливаем пакет `webdriver-manager` (`pip install webdriver-manager`)\\\n",
    "3. Инициализируем драйвер следующим образом (на примере хрома):\n"
   ]
  },
  {
   "cell_type": "code",
   "execution_count": 55,
   "id": "c248e0c2-b74a-468f-89b0-6f79f6f6c4d0",
   "metadata": {},
   "outputs": [],
   "source": [
    "from selenium import webdriver\n",
    "from selenium.webdriver.chrome.service import Service as ChromeService\n",
    "from webdriver_manager.chrome import ChromeDriverManager\n",
    "\n",
    "driver = webdriver.Chrome(service=ChromeService(ChromeDriverManager().install()))"
   ]
  },
  {
   "cell_type": "code",
   "execution_count": 56,
   "id": "e09e5a7c-f35b-49d5-a1f2-18030faad762",
   "metadata": {},
   "outputs": [
    {
     "name": "stdout",
     "output_type": "stream",
     "text": [
      "Path to the cache: /home/kiri/.wdm/drivers/chromedriver/linux64/129.0.6668.100/chromedriver-linux64/chromedriver\n"
     ]
    }
   ],
   "source": [
    "print(f\"Path to the cache: {ChromeDriverManager().install()}\")"
   ]
  },
  {
   "cell_type": "markdown",
   "id": "9804ea11-8f03-4eb8-9e30-ba6c136cb5f0",
   "metadata": {},
   "source": [
    "Такой способ установки (и дальнейшего использования вебдрайвера) основан на том, что пакет `webdriver-manager` берёт на себя:\n",
    "- установку нужной версии веб-драйвера\n",
    "- кэширование нужной версии (драйвер ставится в `~/.wdm/` на Linux/macOS и в `C:\\Users\\YourUsername\\.wdm\\` на Windows)\n",
    "\n",
    "После установки можете либо инициализировать драйвер всегда, как выше (если драйвер уже установлен, повторная установка не требуется), либо сохранить путь до драйвера как системную переменную и вставлять её как путь, будет что-то типа `driver = webdriver.Chrome(chromedriver_path)`. Но смысла в этом мало, поскольку проще уж скачать драйвер и закинуть его в `PATH`, как в первом способе"
   ]
  },
  {
   "cell_type": "markdown",
   "id": "ac547c92-3e92-482a-896e-169c0b4b2bee",
   "metadata": {},
   "source": [
    "### UPD. Способ 3"
   ]
  },
  {
   "cell_type": "markdown",
   "id": "e2285892-f147-41c5-9be6-10ef3f7d8bd0",
   "metadata": {},
   "source": [
    "Утилита `chromedriver-autoinstaller` (для установки `pip install chromedriver-autoinstaller`) берёт на себя установку драйвера хром и помещения его в PATH (по крайней мере так заявлено)\n",
    "\n",
    "Для установки драйвера хром можно выполнить код ниже (скопировано из pypi-страницы утилиты)"
   ]
  },
  {
   "cell_type": "code",
   "execution_count": 58,
   "id": "21f1c81f-7b63-403a-ab50-54dc45ae7b2f",
   "metadata": {},
   "outputs": [],
   "source": [
    "from selenium import webdriver\n",
    "import chromedriver_autoinstaller\n",
    "\n",
    "\n",
    "chromedriver_autoinstaller.install()  # Check if the current version of chromedriver exists\n",
    "                                      # and if it doesn't exist, download it automatically,\n",
    "                                      # then add chromedriver to path\n",
    "\n",
    "driver = webdriver.Chrome()"
   ]
  }
 ],
 "metadata": {
  "kernelspec": {
   "display_name": "Python 3 (ipykernel)",
   "language": "python",
   "name": "python3"
  },
  "language_info": {
   "codemirror_mode": {
    "name": "ipython",
    "version": 3
   },
   "file_extension": ".py",
   "mimetype": "text/x-python",
   "name": "python",
   "nbconvert_exporter": "python",
   "pygments_lexer": "ipython3",
   "version": "3.10.12"
  }
 },
 "nbformat": 4,
 "nbformat_minor": 5
}
