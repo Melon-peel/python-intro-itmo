{
 "cells": [
  {
   "cell_type": "markdown",
   "id": "38c96976-a4e5-4e8a-bff3-2e9c7b6be280",
   "metadata": {},
   "source": [
    "# Очистка данных и регулярные выражения"
   ]
  },
  {
   "cell_type": "markdown",
   "id": "ba4aa09b-d9f8-408d-8799-df79991b5cea",
   "metadata": {},
   "source": [
    "Очистка данных — первый этап обработки информации (после её получения), который позволяет:\n",
    "\n",
    "- Удалить шум (лишние символы, HTML-теги, пробелы, стоп-слова)\n",
    "- Привести текст к единому формату (нижний регистр, единая кодировка)\n",
    "- Исправить ошибки (убрать дубликаты, заменить символы)\n",
    "- Подготовить данные для анализа или хранения"
   ]
  },
  {
   "cell_type": "markdown",
   "id": "c682c6e6-5c10-465e-a0ac-d9d28f6b0ea0",
   "metadata": {},
   "source": [
    "Для некоторых проблем подходят простые и уже знакомые нам решения"
   ]
  },
  {
   "cell_type": "code",
   "execution_count": 117,
   "id": "01a9a3b1-d306-4699-939b-aa8d65243541",
   "metadata": {},
   "outputs": [
    {
     "data": {
      "text/plain": [
       "'   А мой   мальчик едет    на девятке\\nПо автостраде вдоль ночных дорог\\n   '"
      ]
     },
     "execution_count": 117,
     "metadata": {},
     "output_type": "execute_result"
    }
   ],
   "source": [
    "bad_text = '   А мой   мальчик едет    на девятке\\nПо автостраде вдоль ночных дорог\\n   '\n",
    "bad_text"
   ]
  },
  {
   "cell_type": "markdown",
   "id": "15653b8a-2091-4ba9-822c-8f7d2896508b",
   "metadata": {},
   "source": [
    "Например, в строке выше:\n",
    "- лишние обрамляющие пробелы\n",
    "- лишние пробелы внутри\n",
    "- внутренние избыточные символы переноса\n",
    "\n",
    "В данном случае можно обойтись встроенными методами строк"
   ]
  },
  {
   "cell_type": "markdown",
   "id": "260caefc-042a-4f40-ba45-3ad9b9fab146",
   "metadata": {},
   "source": [
    "Например, так:"
   ]
  },
  {
   "cell_type": "code",
   "execution_count": 323,
   "id": "949756d0-433a-41e1-b32b-f79b9d366f22",
   "metadata": {},
   "outputs": [
    {
     "name": "stdout",
     "output_type": "stream",
     "text": [
      "['А мой   мальчик едет    на девятке', 'По автостраде вдоль ночных дорог']\n",
      "['А мой мальчик едет на девятке', 'По автостраде вдоль ночных дорог']\n"
     ]
    }
   ],
   "source": [
    "# split будет разделять по пробельным символам и в том числе символам \\n переноса, если разделитель не передан\n",
    "# пустые строки будут удалены\n",
    "\n",
    "good_text = bad_text.strip().split(\"\\n\")  \n",
    "print(good_text)\n",
    "good_text = [\" \".join(i.split()) for i in good_text]\n",
    "print(good_text)"
   ]
  },
  {
   "cell_type": "markdown",
   "id": "d0808d86-633b-4e47-ba48-a4583bb7aef2",
   "metadata": {},
   "source": [
    "Однако некоторые проблемы сложно эффективно решить через методы строк\n",
    "\n",
    "Например:\n",
    "- Удаление HTML-тегов\n",
    "- Обработка специальных символов из содержания веб-страницы после первичного парсинга\n",
    "- Мэтчинг номеров телефонов внутри текста в соответствии с заданным форматом"
   ]
  },
  {
   "cell_type": "markdown",
   "id": "f8157d4e-4c6b-4a24-9af6-725fb1609669",
   "metadata": {},
   "source": [
    "## Простые проблемы и их решения"
   ]
  },
  {
   "cell_type": "markdown",
   "id": "8e6f6823-f6fe-4d0f-b908-35ce9a41bee7",
   "metadata": {},
   "source": [
    "### Удаление пробелов и специальных символов "
   ]
  },
  {
   "cell_type": "markdown",
   "id": "686a3266-7770-40da-acfc-9bbd99a405c2",
   "metadata": {},
   "source": [
    "Здесь часто подойдут уже знакомые нам методы строк"
   ]
  },
  {
   "cell_type": "markdown",
   "id": "2a5e700d-33e6-4b8c-adcc-2a40d9abc42a",
   "metadata": {},
   "source": [
    "__Обрезка пробельных символов:__"
   ]
  },
  {
   "cell_type": "code",
   "execution_count": 45,
   "id": "8ec911af-eae6-453c-82ab-7da9993b68d2",
   "metadata": {},
   "outputs": [
    {
     "name": "stdout",
     "output_type": "stream",
     "text": [
      "Пример текста\n",
      "Пример текста   \n",
      "   Пример текста\n"
     ]
    }
   ],
   "source": [
    "text = \"   Пример текста   \"\n",
    "print(text.strip())   # \"Пример текста\"\n",
    "print(text.lstrip())  # \"Пример текста   \"\n",
    "print(text.rstrip())  # \"   Пример текста\""
   ]
  },
  {
   "cell_type": "markdown",
   "id": "2cc64755-8b48-4d48-8c46-c293b31b0d16",
   "metadata": {},
   "source": [
    "__Удаление отдельных символов:__"
   ]
  },
  {
   "cell_type": "code",
   "execution_count": 47,
   "id": "135af642-928e-4680-8beb-4b6ad82f88f0",
   "metadata": {},
   "outputs": [
    {
     "name": "stdout",
     "output_type": "stream",
     "text": [
      "hello world example.com\n"
     ]
    }
   ],
   "source": [
    "text = \"hello@world@example.com\"\n",
    "print(text.replace(\"@\", \" \"))  # \"hello world example.com\""
   ]
  },
  {
   "cell_type": "markdown",
   "id": "874026dd-31df-4150-b351-976314133325",
   "metadata": {},
   "source": [
    "__Удаление пунктуации:__"
   ]
  },
  {
   "cell_type": "code",
   "execution_count": 334,
   "id": "a88e1bde-a47d-4052-bd6e-c9cec7e220fe",
   "metadata": {},
   "outputs": [
    {
     "name": "stdout",
     "output_type": "stream",
     "text": [
      "Привет мир Как дела\n"
     ]
    }
   ],
   "source": [
    "import string\n",
    "\n",
    "text = \"Привет, мир! Как дела?\"\n",
    "clean_text = text.translate(str.maketrans(\"\", \"\", string.punctuation))\n",
    "print(clean_text)  # \"Привет мир Как дела\""
   ]
  },
  {
   "cell_type": "markdown",
   "id": "20ab450c-c5cf-44d2-b066-dcb3497437bd",
   "metadata": {},
   "source": [
    "`str.maketrans` создаёт словарь, согласно которому в строке будут произведены замены ключей на его значения\n",
    "\n",
    "Например, пара `{33: None}` означает, что символ `chr(33)` (\\u0021) будет удалён (символ ! -> None)"
   ]
  },
  {
   "cell_type": "code",
   "execution_count": 335,
   "id": "0b5c9bab-9e99-48ce-a633-f3218bd72626",
   "metadata": {},
   "outputs": [
    {
     "name": "stdout",
     "output_type": "stream",
     "text": [
      "\\u0021\n",
      "!\n"
     ]
    }
   ],
   "source": [
    "# для перевода чисел-ключей в кодпоинт юникод достаточно перевести числа-ключи в шестнадцатиричную систему:\n",
    "symbol = \"!\"\n",
    "unicode_codpoint = f\"\\\\u{ord(symbol):04x}\"\n",
    "print(unicode_codpoint)\n",
    "symbol_back = unicode_codpoint.encode(\"utf-8\").decode(\"unicode_escape\")\n",
    "print(symbol_back)"
   ]
  },
  {
   "cell_type": "markdown",
   "id": "68ffab6d-239a-4087-81ae-b2c920150b7a",
   "metadata": {},
   "source": [
    "### Удаление HTML-тегов"
   ]
  },
  {
   "cell_type": "code",
   "execution_count": 337,
   "id": "9f51a366-ae71-4b98-86d0-e11b2f5187b5",
   "metadata": {},
   "outputs": [],
   "source": [
    "html_text = \"<div><p>Привет, <a href='some_link.com'>друзья</a>!</p></div>\""
   ]
  },
  {
   "cell_type": "markdown",
   "id": "5b194762-3bda-4bcf-a376-9d9a63915ece",
   "metadata": {},
   "source": [
    "Как правило это уже знакомый нам интерфейс bs4 (например)"
   ]
  },
  {
   "cell_type": "code",
   "execution_count": 338,
   "id": "4f246707-c73c-4860-8049-8637a9419de8",
   "metadata": {},
   "outputs": [
    {
     "name": "stdout",
     "output_type": "stream",
     "text": [
      "Привет, друзья!\n"
     ]
    }
   ],
   "source": [
    "from bs4 import BeautifulSoup\n",
    "\n",
    "soup = BeautifulSoup(html_text, \"html.parser\")\n",
    "clean_text = soup.get_text()\n",
    "print(clean_text) "
   ]
  },
  {
   "cell_type": "markdown",
   "id": "ee7c8c88-dc95-438a-a806-f40c59480a79",
   "metadata": {},
   "source": [
    "Иногда полезно делать замены html-кода, который лежит внутри нашего \"супа\" перед извлечением тегов/текста:"
   ]
  },
  {
   "cell_type": "code",
   "execution_count": 339,
   "id": "42a83a6e-825e-4ee6-bc47-a739aa56d095",
   "metadata": {},
   "outputs": [
    {
     "name": "stdout",
     "output_type": "stream",
     "text": [
      "<span class=\"ReferentFragment-desktop__Highlight-sc-380d78dd-1 fIkrDi\">\n",
      " А мой мальчик едет на девятке\n",
      " <br/>\n",
      " По автостраде вдоль ночных дорог\n",
      "</span>\n",
      "\n",
      "\n",
      "А мой мальчик едет на девяткеПо автостраде вдоль ночных дорог\n",
      "\n"
     ]
    }
   ],
   "source": [
    "html_text = \"\"\"\n",
    "<span class=\"ReferentFragment-desktop__Highlight-sc-380d78dd-1 fIkrDi\">А мой мальчик едет на девятке<br>По автостраде вдоль ночных дорог</span>\n",
    "\"\"\"\n",
    "\n",
    "soup = BeautifulSoup(html_text, \"html.parser\")\n",
    "print(soup.prettify())\n",
    "clean_text = soup.get_text()\n",
    "print(clean_text)"
   ]
  },
  {
   "cell_type": "markdown",
   "id": "b61f69bf-5cc0-4307-abb3-60444715c701",
   "metadata": {},
   "source": [
    "- Найдем тег, который мы хотим заменить (в данном случае это тег \\<br>)\n",
    "- Заменим его на `\\n` (т.к. это аналог переноса строки)"
   ]
  },
  {
   "cell_type": "code",
   "execution_count": 342,
   "id": "90cd9792-738d-4ed4-9171-8178b3c02749",
   "metadata": {},
   "outputs": [
    {
     "name": "stdout",
     "output_type": "stream",
     "text": [
      "<br/>\n"
     ]
    }
   ],
   "source": [
    "br_tag = soup.find(\"br\")\n",
    "print(br_tag)"
   ]
  },
  {
   "cell_type": "code",
   "execution_count": 343,
   "id": "7dfb9e8b-d6a1-40b8-927e-bada6c6e363c",
   "metadata": {},
   "outputs": [
    {
     "data": {
      "text/plain": [
       "<br/>"
      ]
     },
     "execution_count": 343,
     "metadata": {},
     "output_type": "execute_result"
    }
   ],
   "source": [
    "br_tag.replace_with(\"\\n\")"
   ]
  },
  {
   "cell_type": "code",
   "execution_count": 347,
   "id": "34885649-3c39-4bad-b94c-aa2f5c9368e3",
   "metadata": {},
   "outputs": [
    {
     "name": "stdout",
     "output_type": "stream",
     "text": [
      "<span class=\"ReferentFragment-desktop__Highlight-sc-380d78dd-1 fIkrDi\">\n",
      " А мой мальчик едет на девятке\n",
      " По автостраде вдоль ночных дорог\n",
      "</span>\n",
      "\n",
      "\n",
      "А мой мальчик едет на девятке\n",
      "По автостраде вдоль ночных дорог\n",
      "\n"
     ]
    }
   ],
   "source": [
    "print(soup.prettify())\n",
    "\n",
    "clean_text = soup.get_text()\n",
    "print(clean_text)"
   ]
  },
  {
   "cell_type": "markdown",
   "id": "933af1f0-8033-4d91-af89-77bc2a45b5b0",
   "metadata": {},
   "source": [
    "### Удаление специальных юникод-символов и HTML-сущностей"
   ]
  },
  {
   "cell_type": "markdown",
   "id": "c2ca20c5-85f6-402c-8259-1976938f0a29",
   "metadata": {},
   "source": [
    "При веб-скрэппинге могут появляться скрытые или неявные символы, которые не видны в DevTools (при просмотре HTML-кода в браузере или которые не отображаются \"явно\" при выводе строки через print), но появляются в обработанном тексте. Поэтому при парсинге веб-страниц мы иногда получаем что-то такое внутри извлеченного текста:\n",
    "- \\xa0\n",
    "- или такое: \\u2000\n",
    "- или такое: \\&lt;\n",
    "\n",
    "И может быть не совсем понятно, что с этим делать, поскольку вроде бы кодировка веб-страницы указана верно, но всё равно что-то не так"
   ]
  },
  {
   "cell_type": "markdown",
   "id": "f124eb19-ee79-456c-b28b-91a32cf08ef7",
   "metadata": {},
   "source": [
    "#### Из наиболее частого встречается следующее\n",
    "\n",
    "__1. Различные пробельные символы Unicode__:\n",
    "\n",
    "| Escape-код  | Unicode  | Название                           |\n",
    "|------------|---------|-----------------------------------|\n",
    "| `\\xa0`     | U+00A0  | Неразрывный пробел (NBSP) |\n",
    "| `\\u2000`   | U+2000  | En Quad (широкий пробел)          |\n",
    "| `\\u2001`   | U+2001  | Em Quad (ещё шире)                |\n",
    "| `\\u2002`   | U+2002  | En Space (как обычный пробел)     |\n",
    "\n",
    "__2. Управляющие символы Unicode__:\n",
    "| Escape-код  | Unicode  | Название                                        |\n",
    "|------------|---------|------------------------------------------------|\n",
    "| `\\u200B`   | U+200B  | Zero Width Space (пробел нулевой ширины, используется для скрытия текста) |\n",
    "| `\\u200C`   | U+200C  | Zero Width Non-Joiner (разрывает лигатуры)     |\n",
    "| `\\u200D`   | U+200D  | Zero Width Joiner (соединяет эмодзи, например 👨‍👩‍👧‍👦) |\n",
    "\n",
    "__3. Специальные кавычки и тире__:\n",
    "\n",
    "| Escape-код  | Символ | Unicode  | Название                          |\n",
    "|------------|--------|---------|----------------------------------|\n",
    "| `\\u2018`   | ‘      | U+2018  | Левая одинарная кавычка         |\n",
    "| `\\u2019`   | ’      | U+2019  | Правая одинарная кавычка (апостроф) |\n",
    "| `\\u201C`   | “      | U+201C  | Левые двойные кавычки           |\n",
    "\n",
    "__4. HTML-сущности__:\n",
    "\n",
    "| HTML      | Unicode  | Символ                                       |\n",
    "|-----------|---------|---------------------------------------------|\n",
    "| `&shy;`   | U+00AD  | Мягкий перенос (не отображается, но ломает текст) |\n",
    "| `&copy;`  | U+00A9  | ©                               |\n",
    "| `&reg;`   | U+00AE  | ®                              |\n",
    "| `&nbsp;`  | U+00A0  | Неразрывный пробел (не ломает текст)|\n",
    "| `&lt;`    | U+003C  | <                        |\n",
    "\n",
    "\n"
   ]
  },
  {
   "cell_type": "markdown",
   "id": "ab5f5ce6-4a8e-460e-923b-bbfa112ed990",
   "metadata": {},
   "source": [
    "- \\u — это нотация для Unicode-символов. В Python формат \\uXXXX используется для символов Unicode в диапазоне U+0000 – U+FFFF (16-битные символы) (или \\UXXXXXXXX для 32-битных юникод символов, здесь *U* заглавная)\n",
    "- \\x - нотация для 8-битных символов. В Python, если символ попадает в диапазон 0–255, он может быть записан в формате \\xXX\n",
    "- &...; - нотация для [HTML-сущностей](https://www.w3schools.com/html/html_entities.asp)"
   ]
  },
  {
   "cell_type": "markdown",
   "id": "9f6f79a7-7b05-466c-ae5c-73ad842a57f5",
   "metadata": {},
   "source": [
    "Что делать, если перед нами строки, которые содержат что-то из этого в явном виде? \n",
    "\n",
    "Например:"
   ]
  },
  {
   "cell_type": "code",
   "execution_count": 348,
   "id": "6fbbeb36-bd52-4416-b014-6afdbff7139f",
   "metadata": {},
   "outputs": [
    {
     "name": "stdout",
     "output_type": "stream",
     "text": [
      "Hello World!\n",
      "I love Python ❤️\n",
      "Hello&nbsp;World&copy; 2025\n"
     ]
    }
   ],
   "source": [
    "bad_str_8bit = \"Hello\\xa0World!\"\n",
    "print(bad_str_8bit)\n",
    "\n",
    "bad_str_unicode = \"I love Python \\u2764\\uFE0F\"\n",
    "print(bad_str_unicode)\n",
    "\n",
    "bad_str_html_entities = \"Hello&nbsp;World&copy; 2025\"\n",
    "print(bad_str_html_entities)"
   ]
  },
  {
   "cell_type": "markdown",
   "id": "fafed1e8-dbc7-4e02-a215-a397f86f0850",
   "metadata": {},
   "source": [
    "**Пример 1**: `Hello\\xa0World!`"
   ]
  },
  {
   "cell_type": "markdown",
   "id": "e88eacae-579d-4400-8e4f-154607c48b06",
   "metadata": {},
   "source": [
    "Здесь можно пойти двумя путями:"
   ]
  },
  {
   "cell_type": "markdown",
   "id": "5cdf0053-a8d4-41a6-a107-5fe47a0ad962",
   "metadata": {},
   "source": [
    "1) Оставить всё как есть (подходит, если строку мы будем использовать только для вывода)"
   ]
  },
  {
   "cell_type": "code",
   "execution_count": 349,
   "id": "5abd39d8-80dc-427c-a8fd-19ef60e2217c",
   "metadata": {},
   "outputs": [
    {
     "name": "stdout",
     "output_type": "stream",
     "text": [
      "Hello World!\n"
     ]
    }
   ],
   "source": [
    "print(bad_str_8bit)"
   ]
  },
  {
   "cell_type": "markdown",
   "id": "08a0c49c-4125-4ba5-9040-b35b5ee5e5e7",
   "metadata": {},
   "source": [
    "2) Сделать замену на ближайший по смыслу символ (например, в данном случае - на пробел) или вовсе удалить"
   ]
  },
  {
   "cell_type": "code",
   "execution_count": 162,
   "id": "65a3fce6-22d3-42dd-9d16-bddf862f9c2b",
   "metadata": {},
   "outputs": [
    {
     "name": "stdout",
     "output_type": "stream",
     "text": [
      "-1\n",
      "Hello World!\n",
      "5\n"
     ]
    }
   ],
   "source": [
    "spaced_bad_str_8bit = bad_str_8bit.replace(\"\\xa0\", \" \")\n",
    "print(bad_str_8bit.find(\" \"))\n",
    "\n",
    "print(spaced_bad_str_8bit)\n",
    "print(spaced_bad_str_8bit.find(\" \"))"
   ]
  },
  {
   "cell_type": "markdown",
   "id": "7296293d-18e1-4d05-9a24-0c61821a06c6",
   "metadata": {},
   "source": [
    "Минус второго подхода в том, что существует не единственный пробельный символ в кодировке UTF-8:\n",
    "- \\xa0\n",
    "- \\x09\n",
    "- \\xad\n",
    "- \\x20\n",
    "- и некоторые другие\n",
    "\n",
    "То есть в общем случае надо пытаться делать замены на вообще все пробельные символы (и это только в кодировке UTF-8, и это только пробелы). В следующем разделе посмотрим, как решить эту проблему относительно просто.\n",
    "\n",
    "А пока вот решение конкретно для пробельных символов"
   ]
  },
  {
   "cell_type": "code",
   "execution_count": 361,
   "id": "1d922db7-f0b0-4938-ae31-09416df71dfa",
   "metadata": {},
   "outputs": [
    {
     "name": "stdout",
     "output_type": "stream",
     "text": [
      "Zs\n",
      "5\n",
      "Hello World!\n"
     ]
    }
   ],
   "source": [
    "import unicodedata\n",
    "\n",
    "print(unicodedata.category(\"\\xa0\"))\n",
    "spaced_bad_str_8bit = ''.join(' ' if unicodedata.category(c) == 'Zs' else c for c in bad_str_8bit)\n",
    "print(spaced_bad_str_8bit.find(\" \"))\n",
    "print(spaced_bad_str_8bit)"
   ]
  },
  {
   "cell_type": "markdown",
   "id": "461c91d6-3e64-4dc1-99dd-c543e839f8e1",
   "metadata": {},
   "source": [
    "Список категорий символов юникод можно посмотреть [здесь](https://www.fileformat.info/info/unicode/category/index.htm)"
   ]
  },
  {
   "cell_type": "markdown",
   "id": "b66cf9fa-006b-4689-9cd8-b99dfb7bfa81",
   "metadata": {},
   "source": [
    "**Пример 2**: `I love Python \\u2764\\uFE0F` или `I\\u2000love\\u2000Python`"
   ]
  },
  {
   "cell_type": "markdown",
   "id": "461aa235-a3a4-49e9-bb43-4cb9ee54034c",
   "metadata": {},
   "source": [
    "Здесь также есть несколько вариантов решений:"
   ]
  },
  {
   "cell_type": "markdown",
   "id": "f8cdf57f-e18e-4b40-8546-90e272f60b86",
   "metadata": {},
   "source": [
    "1. Оставить всё как есть (тогда вас скорее всего устраивает наличие юникод-символов в вашей строке)"
   ]
  },
  {
   "cell_type": "code",
   "execution_count": 195,
   "id": "1347cc08-4663-4815-bb06-ef2f99b72ff3",
   "metadata": {},
   "outputs": [
    {
     "name": "stdout",
     "output_type": "stream",
     "text": [
      "I love Python ❤️\n",
      "I love Python\n"
     ]
    }
   ],
   "source": [
    "print('I love Python \\u2764\\uFE0F')\n",
    "print('I\\u2000love\\u2000Python')"
   ]
  },
  {
   "cell_type": "markdown",
   "id": "9b0216cc-ea01-4de2-8b4f-be4f8e10ef45",
   "metadata": {},
   "source": [
    "2. Удалить все юникод-символы"
   ]
  },
  {
   "cell_type": "markdown",
   "id": "b24a663b-41b7-4aca-af2c-df809bd7faab",
   "metadata": {},
   "source": [
    "Тут всё очень зависит от нашей цели.\n",
    "\n",
    "- Либо мы идём по пути, например, поиска всех невыводимых (undisplayable) [категорий юникод-символов](https://www.fileformat.info/info/unicode/category/index.htm) (т.е. выборочное удаление). Здесь решение зависит от того, какие символы мы хотим убрать, и сводится к копированию логики выше с поиском через unicodedata.category\n",
    "- Либо мы идем по пути [почти] полного удаления всех символов юникода, что на деле скорее означает удаление символов, которые не соответствуют какому-то алфавиту, числам и пунктуации. Решение для этого случая мы рассмотрим ниже (в блоке про регулярные выражения)"
   ]
  },
  {
   "cell_type": "markdown",
   "id": "e24e4774-7c23-4b5e-a618-2e4f7fc14be1",
   "metadata": {},
   "source": [
    "3. (для спец. символов) Привести символы юникод к некоторой единой форме (полезно для разных пробельных символов)"
   ]
  },
  {
   "cell_type": "code",
   "execution_count": 214,
   "id": "d82914c1-fefb-4eeb-8f55-79e680d91a3e",
   "metadata": {},
   "outputs": [
    {
     "name": "stdout",
     "output_type": "stream",
     "text": [
      "I love Python\n",
      "-1\n",
      "I love Python\n",
      "1\n"
     ]
    }
   ],
   "source": [
    "bad_str_unicode = 'I\\u2000love\\u2000Python'\n",
    "print(bad_str_unicode)\n",
    "print(bad_str_unicode.find(\" \"))\n",
    "\n",
    "normalized_unicode = unicodedata.normalize('NFKD', 'I\\u2000love\\u2000Python')\n",
    "print(normalized_unicode)\n",
    "print(normalized_unicode.find(\" \"))"
   ]
  },
  {
   "cell_type": "markdown",
   "id": "de70ac70-8e69-4873-b2d8-2a9f9163ac81",
   "metadata": {},
   "source": [
    "**Пример 3**: `Hello&nbsp;World&copy; 2025`"
   ]
  },
  {
   "cell_type": "code",
   "execution_count": 224,
   "id": "15bce13f-140e-4c82-b3f3-1d6dca856e83",
   "metadata": {},
   "outputs": [
    {
     "name": "stdout",
     "output_type": "stream",
     "text": [
      "Hello&nbsp;World&copy; 2025\n",
      "Hello World© 2025\n",
      "12\n",
      "---\n",
      "Hello World© 2025\n",
      "5\n"
     ]
    }
   ],
   "source": [
    "import html\n",
    "\n",
    "bad_str_html_entities = \"Hello&nbsp;World&copy; 2025\"\n",
    "\n",
    "\n",
    "print(bad_str_html_entities)\n",
    "decoded_str_html = html.unescape(bad_str_html_entities)\n",
    "print(decoded_str_html)\n",
    "print(decoded_str_html.find(\" \"))  # первый пробел - это символ \\xa0; иногда это плохо\n",
    "print(\"---\")\n",
    "decoded_str_html_whitespaced = ''.join(' ' if unicodedata.category(c) == 'Zs' else c for c in decoded_str_html)\n",
    "print(decoded_str_html_whitespaced)\n",
    "print(decoded_str_html_whitespaced.find(\" \"))  # теперь первый пробел - это пробельный символ \" \" (ему в восьмибитной нотации отвечает символ \\x20)"
   ]
  },
  {
   "cell_type": "markdown",
   "id": "b347ee71-203c-4143-89c3-a10313f248e3",
   "metadata": {},
   "source": [
    "## Более сложные проблемы и регулярные выражения"
   ]
  },
  {
   "cell_type": "markdown",
   "id": "24e0289d-09ca-4288-81b4-2ad064252497",
   "metadata": {},
   "source": [
    "- [Про историю термина](https://habr.com/ru/articles/169765/)\n",
    "- [Про регулярные выражения на Python](https://habr.com/ru/articles/349860/)"
   ]
  },
  {
   "cell_type": "markdown",
   "id": "2fdec675-76bb-4105-aefb-e7ae9a93bf70",
   "metadata": {},
   "source": [
    "Регулярное выражение — это строка, задающая шаблон поиска подстрок в тексте\n",
    "\n",
    "Иными словами, это такие строковые шаблоны, которые помогают найти подстроки определенного вида в строке\n",
    "\n",
    "Для работы с регулярными выражениями в Python как правило используется встроенный модуль `re`(про альтернативы в конце)"
   ]
  },
  {
   "cell_type": "markdown",
   "id": "f99f7098-9cbd-43ef-b108-cae6ddd40884",
   "metadata": {},
   "source": [
    "Пример таких шаблонов:\n",
    "\n",
    "| Регулярное выражение | Описание |\n",
    "|----------------------|----------|\n",
    "| simple text          | В точности текст «simple text» |\n",
    "| \\d{5}                | Последовательности из 5 цифр<br>\\d означает любую цифру<br>{5} — ровно 5 раз |\n",
    "| \\d\\d/\\d\\d/\\d{4}      | Даты в формате ДД/ММ/ГГГГ<br>(и прочие куски, на них похожие, например, 98/76/5432) |\n",
    "| \\b\\w{3}\\b            | Слова в точности из трёх букв<br>\\b означает границу слова (с одной стороны буква, а с другой — нет)<br>\\w — любая буква,<br>{3} — ровно три раза |\n",
    "| [-+]?\\d+             | Целое число, например, 7, +17, -42, 0013 (возможны ведущие нули)<br>[-+]? — либо -, либо +, либо пусто<br>\\d+ — последовательность из 1 или более цифр |\n"
   ]
  },
  {
   "cell_type": "markdown",
   "id": "8709b80d-319e-4907-a619-7a7d14485317",
   "metadata": {},
   "source": [
    "Давайте разбираться!\n",
    "\n",
    "Будем рассматривать использование регулярных выражений (и в целом их синтаксис) на примере конструкции \n",
    "`re.search(<pattern>, <text>)`, где `<pattern>` - это регулярное выражение, а `<text>` - это текст, внутри которого мы ищем подстроки согласно нашему паттерну"
   ]
  },
  {
   "cell_type": "markdown",
   "id": "03af2017-6f5b-47c4-a0bf-13113b88a41e",
   "metadata": {},
   "source": [
    "Небольшая справка:\n",
    "\n",
    "\n",
    "- Промежутки, заключенные в квадратные скобки, позволяют найти цифры или буквы разных алфавитов и разных регистров\n",
    "    - [0-9] соответствует любой цифре\n",
    "    - [A-Z] соответствует любой заглавной букве английского алфавита\n",
    "    - [a-z] соответствует любой строчной букве английского алфавита\n",
    "    - [А-Я] и [а-я] ‒ аналогично для букв русского алфавита (кроме буквы ё/Ё - ее нужно включать отдельно!)\n",
    "- Для обозначения произвольного символа (кроме новой строки) используется точка ‒ .\n",
    "- Для обозначения начала строки используется символ ^ (имеет другое значение внутри `[]`)\n",
    "- Для обозначения конца строки используется символ $ \n",
    "- Для цифр есть специальный символ \\d (от digit) ≈[0-9].. Добавление обратного слэша называется экранированием: так мы отмечаем, что ищем именно цифру, а не просто букву d.\n",
    "- Для любого символа, кроме цифры тоже есть специальный символ \\D (от digit)≈[^0-9] (заглавная буква здесь отвечает за отрицание). Добавление обратного слэша называется экранированием: так мы отмечаем, что ищем именно цифру, а не просто букву D.\n",
    "- Для пробела тоже существует свой символ ‒ \\s (от space) ≈[ \\f\\n\\r\\t\\v]. Этот символ соответствует ровно одному пробельному символу в тексте (пробел, табуляция, перенос строки и т.д.).\n",
    "- Любой непробельный символ, обозначается как \\S (заглавная буква здесь отвечает за отрицание).\n",
    "- Для букв тоже существует свой символ ‒ \\w (от word) ≈ [0-9a-zA-Zа-яА-ЯёЁ_]. Любая буква (то, что может быть частью слова), а также цифры и _ .\n",
    "- Любая не-буква, не-цифра и не подчёркивание, обозначается как \\W (заглавная буква здесь отвечает за отрицание)"
   ]
  },
  {
   "cell_type": "markdown",
   "id": "075fa237-c136-454e-804a-78ae52575673",
   "metadata": {},
   "source": [
    "**Важное замечание**\n",
    "\n",
    "Синтаксис регулярных выражений чувствителен к регистру. Т.е. если где-либо в регулярном выражении используются заглавные/строчные буквы, это имеет причину"
   ]
  },
  {
   "cell_type": "code",
   "execution_count": 229,
   "id": "41e63f9f-9add-4a91-90f3-dc82cf4e46f5",
   "metadata": {},
   "outputs": [],
   "source": [
    "import re"
   ]
  },
  {
   "cell_type": "markdown",
   "id": "fd3dcc4f-7968-45e6-902a-bbb28efe513f",
   "metadata": {},
   "source": [
    "### Примеры по мотивам справки"
   ]
  },
  {
   "cell_type": "code",
   "execution_count": 363,
   "id": "66176055-2ab1-47ce-ba7a-c4c77c436f5c",
   "metadata": {},
   "outputs": [
    {
     "name": "stdout",
     "output_type": "stream",
     "text": [
      "<re.Match object; span=(28, 34), match='inside'>\n",
      "(28, 34)\n"
     ]
    }
   ],
   "source": [
    "text = \"Here is some text to search inside\"\n",
    "pattern = \"inside\"\n",
    "\n",
    "result = re.search(pattern, text)\n",
    "print(result)\n",
    "print(result.span())"
   ]
  },
  {
   "cell_type": "code",
   "execution_count": 365,
   "id": "6033d59e-8b12-4db8-9841-26bc60610e01",
   "metadata": {},
   "outputs": [
    {
     "name": "stdout",
     "output_type": "stream",
     "text": [
      "None\n"
     ]
    },
    {
     "ename": "AttributeError",
     "evalue": "'NoneType' object has no attribute 'span'",
     "output_type": "error",
     "traceback": [
      "\u001b[0;31m---------------------------------------------------------------------------\u001b[0m",
      "\u001b[0;31mAttributeError\u001b[0m                            Traceback (most recent call last)",
      "\u001b[0;32m/tmp/ipykernel_52071/1702331808.py\u001b[0m in \u001b[0;36m<module>\u001b[0;34m\u001b[0m\n\u001b[1;32m      1\u001b[0m \u001b[0mresult\u001b[0m \u001b[0;34m=\u001b[0m \u001b[0mre\u001b[0m\u001b[0;34m.\u001b[0m\u001b[0msearch\u001b[0m\u001b[0;34m(\u001b[0m\u001b[0;34m\"insidde\"\u001b[0m\u001b[0;34m,\u001b[0m \u001b[0mtext\u001b[0m\u001b[0;34m)\u001b[0m\u001b[0;34m\u001b[0m\u001b[0;34m\u001b[0m\u001b[0m\n\u001b[1;32m      2\u001b[0m \u001b[0mprint\u001b[0m\u001b[0;34m(\u001b[0m\u001b[0mresult\u001b[0m\u001b[0;34m)\u001b[0m\u001b[0;34m\u001b[0m\u001b[0;34m\u001b[0m\u001b[0m\n\u001b[0;32m----> 3\u001b[0;31m \u001b[0mprint\u001b[0m\u001b[0;34m(\u001b[0m\u001b[0mresult\u001b[0m\u001b[0;34m.\u001b[0m\u001b[0mspan\u001b[0m\u001b[0;34m(\u001b[0m\u001b[0;34m)\u001b[0m\u001b[0;34m)\u001b[0m\u001b[0;34m\u001b[0m\u001b[0;34m\u001b[0m\u001b[0m\n\u001b[0m",
      "\u001b[0;31mAttributeError\u001b[0m: 'NoneType' object has no attribute 'span'"
     ]
    }
   ],
   "source": [
    "result = re.search(\"insidde\", text)\n",
    "print(result)\n",
    "print(result.span())"
   ]
  },
  {
   "cell_type": "markdown",
   "id": "c27b4723-ea7c-4c52-b244-d6ad97602c5b",
   "metadata": {},
   "source": [
    "Настоящая сила регулярных выражений раскрывается, когда в регулярном выражении (шаблоне) присутствуют **метасимволы**, т.е. символы, которые имеют особенное значение "
   ]
  },
  {
   "cell_type": "markdown",
   "id": "3cefdbb3-f2d3-4d55-9a70-10709fd92bb5",
   "metadata": {},
   "source": [
    "#### []"
   ]
  },
  {
   "cell_type": "markdown",
   "id": "c2feaa9b-fc2d-407b-963f-6a01021ed5ab",
   "metadata": {},
   "source": [
    "Например, квадратные скобки `[]` используются для поиска множества символов:"
   ]
  },
  {
   "cell_type": "code",
   "execution_count": 375,
   "id": "34437aff-2e98-4528-b98a-778a1b5e8a06",
   "metadata": {},
   "outputs": [
    {
     "name": "stdout",
     "output_type": "stream",
     "text": [
      "<re.Match object; span=(35, 36), match='8'>\n"
     ]
    }
   ],
   "source": [
    "text = \"Я до сих пор слышу это в голове... 88005553535... Проще позвонить, чем у кого-то занимать...\"\n",
    "\n",
    "pattern = \"[0-9]\" # будет произведен поиск одной любой цифры\n",
    "print(re.search(pattern, text))\n",
    "# А что если мы хотим больше одной?"
   ]
  },
  {
   "cell_type": "code",
   "execution_count": 369,
   "id": "0fbccd4a-9352-49b8-93e8-1cb1e0b86618",
   "metadata": {},
   "outputs": [
    {
     "name": "stdout",
     "output_type": "stream",
     "text": [
      "<re.Match object; span=(35, 37), match='88'>\n"
     ]
    }
   ],
   "source": [
    "pattern = \"[0-9][0-9]\" # будет произведен поиск двух любых цифр\n",
    "print(re.search(pattern, text))"
   ]
  },
  {
   "cell_type": "markdown",
   "id": "813ec46f-f5e8-4a71-87de-daa186b190e2",
   "metadata": {},
   "source": [
    "А что если мы хотим искать числа произвольной длины?\n",
    "\n",
    "Забегая вперёд, для этого есть специальный символ:\n",
    "- `+` - для поиска одного и более повторений"
   ]
  },
  {
   "cell_type": "code",
   "execution_count": 374,
   "id": "04af9bb6-f949-411c-b4cc-4faa168b68b3",
   "metadata": {},
   "outputs": [
    {
     "name": "stdout",
     "output_type": "stream",
     "text": [
      "<re.Match object; span=(35, 40), match='88005'>\n"
     ]
    }
   ],
   "source": [
    "pattern = \"[0-9]+\" # будет произведен поиск одной и более цифры\n",
    "print(re.search(pattern, text))"
   ]
  },
  {
   "cell_type": "markdown",
   "id": "4c5ee959-5035-4741-95c3-1c4b73a8b41d",
   "metadata": {},
   "source": [
    "Символы в скобках необязательно должны быть в формате какого-то диапазона, как `[0-9]` или `[A-z]`, например:"
   ]
  },
  {
   "cell_type": "code",
   "execution_count": 377,
   "id": "c20ded65-1230-47e5-a815-c9f6ef2be05b",
   "metadata": {},
   "outputs": [
    {
     "name": "stdout",
     "output_type": "stream",
     "text": [
      "<re.Match object; span=(5, 7), match='бе'>\n"
     ]
    }
   ],
   "source": [
    "pattern = \"[бес][бес]\" # будет произведен поиск одного из символов (б, е, с) по порядку\n",
    "text = \"мракобесие\"\n",
    "\n",
    "print(re.search(pattern, text))"
   ]
  },
  {
   "cell_type": "code",
   "execution_count": 381,
   "id": "4ec38a5b-dd03-4c99-b5d1-042feaf7cc00",
   "metadata": {},
   "outputs": [
    {
     "name": "stdout",
     "output_type": "stream",
     "text": [
      "<re.Match object; span=(36, 40), match='Иван'>\n"
     ]
    }
   ],
   "source": [
    "# более осмысленный пример:\n",
    "pattern = \"[Ии]ван\"  # поиск текста `Иван` или `иван`\n",
    "text = \"Скажи-ка мне, Ванюша! Скажи-ка мне, Иван!\"\n",
    "\n",
    "print(re.search(pattern, text))"
   ]
  },
  {
   "cell_type": "markdown",
   "id": "844a2219-05ec-467c-bd84-21a70102a9a4",
   "metadata": {},
   "source": [
    "#### . (точка)"
   ]
  },
  {
   "cell_type": "markdown",
   "id": "b8e46e39-e8de-4468-a371-2c5ac35e536c",
   "metadata": {},
   "source": [
    "Символ точки (`.`) соответствует одному любому символу в строке. Как вы думаете, какие из строк ниже соответствуют приведенному шаблону?"
   ]
  },
  {
   "cell_type": "code",
   "execution_count": null,
   "id": "ad87d04e-e165-480c-9745-32f9a1f66a44",
   "metadata": {},
   "outputs": [],
   "source": [
    "pattern = \".от\"\n",
    "\n",
    "texts = [\"подушка\", \"Кот\", \"Живот\", \"крот\", \"от\"]\n",
    "for text in texts:\n",
    "    result = re.search(pattern, text)\n",
    "    if result is not None:\n",
    "        print(f\"Pattern {pattern} was found in {text}\")\n",
    "    else:\n",
    "        print(f\"Pattern {pattern} was not found in {text}\")"
   ]
  },
  {
   "cell_type": "markdown",
   "id": "42c28e07-dd01-43ca-8419-525bcd3223a6",
   "metadata": {},
   "source": [
    "#### ^ и $"
   ]
  },
  {
   "cell_type": "markdown",
   "id": "9275bbde-087e-46fe-ab03-114785b5bfd5",
   "metadata": {},
   "source": [
    "Иногда нам хочется не просто найти какую-то подстроку внутри строки, но быть уверенными в том, что она находится:\n",
    "- В самом начале слова (символ `^`)\n",
    "- В самом конце слова (символ `$`). Символ `$` также позволит найти шаблон перед переносом строки (т.е. перед `\\n`)\n",
    "- Находится ровно между началом и концом (т.е. шаблон соответствует тексту целиком)\n"
   ]
  },
  {
   "cell_type": "code",
   "execution_count": 277,
   "id": "fae544e5-8a98-478c-82b9-a9e90ddfe1bd",
   "metadata": {},
   "outputs": [
    {
     "data": {
      "text/plain": [
       "<re.Match object; span=(0, 9), match='[Verse 1]'>"
      ]
     },
     "execution_count": 277,
     "metadata": {},
     "output_type": "execute_result"
    }
   ],
   "source": [
    "text = \"\"\"\n",
    "[Verse 1]\n",
    "Buddy, you're a boy, make a big noise\n",
    "Playing in the street\n",
    "Gonna be a big man someday\n",
    "You got mud on your face\n",
    "You big disgrace\n",
    "Kickin' your can all over the place, singing\n",
    "\"\"\".strip()\n",
    "\n",
    "pattern = \"^\\[Verse [0-9]\\]\"  # паттерн для поиска [Verse *цифра*] в начале строки \n",
    "re.search(pattern, text)"
   ]
  },
  {
   "cell_type": "code",
   "execution_count": 280,
   "id": "7610a8a1-4c26-4665-a235-6c468f09fb8a",
   "metadata": {},
   "outputs": [
    {
     "data": {
      "text/plain": [
       "<re.Match object; span=(57, 60), match='you'>"
      ]
     },
     "execution_count": 280,
     "metadata": {},
     "output_type": "execute_result"
    }
   ],
   "source": [
    "text = \"\"\"\n",
    "[Chorus]\n",
    "We will, we will rock you\n",
    "We will, we will rock you\n",
    "\"\"\".strip()\n",
    "\n",
    "pattern = \"you$\"  # поиск you в самом конце строки [в некотором смысле похоже на str.rfind]\n",
    "re.search(pattern, text)"
   ]
  },
  {
   "cell_type": "markdown",
   "id": "0fbd0293-0605-48cb-8aaf-7eda262da6fd",
   "metadata": {},
   "source": [
    "#### Синтаксис [^]"
   ]
  },
  {
   "cell_type": "markdown",
   "id": "f89446bc-07e5-4abe-8fc5-bc1ce9dce76a",
   "metadata": {},
   "source": [
    "Символ `^` имеет другое значение, если внутри `[]`. Такая запись `[^...]` означает поиск такого символа, который не соответствует чему-либо внутри `[]` (то есть это по сути отрицание множества символов)"
   ]
  },
  {
   "cell_type": "code",
   "execution_count": 290,
   "id": "5b2d01c8-21b1-499a-b096-cb89bf92f7a5",
   "metadata": {},
   "outputs": [
    {
     "data": {
      "text/plain": [
       "<re.Match object; span=(0, 1), match='Я'>"
      ]
     },
     "execution_count": 290,
     "metadata": {},
     "output_type": "execute_result"
    }
   ],
   "source": [
    "text = \"Я уже совсем большой, мне 5 лет!\"\n",
    "pattern = \"[^0-9]\"  # поиск символа, который не соответствует никакой цифре\n",
    "\n",
    "re.search(pattern, text)"
   ]
  },
  {
   "cell_type": "markdown",
   "id": "dfe4fa48-57c0-4b31-9068-90cd49108949",
   "metadata": {},
   "source": [
    "#### Синтаксис \\\\*letter*"
   ]
  },
  {
   "cell_type": "markdown",
   "id": "19d9c245-d3f4-4746-b69a-16b201c2fc1d",
   "metadata": {},
   "source": [
    "##### \\\\w и \\\\W"
   ]
  },
  {
   "cell_type": "markdown",
   "id": "0e0f8832-9445-44e9-b38b-79933d667235",
   "metadata": {},
   "source": [
    "\\w (от word) соответствует набору [0-9a-zA-Zа-яА-ЯёЁ_], т.е. это любая буква (то, что может быть частью слова), а также цифры и _ "
   ]
  },
  {
   "cell_type": "code",
   "execution_count": 287,
   "id": "8778ba26-6e4d-4f26-ab4c-3dd7cb8a595f",
   "metadata": {},
   "outputs": [
    {
     "data": {
      "text/plain": [
       "<re.Match object; span=(0, 1), match='В'>"
      ]
     },
     "execution_count": 287,
     "metadata": {},
     "output_type": "execute_result"
    }
   ],
   "source": [
    "text = \"Вы нас балуете, наша светлость\"\n",
    "pattern = \"\\w\"\n",
    "\n",
    "re.search(pattern, text)"
   ]
  },
  {
   "cell_type": "markdown",
   "id": "8cc73048-c087-4937-a133-af5d6b7a95e9",
   "metadata": {},
   "source": [
    "А какую подстроку мы найдем с помощью вот такого регулярного выражения?"
   ]
  },
  {
   "cell_type": "code",
   "execution_count": null,
   "id": "dcb662ba-f541-4436-8b7e-b6f0ff7b4906",
   "metadata": {},
   "outputs": [],
   "source": [
    "text = \"Вы нас балуете, наша светлость\"\n",
    "pattern = \"\\w+\"\n",
    "\n",
    "\n",
    "print(re.search(pattern, text))"
   ]
  },
  {
   "cell_type": "markdown",
   "id": "af8e431c-cc9d-443a-95bf-96b320162707",
   "metadata": {},
   "source": [
    "\\W (с большой буквы) - это противоположность \\w (с маленькой)\n",
    "\n",
    "\\W эквивалентно [^0-9a-zA-Zа-яА-ЯёЁ_] -> т.е. поиск любого символа, который не является цифрой, буквой алфавита или символом \"_\""
   ]
  },
  {
   "cell_type": "code",
   "execution_count": 295,
   "id": "ae5f73f6-9c79-421a-bd5a-f6b44e175cda",
   "metadata": {},
   "outputs": [
    {
     "data": {
      "text/plain": [
       "<re.Match object; span=(2, 3), match='-'>"
      ]
     },
     "execution_count": 295,
     "metadata": {},
     "output_type": "execute_result"
    }
   ],
   "source": [
    "pattern = \"\\W\"\n",
    "text = \"То-то же, будешь знать!\"\n",
    "\n",
    "re.search(pattern, text)"
   ]
  },
  {
   "cell_type": "markdown",
   "id": "8acb6709-2f05-4394-9746-e410e55b3cb4",
   "metadata": {},
   "source": [
    "##### \\d и \\D"
   ]
  },
  {
   "cell_type": "markdown",
   "id": "db42e2bc-cb82-4bce-a418-3fb92a810357",
   "metadata": {},
   "source": [
    "- \\d - аналог [0-9]\n",
    "- \\D - аналог [^0-9]"
   ]
  },
  {
   "cell_type": "code",
   "execution_count": 296,
   "id": "0ff9cd93-1c56-46bf-88f2-24c43108869c",
   "metadata": {},
   "outputs": [
    {
     "name": "stdout",
     "output_type": "stream",
     "text": [
      "<re.Match object; span=(35, 36), match='8'>\n"
     ]
    }
   ],
   "source": [
    "text = \"Я до сих пор слышу это в голове... 88005553535... Проще позвонить, чем у кого-то занимать...\"\n",
    "\n",
    "pattern = \"\\d\" # будет произведен поиск одной любой цифры\n",
    "print(re.search(pattern, text))"
   ]
  },
  {
   "cell_type": "code",
   "execution_count": 297,
   "id": "c7251792-5f98-408d-b5d0-77f52eeadc3e",
   "metadata": {},
   "outputs": [
    {
     "name": "stdout",
     "output_type": "stream",
     "text": [
      "<re.Match object; span=(0, 1), match='Я'>\n"
     ]
    }
   ],
   "source": [
    "text = \"Я до сих пор слышу это в голове... 88005553535... Проще позвонить, чем у кого-то занимать...\"\n",
    "\n",
    "pattern = \"\\D\" # будет произведен поиск одного нечислового символа\n",
    "print(re.search(pattern, text))"
   ]
  },
  {
   "cell_type": "markdown",
   "id": "26c99de5-ea77-4a2a-b372-072849e7d281",
   "metadata": {},
   "source": [
    "##### \\s и \\S "
   ]
  },
  {
   "cell_type": "markdown",
   "id": "60c3af84-af2f-4e9e-bf94-9a154e085614",
   "metadata": {},
   "source": [
    "- \\s используется для поиска пробельных символов\n",
    "- \\S используется для поиска любых символов, кроме пробельных"
   ]
  },
  {
   "cell_type": "code",
   "execution_count": 302,
   "id": "e7d7eb9d-d44e-49ed-8544-a3920c6fb223",
   "metadata": {},
   "outputs": [
    {
     "name": "stdout",
     "output_type": "stream",
     "text": [
      "<re.Match object; span=(5, 6), match='\\xa0'>\n",
      "<re.Match object; span=(5, 6), match='\\u2008'>\n",
      "<re.Match object; span=(5, 6), match=' '>\n"
     ]
    }
   ],
   "source": [
    "bad_str_8bit = \"Hello\\xa0World!\" \n",
    "bad_str_unicode = \"Hello\\u2008World!\"\n",
    "good_str = \"Hello World!\"\n",
    "\n",
    "pattern = \"\\s\"\n",
    "\n",
    "print(re.search(pattern, bad_str_8bit))\n",
    "print(re.search(pattern, bad_str_unicode))\n",
    "print(re.search(pattern, good_str))"
   ]
  },
  {
   "cell_type": "markdown",
   "id": "f360b14f-838a-4d8b-b123-568dada19bf4",
   "metadata": {},
   "source": [
    "#### Якори"
   ]
  },
  {
   "cell_type": "markdown",
   "id": "099dfe0a-6805-4a0c-9fdc-dba6b0fdf8bf",
   "metadata": {},
   "source": [
    "Якори - это категория специальных символов внутри регулярных выражений, которые отвечают за положение искомого шаблона\n",
    "`^` и `$` - примеры таких якорей, отвечающих за начало и конец строки соответственно\n",
    "\n",
    "Особенностью якорей является то, что сами по себе они не соответствуют какому-либо символу (т.е. это zero-width match)"
   ]
  },
  {
   "cell_type": "code",
   "execution_count": 303,
   "id": "8be8881f-a69c-4624-9aee-abcdc8d87065",
   "metadata": {},
   "outputs": [
    {
     "data": {
      "text/plain": [
       "<re.Match object; span=(0, 0), match=''>"
      ]
     },
     "execution_count": 303,
     "metadata": {},
     "output_type": "execute_result"
    }
   ],
   "source": [
    "text = \"Какой-то текст\"\n",
    "pattern = \"^\"\n",
    "\n",
    "re.search(pattern, text)"
   ]
  },
  {
   "cell_type": "markdown",
   "id": "f0ad67cb-ebc1-41d9-9315-ed922fb5d25c",
   "metadata": {},
   "source": [
    "##### \\b и \\B"
   ]
  },
  {
   "cell_type": "markdown",
   "id": "a613021c-24cf-478e-98bd-38b5310f07e8",
   "metadata": {},
   "source": [
    "- \\b - указатель на начало слова или его конец\n",
    "- \\B - противоположен ему, т.е. указывает на не-начало слова или не-конец слова\n",
    "\n",
    "Слово - это \\w (т.е. [a-zA-Z0-9_])"
   ]
  },
  {
   "cell_type": "code",
   "execution_count": 310,
   "id": "db0b9a33-6e45-4d42-999d-c397d8be0c31",
   "metadata": {},
   "outputs": [
    {
     "name": "stdout",
     "output_type": "stream",
     "text": [
      "<re.Match object; span=(32, 35), match='жев'>\n",
      "вал: жевал\n"
     ]
    }
   ],
   "source": [
    "text = 'И он всё тщательно пережевывал: жевал, жевал...'\n",
    "result = re.search(r'\\bжев', text)\n",
    "print(result)\n",
    "l, r = result.span()\n",
    "print(text[l-5:l+5])"
   ]
  },
  {
   "cell_type": "code",
   "execution_count": 312,
   "id": "e129b4f6-28ca-4ab5-adae-e68db8b4f9a3",
   "metadata": {},
   "outputs": [
    {
     "name": "stdout",
     "output_type": "stream",
     "text": [
      "<re.Match object; span=(23, 26), match='жев'>\n",
      " пережевыв\n"
     ]
    }
   ],
   "source": [
    "result = re.search(r'жев', text)\n",
    "print(result)\n",
    "l, r = result.span()\n",
    "print(text[l-5:l+5])"
   ]
  },
  {
   "cell_type": "code",
   "execution_count": 314,
   "id": "80ac35ad-7c8e-407d-86ee-bff9761e0ef9",
   "metadata": {},
   "outputs": [
    {
     "name": "stdout",
     "output_type": "stream",
     "text": [
      "<re.Match object; span=(31, 34), match='жев'>\n",
      " пережевыв\n"
     ]
    }
   ],
   "source": [
    "text = 'И он всё жевал, жевал...Да пережевывал'\n",
    "result = re.search(r'\\Bжев', text)\n",
    "print(result)\n",
    "l, r = result.span()\n",
    "print(text[l-5:l+5])"
   ]
  },
  {
   "cell_type": "markdown",
   "id": "ed169e39-7415-4259-8fe4-7695b724f4cd",
   "metadata": {},
   "source": [
    "#### Квантификаторы"
   ]
  },
  {
   "cell_type": "markdown",
   "id": "00c20b2b-9e41-485b-a1be-b862cbdcdb92",
   "metadata": {},
   "source": [
    "Квантификаторы - это категория специальных символов, используемая для обозначения количества повторений шаблона\n",
    "\n",
    "- `*` - ноль или более повторений\n",
    "- `+` - одно или больше повторений\n",
    "- `?` - ноль или одно повторение\n",
    "\n",
    "Квантификаторы должны стоять после какого-то шаблона. Например, следующее выражение `.?` означает \"ноль или один любой символ\""
   ]
  },
  {
   "cell_type": "code",
   "execution_count": 317,
   "id": "2a0afa65-789c-44d4-864e-22c254f2865b",
   "metadata": {},
   "outputs": [
    {
     "data": {
      "text/plain": [
       "<re.Match object; span=(0, 10), match='8800553535'>"
      ]
     },
     "execution_count": 317,
     "metadata": {},
     "output_type": "execute_result"
    }
   ],
   "source": [
    "text = \"8800553535...проще позвонить...\"\n",
    "pattern = \"[0-9]+\"  # одна или более цифра\n",
    "\n",
    "re.search(pattern, text)"
   ]
  },
  {
   "cell_type": "code",
   "execution_count": 318,
   "id": "e98365ea-9ed1-484c-9c84-8b1ad64d51d1",
   "metadata": {},
   "outputs": [
    {
     "data": {
      "text/plain": [
       "<re.Match object; span=(0, 1), match='8'>"
      ]
     },
     "execution_count": 318,
     "metadata": {},
     "output_type": "execute_result"
    }
   ],
   "source": [
    "text = \"8800553535...проще позвонить...\"\n",
    "pattern = \"[0-9]?\"  # одна или 0 цифр\n",
    "\n",
    "re.search(pattern, text)"
   ]
  },
  {
   "cell_type": "code",
   "execution_count": 320,
   "id": "d98eca8c-8e1d-4e03-8399-09956432b64f",
   "metadata": {},
   "outputs": [
    {
     "data": {
      "text/plain": [
       "<re.Match object; span=(13, 14), match='п'>"
      ]
     },
     "execution_count": 320,
     "metadata": {},
     "output_type": "execute_result"
    }
   ],
   "source": [
    "text = \"8800553535...проще позвонить...\"\n",
    "pattern = \"[0-9]*п\"  # 0 или более цифр, после которых идет буква \"п\"\n",
    "\n",
    "re.search(pattern, text)"
   ]
  },
  {
   "cell_type": "markdown",
   "id": "afbc711e-5f60-487f-b077-4bb1a7be1209",
   "metadata": {},
   "source": [
    "__Важно__\n",
    "\n",
    "По умолчанию квантификаторы производят поиск самого длинного шаблона из возможных внутри строки (т.е. они работают жадно)"
   ]
  },
  {
   "cell_type": "markdown",
   "id": "cf4210e6-1c06-4a71-a6ab-facf10e70538",
   "metadata": {},
   "source": [
    "Как вы думаете, какой результат вернет поиск по шаблону ниже?"
   ]
  },
  {
   "cell_type": "code",
   "execution_count": null,
   "id": "f0fd34c0-1a90-4944-b3c1-139419ba8816",
   "metadata": {},
   "outputs": [],
   "source": [
    "re.search('<.*>', '<div><span> <br> </span></div>')"
   ]
  },
  {
   "cell_type": "markdown",
   "id": "9d03030c-1483-44e4-907f-27db8dddbc1c",
   "metadata": {},
   "source": [
    "Квантификаторы можно использовать в нежадном режиме, дописав к ним знак `?`:\n",
    "- `*?`\n",
    "- `+?`\n",
    "- `??`\n",
    "\n",
    "Тогда будет произведен поиск самого короткого шаблон:"
   ]
  },
  {
   "cell_type": "code",
   "execution_count": null,
   "id": "46481184-70d2-4cff-a592-1b4ee88748e0",
   "metadata": {},
   "outputs": [],
   "source": [
    "re.search('<.*?>', '<div><span> <br> </span></div>')"
   ]
  },
  {
   "cell_type": "markdown",
   "id": "9e845068-2ccf-402f-8a71-50ed73a1ea37",
   "metadata": {},
   "source": [
    "## Что почитать"
   ]
  },
  {
   "cell_type": "markdown",
   "id": "fac7ef6a-8e49-4cd9-bd57-a4f4aba01714",
   "metadata": {},
   "source": [
    "__Про unicodedata__:\n",
    "\n",
    "- [Категории символов unicode](https://www.unicode.org/L2/L1999/UnicodeData.html) (например, для `unicodedata.category`), раздел \"General Category\", это для справки\n",
    "- [Про нормализацию юникода](https://habr.com/ru/articles/45489/). Здесь концептуально объясняется, в чем вообще принцип нормальных форм\n",
    "- [Про нормализацию юникода, но на конкретном примере](https://stackoverflow.com/questions/16467479/normalizing-unicode). Здесь смотрите самый первый ответ (который ~137 апвоутов)\n",
    "- [Документация модуля unicodedata](https://docs.python.org/3/library/unicodedata.html), для справки\n",
    "\n",
    "__Про проблемы с html entities__:\n",
    "- [Что такое html entities (и их примеры)](https://www.w3schools.com/html/html_entities.asp)\n",
    "- [Документация модуля html в Python](https://docs.python.org/3/library/html.html), для справки\n",
    "\n",
    "__Про регулярные выражения__:\n",
    "- [Про историю возникновения](https://habr.com/ru/articles/169765/)\n",
    "- Материал данной лекции (и семинаров по ней) сильно основан по логике рассказа на [этой статье](https://realpython.com/regex-python/) и её второй части. До семинара стоит её почитать до части [Grouping constructs and backreferences](https://realpython.com/regex-python/#grouping-constructs-and-backreferences) не включительно (т.е. про группировки пока читать не обязательно)\n",
    "- [Вот этот ридинг про регулярные выражения](https://habr.com/ru/articles/349860/). Он содержит сильно больше материала, чем лекция, и не соответствует ей по логике рассказа, но внутри ридинга есть много разных задач на регулярные выражения + картинки и примеры, так что может быть полезно\n",
    "\n",
    "__Про полезные модули/пакеты__\n",
    "\n",
    "Как правило в Python с регулярными выражениями можно работать с помощью встроенного модуля `re`, но есть ещё:\n",
    "- [regex](https://pypi.org/project/regex/) (быстрее, чем re, плюс есть дополнительные фичи)\n",
    "- [re2](https://pypi.org/project/re2/) (быстрее, чем re и regex)"
   ]
  }
 ],
 "metadata": {
  "kernelspec": {
   "display_name": "Python 3 (ipykernel)",
   "language": "python",
   "name": "python3"
  },
  "language_info": {
   "codemirror_mode": {
    "name": "ipython",
    "version": 3
   },
   "file_extension": ".py",
   "mimetype": "text/x-python",
   "name": "python",
   "nbconvert_exporter": "python",
   "pygments_lexer": "ipython3",
   "version": "3.10.12"
  }
 },
 "nbformat": 4,
 "nbformat_minor": 5
}
