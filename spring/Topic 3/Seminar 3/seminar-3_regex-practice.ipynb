{
 "cells": [
  {
   "cell_type": "markdown",
   "id": "fbf08b89-029e-4d15-9389-7794cf8dc344",
   "metadata": {},
   "source": [
    "# regex: начало"
   ]
  },
  {
   "cell_type": "code",
   "execution_count": 1,
   "id": "49926cae-3ab0-4a17-b1b3-561c4cdd1b6b",
   "metadata": {},
   "outputs": [],
   "source": [
    "import re"
   ]
  },
  {
   "cell_type": "markdown",
   "id": "64947f09-2a0e-4b86-96a5-c9bc01365ba1",
   "metadata": {},
   "source": [
    "## Базовый синтаксис и метасимволы"
   ]
  },
  {
   "cell_type": "markdown",
   "id": "23657a14-d490-404b-89c6-328ed1139dbf",
   "metadata": {},
   "source": [
    "Регулярное выражение — это строка, задающая шаблон поиска подстрок в тексте\n",
    "\n",
    "Иными словами, это такие строковые шаблоны, которые помогают найти подстроки определенного вида в строке\n",
    "\n",
    "Для работы с регулярными выражениями в Python как правило используется встроенный модуль `re`(про альтернативы в конце)"
   ]
  },
  {
   "cell_type": "markdown",
   "id": "dd595ce7-8366-4881-9d8b-b4708846b976",
   "metadata": {},
   "source": [
    "Пример таких шаблонов:\n",
    "\n",
    "| Регулярное выражение | Описание |\n",
    "|----------------------|----------|\n",
    "| simple text          | В точности текст «simple text» |\n",
    "| \\d{5}                | Последовательности из 5 цифр<br>\\d означает любую цифру<br>{5} — ровно 5 раз |\n",
    "| \\d\\d/\\d\\d/\\d{4}      | Даты в формате ДД/ММ/ГГГГ<br>(и прочие куски, на них похожие, например, 98/76/5432) |\n",
    "| \\b\\w{3}\\b            | Слова в точности из трёх букв<br>\\b означает границу слова (с одной стороны буква, а с другой — нет)<br>\\w — любая буква,<br>{3} — ровно три раза |\n",
    "| [-+]?\\d+             | Целое число, например, 7, +17, -42, 0013 (возможны ведущие нули)<br>[-+]? — либо -, либо +, либо пусто<br>\\d+ — последовательность из 1 или более цифр |\n"
   ]
  },
  {
   "cell_type": "markdown",
   "id": "4bb4fe6a-ffa0-4377-b552-f87755bf2690",
   "metadata": {},
   "source": [
    "Давайте разбираться!\n",
    "\n",
    "Будем рассматривать использование регулярных выражений (и в целом их синтаксис) на примере конструкции \n",
    "`re.search(<pattern>, <text>)`, где `<pattern>` - это регулярное выражение, а `<text>` - это текст, внутри которого мы ищем подстроки согласно нашему паттерну"
   ]
  },
  {
   "cell_type": "markdown",
   "id": "fa9158d1-702b-45d6-a745-a31243242bbd",
   "metadata": {},
   "source": [
    "Небольшая справка:\n",
    "\n",
    "\n",
    "- Промежутки, заключенные в квадратные скобки, позволяют найти цифры или буквы разных алфавитов и разных регистров\n",
    "    - [0-9] соответствует любой цифре\n",
    "    - [A-Z] соответствует любой заглавной букве английского алфавита\n",
    "    - [a-z] соответствует любой строчной букве английского алфавита\n",
    "    - [А-Я] и [а-я] ‒ аналогично для букв русского алфавита (кроме буквы ё/Ё - ее нужно включать отдельно!)\n",
    "- Для обозначения произвольного символа (кроме новой строки) используется точка ‒ .\n",
    "- Для обозначения начала строки используется символ ^ (имеет другое значение внутри `[]`)\n",
    "- Для обозначения конца строки используется символ $ \n",
    "- Для цифр есть специальный символ \\d (от digit) ≈[0-9].. Добавление обратного слэша называется экранированием: так мы отмечаем, что ищем именно цифру, а не просто букву d.\n",
    "- Для любого символа, кроме цифры тоже есть специальный символ \\D (от digit)≈[^0-9] (заглавная буква здесь отвечает за отрицание). Добавление обратного слэша называется экранированием: так мы отмечаем, что ищем именно цифру, а не просто букву D.\n",
    "- Для пробела тоже существует свой символ ‒ \\s (от space) ≈[ \\f\\n\\r\\t\\v]. Этот символ соответствует ровно одному пробельному символу в тексте (пробел, табуляция, перенос строки и т.д.).\n",
    "- Любой непробельный символ, обозначается как \\S (заглавная буква здесь отвечает за отрицание).\n",
    "- Для букв тоже существует свой символ ‒ \\w (от word) ≈ [0-9a-zA-Zа-яА-ЯёЁ_]. Любая буква (то, что может быть частью слова), а также цифры и _ .\n",
    "- Любая не-буква, не-цифра и не подчёркивание, обозначается как \\W (заглавная буква здесь отвечает за отрицание)"
   ]
  },
  {
   "cell_type": "markdown",
   "id": "01a8e648-0b52-4cdf-a510-ec2846cf2e32",
   "metadata": {},
   "source": [
    "**Важное замечание**\n",
    "\n",
    "- Синтаксис регулярных выражений чувствителен к регистру. Т.е. если где-либо в регулярном выражении используются заглавные/строчные буквы, это имеет причину\n",
    "- Некоторые символы внутри регулярных выражений требуют экранирования (про это можно почитать в самом начале документации модуля `re` [здесь](https://docs.python.org/3/library/re.html)). Чтобы при экранировании не возникало конфликтов с синтаксисом экранирования Python, рекомендуется использовать raw strings, т.е. `r'pattern'`, для прописывания регулярных выражений"
   ]
  },
  {
   "cell_type": "markdown",
   "id": "f13b454b-1e0e-4caa-84b6-660aa4522a7b",
   "metadata": {},
   "source": [
    "### Примеры по мотивам справки"
   ]
  },
  {
   "cell_type": "code",
   "execution_count": 363,
   "id": "210502c2-ce52-4178-b3ac-7aaa9a8d64f2",
   "metadata": {},
   "outputs": [
    {
     "name": "stdout",
     "output_type": "stream",
     "text": [
      "<re.Match object; span=(28, 34), match='inside'>\n",
      "(28, 34)\n"
     ]
    }
   ],
   "source": [
    "text = \"Here is some text to search inside\"\n",
    "pattern = \"inside\"\n",
    "\n",
    "result = re.search(pattern, text)\n",
    "print(result)\n",
    "print(result.span())"
   ]
  },
  {
   "cell_type": "code",
   "execution_count": 365,
   "id": "3b41fb22-3645-465b-896a-2f3f942fbff9",
   "metadata": {},
   "outputs": [
    {
     "name": "stdout",
     "output_type": "stream",
     "text": [
      "None\n"
     ]
    },
    {
     "ename": "AttributeError",
     "evalue": "'NoneType' object has no attribute 'span'",
     "output_type": "error",
     "traceback": [
      "\u001b[0;31m---------------------------------------------------------------------------\u001b[0m",
      "\u001b[0;31mAttributeError\u001b[0m                            Traceback (most recent call last)",
      "\u001b[0;32m/tmp/ipykernel_52071/1702331808.py\u001b[0m in \u001b[0;36m<module>\u001b[0;34m\u001b[0m\n\u001b[1;32m      1\u001b[0m \u001b[0mresult\u001b[0m \u001b[0;34m=\u001b[0m \u001b[0mre\u001b[0m\u001b[0;34m.\u001b[0m\u001b[0msearch\u001b[0m\u001b[0;34m(\u001b[0m\u001b[0;34m\"insidde\"\u001b[0m\u001b[0;34m,\u001b[0m \u001b[0mtext\u001b[0m\u001b[0;34m)\u001b[0m\u001b[0;34m\u001b[0m\u001b[0;34m\u001b[0m\u001b[0m\n\u001b[1;32m      2\u001b[0m \u001b[0mprint\u001b[0m\u001b[0;34m(\u001b[0m\u001b[0mresult\u001b[0m\u001b[0;34m)\u001b[0m\u001b[0;34m\u001b[0m\u001b[0;34m\u001b[0m\u001b[0m\n\u001b[0;32m----> 3\u001b[0;31m \u001b[0mprint\u001b[0m\u001b[0;34m(\u001b[0m\u001b[0mresult\u001b[0m\u001b[0;34m.\u001b[0m\u001b[0mspan\u001b[0m\u001b[0;34m(\u001b[0m\u001b[0;34m)\u001b[0m\u001b[0;34m)\u001b[0m\u001b[0;34m\u001b[0m\u001b[0;34m\u001b[0m\u001b[0m\n\u001b[0m",
      "\u001b[0;31mAttributeError\u001b[0m: 'NoneType' object has no attribute 'span'"
     ]
    }
   ],
   "source": [
    "result = re.search(\"insidde\", text)\n",
    "print(result)\n",
    "print(result.span())"
   ]
  },
  {
   "cell_type": "markdown",
   "id": "2120e622-9119-46bf-8490-b0507d71ce45",
   "metadata": {},
   "source": [
    "Настоящая сила регулярных выражений раскрывается, когда в регулярном выражении (шаблоне) присутствуют **метасимволы**, т.е. символы, которые имеют особенное значение "
   ]
  },
  {
   "cell_type": "markdown",
   "id": "625b4ce1-6116-4c30-a274-4e4b7ed9cf48",
   "metadata": {},
   "source": [
    "#### []"
   ]
  },
  {
   "cell_type": "markdown",
   "id": "83d2c7f9-ef9b-4edc-be72-b5ec7421ded7",
   "metadata": {},
   "source": [
    "**Примечание** Внутри `[]` не нужно экранировать специальные символы (кроме  `^`, `-`, `]` и `\\`)"
   ]
  },
  {
   "cell_type": "markdown",
   "id": "c8ac849d-5f31-4af9-ae82-c25bf16d7cd1",
   "metadata": {},
   "source": [
    "Например, квадратные скобки `[]` используются для поиска множества символов:"
   ]
  },
  {
   "cell_type": "code",
   "execution_count": 375,
   "id": "1b89a441-3b94-4fa7-ba69-165a5d61c6ec",
   "metadata": {},
   "outputs": [
    {
     "name": "stdout",
     "output_type": "stream",
     "text": [
      "<re.Match object; span=(35, 36), match='8'>\n"
     ]
    }
   ],
   "source": [
    "text = \"Я до сих пор слышу это в голове... 88005553535... Проще позвонить, чем у кого-то занимать...\"\n",
    "\n",
    "pattern = \"[0-9]\" # будет произведен поиск одной любой цифры\n",
    "print(re.search(pattern, text))\n",
    "# А что если мы хотим больше одной?"
   ]
  },
  {
   "cell_type": "code",
   "execution_count": 369,
   "id": "0a075f4d-d293-4c84-b856-0bbc4cc749a8",
   "metadata": {},
   "outputs": [
    {
     "name": "stdout",
     "output_type": "stream",
     "text": [
      "<re.Match object; span=(35, 37), match='88'>\n"
     ]
    }
   ],
   "source": [
    "pattern = \"[0-9][0-9]\" # будет произведен поиск двух любых цифр\n",
    "print(re.search(pattern, text))"
   ]
  },
  {
   "cell_type": "markdown",
   "id": "62f59b2f-d553-4f8f-aca9-71ffe6cba6bb",
   "metadata": {},
   "source": [
    "А что если мы хотим искать числа произвольной длины?\n",
    "\n",
    "Забегая вперёд, для этого есть специальный символ:\n",
    "- `+` - для поиска одного и более повторений"
   ]
  },
  {
   "cell_type": "code",
   "execution_count": 374,
   "id": "79cb192f-e8b7-4527-865c-a22bb2aaa029",
   "metadata": {},
   "outputs": [
    {
     "name": "stdout",
     "output_type": "stream",
     "text": [
      "<re.Match object; span=(35, 40), match='88005'>\n"
     ]
    }
   ],
   "source": [
    "pattern = \"[0-9]+\" # будет произведен поиск одной и более цифры\n",
    "print(re.search(pattern, text))"
   ]
  },
  {
   "cell_type": "markdown",
   "id": "727d6849-0bac-44d4-aed6-fbdfcb197154",
   "metadata": {},
   "source": [
    "Символы в скобках необязательно должны быть в формате какого-то диапазона, как `[0-9]` или `[A-z]`, например:"
   ]
  },
  {
   "cell_type": "code",
   "execution_count": 377,
   "id": "03aace9e-ace2-46f0-a29f-9107f88ef21d",
   "metadata": {},
   "outputs": [
    {
     "name": "stdout",
     "output_type": "stream",
     "text": [
      "<re.Match object; span=(5, 7), match='бе'>\n"
     ]
    }
   ],
   "source": [
    "pattern = \"[бес][бес]\" # будет произведен поиск одного из символов (б, е, с) по порядку\n",
    "text = \"мракобесие\"\n",
    "\n",
    "print(re.search(pattern, text))"
   ]
  },
  {
   "cell_type": "code",
   "execution_count": 381,
   "id": "cb72d5c2-467a-47cd-9b70-0ca860655805",
   "metadata": {},
   "outputs": [
    {
     "name": "stdout",
     "output_type": "stream",
     "text": [
      "<re.Match object; span=(36, 40), match='Иван'>\n"
     ]
    }
   ],
   "source": [
    "# более осмысленный пример:\n",
    "pattern = \"[Ии]ван\"  # поиск текста `Иван` или `иван`\n",
    "text = \"Скажи-ка мне, Ванюша! Скажи-ка мне, Иван!\"\n",
    "\n",
    "print(re.search(pattern, text))"
   ]
  },
  {
   "cell_type": "markdown",
   "id": "5dcf1c9d-da98-41de-9f6a-a1d1dc9e092b",
   "metadata": {},
   "source": [
    "#### . (точка)"
   ]
  },
  {
   "cell_type": "markdown",
   "id": "ab193284-6db8-4bef-8c42-2a2536c3f1ee",
   "metadata": {},
   "source": [
    "Символ точки (`.`) соответствует одному любому символу в строке. Как вы думаете, какие из строк ниже соответствуют приведенному шаблону?"
   ]
  },
  {
   "cell_type": "code",
   "execution_count": null,
   "id": "567d37c5-22ea-4b08-b87b-6dbd83de2f0a",
   "metadata": {},
   "outputs": [],
   "source": [
    "pattern = \".от\"\n",
    "\n",
    "texts = [\"подушка\", \"Кот\", \"Живот\", \"крот\", \"от\"]\n",
    "for text in texts:\n",
    "    result = re.search(pattern, text)\n",
    "    if result is not None:\n",
    "        print(f\"Pattern {pattern} was found in {text}\")\n",
    "    else:\n",
    "        print(f\"Pattern {pattern} was not found in {text}\")"
   ]
  },
  {
   "cell_type": "markdown",
   "id": "72036bd2-15cd-48b4-8a46-7acd62cb5d33",
   "metadata": {},
   "source": [
    "#### ^ и $"
   ]
  },
  {
   "cell_type": "markdown",
   "id": "e9dc69a8-6495-40f0-a6fa-aef4d9a77116",
   "metadata": {},
   "source": [
    "Иногда нам хочется не просто найти какую-то подстроку внутри строки, но быть уверенными в том, что она находится:\n",
    "- В самом начале слова (символ `^`)\n",
    "- В самом конце слова (символ `$`). Символ `$` также позволит найти шаблон перед переносом строки (т.е. перед `\\n`)\n",
    "- Находится ровно между началом и концом (т.е. шаблон соответствует тексту целиком)\n"
   ]
  },
  {
   "cell_type": "code",
   "execution_count": 277,
   "id": "18521b2a-7e46-4f7a-bf8f-e5226151117e",
   "metadata": {},
   "outputs": [
    {
     "data": {
      "text/plain": [
       "<re.Match object; span=(0, 9), match='[Verse 1]'>"
      ]
     },
     "execution_count": 277,
     "metadata": {},
     "output_type": "execute_result"
    }
   ],
   "source": [
    "text = \"\"\"\n",
    "[Verse 1]\n",
    "Buddy, you're a boy, make a big noise\n",
    "Playing in the street\n",
    "Gonna be a big man someday\n",
    "You got mud on your face\n",
    "You big disgrace\n",
    "Kickin' your can all over the place, singing\n",
    "\"\"\".strip()\n",
    "\n",
    "pattern = \"^\\[Verse [0-9]\\]\"  # паттерн для поиска [Verse *цифра*] в начале строки \n",
    "re.search(pattern, text)"
   ]
  },
  {
   "cell_type": "code",
   "execution_count": 280,
   "id": "34831f6d-ba19-4dff-8043-fd24ab74443d",
   "metadata": {},
   "outputs": [
    {
     "data": {
      "text/plain": [
       "<re.Match object; span=(57, 60), match='you'>"
      ]
     },
     "execution_count": 280,
     "metadata": {},
     "output_type": "execute_result"
    }
   ],
   "source": [
    "text = \"\"\"\n",
    "[Chorus]\n",
    "We will, we will rock you\n",
    "We will, we will rock you\n",
    "\"\"\".strip()\n",
    "\n",
    "pattern = \"you$\"  # поиск you в самом конце строки [в некотором смысле похоже на str.rfind]\n",
    "re.search(pattern, text)"
   ]
  },
  {
   "cell_type": "markdown",
   "id": "7a35ab57-c8e2-4d8c-85cd-1dd9305a01be",
   "metadata": {},
   "source": [
    "#### Синтаксис [^]"
   ]
  },
  {
   "cell_type": "markdown",
   "id": "64214303-7cc5-4737-99e4-3ece8ddca94b",
   "metadata": {},
   "source": [
    "Символ `^` имеет другое значение, если внутри `[]`. Такая запись `[^...]` означает поиск такого символа, который не соответствует чему-либо внутри `[]` (то есть это по сути отрицание множества символов)"
   ]
  },
  {
   "cell_type": "code",
   "execution_count": 290,
   "id": "8d40b14b-c237-4633-9c5a-0417e055e64c",
   "metadata": {},
   "outputs": [
    {
     "data": {
      "text/plain": [
       "<re.Match object; span=(0, 1), match='Я'>"
      ]
     },
     "execution_count": 290,
     "metadata": {},
     "output_type": "execute_result"
    }
   ],
   "source": [
    "text = \"Я уже совсем большой, мне 5 лет!\"\n",
    "pattern = \"[^0-9]\"  # поиск символа, который не соответствует никакой цифре\n",
    "\n",
    "re.search(pattern, text)"
   ]
  },
  {
   "cell_type": "markdown",
   "id": "535f155f-5d2b-493a-ad94-5907333f8fc6",
   "metadata": {},
   "source": [
    "#### Синтаксис \\\\*letter*"
   ]
  },
  {
   "cell_type": "markdown",
   "id": "42992356-458f-4760-8146-57f8d23c80df",
   "metadata": {},
   "source": [
    "##### \\\\w и \\\\W"
   ]
  },
  {
   "cell_type": "markdown",
   "id": "19d190bd-a0ca-4eef-9778-4845f80c9703",
   "metadata": {},
   "source": [
    "\\w (от word) соответствует набору [0-9a-zA-Zа-яА-ЯёЁ_], т.е. это любая буква (то, что может быть частью слова), а также цифры и _ "
   ]
  },
  {
   "cell_type": "code",
   "execution_count": 287,
   "id": "8adee5ad-d6fb-4083-80ef-03383826b4fb",
   "metadata": {},
   "outputs": [
    {
     "data": {
      "text/plain": [
       "<re.Match object; span=(0, 1), match='В'>"
      ]
     },
     "execution_count": 287,
     "metadata": {},
     "output_type": "execute_result"
    }
   ],
   "source": [
    "text = \"Вы нас балуете, наша светлость\"\n",
    "pattern = \"\\w\"\n",
    "\n",
    "re.search(pattern, text)"
   ]
  },
  {
   "cell_type": "markdown",
   "id": "ae1908ee-d79d-441e-ad59-5c36fe29824a",
   "metadata": {},
   "source": [
    "А какую подстроку мы найдем с помощью вот такого регулярного выражения?"
   ]
  },
  {
   "cell_type": "code",
   "execution_count": null,
   "id": "3d742693-1d17-4e29-8ba0-dc1f222664ce",
   "metadata": {},
   "outputs": [],
   "source": [
    "text = \"Вы нас балуете, наша светлость\"\n",
    "pattern = \"\\w+\"\n",
    "\n",
    "\n",
    "print(re.search(pattern, text))"
   ]
  },
  {
   "cell_type": "markdown",
   "id": "464f2790-3572-4b46-8020-80a9a6ea3946",
   "metadata": {},
   "source": [
    "\\W (с большой буквы) - это противоположность \\w (с маленькой)\n",
    "\n",
    "\\W эквивалентно [^0-9a-zA-Zа-яА-ЯёЁ_] -> т.е. поиск любого символа, который не является цифрой, буквой алфавита или символом \"_\""
   ]
  },
  {
   "cell_type": "code",
   "execution_count": 295,
   "id": "b5453999-e828-454c-a883-a876fea2f3af",
   "metadata": {},
   "outputs": [
    {
     "data": {
      "text/plain": [
       "<re.Match object; span=(2, 3), match='-'>"
      ]
     },
     "execution_count": 295,
     "metadata": {},
     "output_type": "execute_result"
    }
   ],
   "source": [
    "pattern = \"\\W\"\n",
    "text = \"То-то же, будешь знать!\"\n",
    "\n",
    "re.search(pattern, text)"
   ]
  },
  {
   "cell_type": "markdown",
   "id": "63918f16-e2fc-432e-b412-164ac835803a",
   "metadata": {},
   "source": [
    "##### \\d и \\D"
   ]
  },
  {
   "cell_type": "markdown",
   "id": "06c51ae8-4ac6-463f-a086-487dcd5e634c",
   "metadata": {},
   "source": [
    "- \\d - аналог [0-9]\n",
    "- \\D - аналог [^0-9]"
   ]
  },
  {
   "cell_type": "code",
   "execution_count": 296,
   "id": "69ea4332-e546-4f19-a74f-70d312bd8239",
   "metadata": {},
   "outputs": [
    {
     "name": "stdout",
     "output_type": "stream",
     "text": [
      "<re.Match object; span=(35, 36), match='8'>\n"
     ]
    }
   ],
   "source": [
    "text = \"Я до сих пор слышу это в голове... 88005553535... Проще позвонить, чем у кого-то занимать...\"\n",
    "\n",
    "pattern = \"\\d\" # будет произведен поиск одной любой цифры\n",
    "print(re.search(pattern, text))"
   ]
  },
  {
   "cell_type": "code",
   "execution_count": 297,
   "id": "fa506d7e-7f6e-481b-9967-80b232e808fd",
   "metadata": {},
   "outputs": [
    {
     "name": "stdout",
     "output_type": "stream",
     "text": [
      "<re.Match object; span=(0, 1), match='Я'>\n"
     ]
    }
   ],
   "source": [
    "text = \"Я до сих пор слышу это в голове... 88005553535... Проще позвонить, чем у кого-то занимать...\"\n",
    "\n",
    "pattern = \"\\D\" # будет произведен поиск одного нечислового символа\n",
    "print(re.search(pattern, text))"
   ]
  },
  {
   "cell_type": "markdown",
   "id": "9dcac46e-1b96-4e65-aec7-2f09494fef52",
   "metadata": {},
   "source": [
    "##### \\s и \\S "
   ]
  },
  {
   "cell_type": "markdown",
   "id": "f0be410c-f7ff-4914-98bb-f3e55592df1b",
   "metadata": {},
   "source": [
    "- \\s используется для поиска пробельных символов\n",
    "- \\S используется для поиска любых символов, кроме пробельных"
   ]
  },
  {
   "cell_type": "code",
   "execution_count": 302,
   "id": "77e4fc9c-1a1b-4659-bc5b-a13eacbb5a96",
   "metadata": {},
   "outputs": [
    {
     "name": "stdout",
     "output_type": "stream",
     "text": [
      "<re.Match object; span=(5, 6), match='\\xa0'>\n",
      "<re.Match object; span=(5, 6), match='\\u2008'>\n",
      "<re.Match object; span=(5, 6), match=' '>\n"
     ]
    }
   ],
   "source": [
    "bad_str_8bit = \"Hello\\xa0World!\" \n",
    "bad_str_unicode = \"Hello\\u2008World!\"\n",
    "good_str = \"Hello World!\"\n",
    "\n",
    "pattern = \"\\s\"\n",
    "\n",
    "print(re.search(pattern, bad_str_8bit))\n",
    "print(re.search(pattern, bad_str_unicode))\n",
    "print(re.search(pattern, good_str))"
   ]
  },
  {
   "cell_type": "markdown",
   "id": "ca895140-14d9-4d82-8208-d739d0191df9",
   "metadata": {},
   "source": [
    "#### Якори"
   ]
  },
  {
   "cell_type": "markdown",
   "id": "119dcfb5-ef97-4b0d-b48c-cecab5d1db85",
   "metadata": {},
   "source": [
    "Якори - это категория специальных символов внутри регулярных выражений, которые отвечают за положение искомого шаблона\n",
    "`^` и `$` - примеры таких якорей, отвечающих за начало и конец строки соответственно\n",
    "\n",
    "Особенностью якорей является то, что сами по себе они не соответствуют какому-либо символу (т.е. это zero-width match)"
   ]
  },
  {
   "cell_type": "code",
   "execution_count": 303,
   "id": "bc076689-5b41-4329-ad95-fe3c4430b0d5",
   "metadata": {},
   "outputs": [
    {
     "data": {
      "text/plain": [
       "<re.Match object; span=(0, 0), match=''>"
      ]
     },
     "execution_count": 303,
     "metadata": {},
     "output_type": "execute_result"
    }
   ],
   "source": [
    "text = \"Какой-то текст\"\n",
    "pattern = \"^\"\n",
    "\n",
    "re.search(pattern, text)"
   ]
  },
  {
   "cell_type": "markdown",
   "id": "013e5d73-f655-4d8c-a605-02eeb2100507",
   "metadata": {},
   "source": [
    "##### \\b и \\B"
   ]
  },
  {
   "cell_type": "markdown",
   "id": "964a905a-61ae-48b5-bf61-7d70d318bb8b",
   "metadata": {},
   "source": [
    "- \\b - указатель на начало слова или его конец\n",
    "- \\B - противоположен ему, т.е. указывает на не-начало слова или не-конец слова\n",
    "\n",
    "Слово - это \\w (т.е. [a-zA-Z0-9_])"
   ]
  },
  {
   "cell_type": "code",
   "execution_count": 310,
   "id": "64a7fdc3-beab-4e55-9519-d01886db6e2d",
   "metadata": {},
   "outputs": [
    {
     "name": "stdout",
     "output_type": "stream",
     "text": [
      "<re.Match object; span=(32, 35), match='жев'>\n",
      "вал: жевал\n"
     ]
    }
   ],
   "source": [
    "text = 'И он всё тщательно пережевывал: жевал, жевал...'\n",
    "result = re.search(r'\\bжев', text)\n",
    "print(result)\n",
    "l, r = result.span()\n",
    "print(text[l-5:l+5])"
   ]
  },
  {
   "cell_type": "code",
   "execution_count": 312,
   "id": "2b712b42-2f82-46ae-94ed-65b0d8a1100e",
   "metadata": {},
   "outputs": [
    {
     "name": "stdout",
     "output_type": "stream",
     "text": [
      "<re.Match object; span=(23, 26), match='жев'>\n",
      " пережевыв\n"
     ]
    }
   ],
   "source": [
    "result = re.search(r'жев', text)\n",
    "print(result)\n",
    "l, r = result.span()\n",
    "print(text[l-5:l+5])"
   ]
  },
  {
   "cell_type": "code",
   "execution_count": 314,
   "id": "9df1763a-80cd-466d-b8de-7b95be93dac9",
   "metadata": {},
   "outputs": [
    {
     "name": "stdout",
     "output_type": "stream",
     "text": [
      "<re.Match object; span=(31, 34), match='жев'>\n",
      " пережевыв\n"
     ]
    }
   ],
   "source": [
    "text = 'И он всё жевал, жевал...Да пережевывал'\n",
    "result = re.search(r'\\Bжев', text)\n",
    "print(result)\n",
    "l, r = result.span()\n",
    "print(text[l-5:l+5])"
   ]
  },
  {
   "cell_type": "markdown",
   "id": "7d8a0090-0727-47f6-a02c-d90331a6c0a7",
   "metadata": {},
   "source": [
    "#### Квантификаторы"
   ]
  },
  {
   "cell_type": "markdown",
   "id": "26b53b92-b1fb-4323-97f6-c7b3508b6b02",
   "metadata": {},
   "source": [
    "Квантификаторы - это категория специальных символов, используемая для обозначения количества повторений шаблона\n",
    "\n",
    "- `*` - ноль или более повторений\n",
    "- `+` - одно или больше повторений\n",
    "- `?` - ноль или одно повторение\n",
    "\n",
    "Квантификаторы должны стоять после какого-то шаблона. Например, следующее выражение `.?` означает \"ноль или один любой символ\""
   ]
  },
  {
   "cell_type": "code",
   "execution_count": 317,
   "id": "666941eb-e372-4d38-882c-b51b342a88c0",
   "metadata": {},
   "outputs": [
    {
     "data": {
      "text/plain": [
       "<re.Match object; span=(0, 10), match='8800553535'>"
      ]
     },
     "execution_count": 317,
     "metadata": {},
     "output_type": "execute_result"
    }
   ],
   "source": [
    "text = \"8800553535...проще позвонить...\"\n",
    "pattern = \"[0-9]+\"  # одна или более цифра\n",
    "\n",
    "re.search(pattern, text)"
   ]
  },
  {
   "cell_type": "code",
   "execution_count": 318,
   "id": "3af76d03-a657-4747-9cb8-1ab78ce02195",
   "metadata": {},
   "outputs": [
    {
     "data": {
      "text/plain": [
       "<re.Match object; span=(0, 1), match='8'>"
      ]
     },
     "execution_count": 318,
     "metadata": {},
     "output_type": "execute_result"
    }
   ],
   "source": [
    "text = \"8800553535...проще позвонить...\"\n",
    "pattern = \"[0-9]?\"  # одна или 0 цифр\n",
    "\n",
    "re.search(pattern, text)"
   ]
  },
  {
   "cell_type": "code",
   "execution_count": 320,
   "id": "7ae084a2-c932-4024-b601-d108be5ec234",
   "metadata": {},
   "outputs": [
    {
     "data": {
      "text/plain": [
       "<re.Match object; span=(13, 14), match='п'>"
      ]
     },
     "execution_count": 320,
     "metadata": {},
     "output_type": "execute_result"
    }
   ],
   "source": [
    "text = \"8800553535...проще позвонить...\"\n",
    "pattern = \"[0-9]*п\"  # 0 или более цифр, после которых идет буква \"п\"\n",
    "\n",
    "re.search(pattern, text)"
   ]
  },
  {
   "cell_type": "markdown",
   "id": "60a35b36-8e9b-4f78-b68e-0b6f809d333c",
   "metadata": {},
   "source": [
    "__Важно__\n",
    "\n",
    "По умолчанию квантификаторы производят поиск самого длинного шаблона из возможных внутри строки (т.е. они работают жадно)"
   ]
  },
  {
   "cell_type": "markdown",
   "id": "761b84fb-8a10-4b0d-a6f8-e38f9f73660b",
   "metadata": {},
   "source": [
    "Как вы думаете, какой результат вернет поиск по шаблону ниже?"
   ]
  },
  {
   "cell_type": "code",
   "execution_count": null,
   "id": "e116617c-17c1-4aff-9d3a-1dce4df00ed0",
   "metadata": {},
   "outputs": [],
   "source": [
    "re.search('<.*>', '<div><span> <br> </span></div>')"
   ]
  },
  {
   "cell_type": "markdown",
   "id": "fc82e374-8116-4bce-84c7-e438950466fc",
   "metadata": {},
   "source": [
    "Квантификаторы можно использовать в нежадном режиме, дописав к ним знак `?`:\n",
    "- `*?`\n",
    "- `+?`\n",
    "- `??`\n",
    "\n",
    "Тогда будет произведен поиск самого короткого шаблон:"
   ]
  },
  {
   "cell_type": "code",
   "execution_count": null,
   "id": "4713f17a-a47b-4294-9cb0-20cee4813827",
   "metadata": {},
   "outputs": [],
   "source": [
    "re.search('<.*?>', '<div><span> <br> </span></div>')"
   ]
  },
  {
   "cell_type": "markdown",
   "id": "61aaea87-da62-4e31-a470-d1fd39d2767c",
   "metadata": {},
   "source": [
    "#### {}"
   ]
  },
  {
   "cell_type": "markdown",
   "id": "a2a88725-d93f-487c-92c7-efcd4f4750d1",
   "metadata": {},
   "source": [
    "- `{m}` используется для поиска в точности `m` повторений шаблона (в этом смысле это гибче, чем `?`, `*` и `+`)\n",
    "- `{m, n}` поиск любого числа повторений шаблона от `m` до `n` включительно\n",
    "- `{m,}` поиск от `m` и больше включительно\n",
    "- `{,n}` поиск меньше чем `n` включительно\n",
    "- `{,}` поиск любого числа (т.е. это как `*`)"
   ]
  },
  {
   "cell_type": "code",
   "execution_count": null,
   "id": "442b82b5-1dd2-4bbb-8a4a-6409a6f9b058",
   "metadata": {},
   "outputs": [],
   "source": [
    "text = \"88005553535\"\n",
    "\n",
    "re.search(\"8{,2}0{,2}5{3}3535\", text)"
   ]
  },
  {
   "cell_type": "markdown",
   "id": "ee270fa8-79d1-42ba-a303-b40d4a1b38bf",
   "metadata": {},
   "source": [
    "Если внутри регулярного выражения `{}` стоят как есть (не соответствуя синтаксису выше), они не имеют особого смысла и используются просто как символ \"фигурные скобки\""
   ]
  },
  {
   "cell_type": "code",
   "execution_count": 27,
   "id": "6b8ee277-5cc1-43b4-a320-f8656e3438ca",
   "metadata": {},
   "outputs": [
    {
     "name": "stdout",
     "output_type": "stream",
     "text": [
      "<re.Match object; span=(0, 7), match='x{foo}y'>\n",
      "<re.Match object; span=(0, 7), match='x{a:b}y'>\n",
      "<re.Match object; span=(0, 9), match='x{1,3,5}y'>\n",
      "<re.Match object; span=(0, 11), match='x{foo,bar}y'>\n"
     ]
    }
   ],
   "source": [
    "print(re.search('x{foo}y', 'x{foo}y'))\n",
    "\n",
    "print(re.search('x{a:b}y', 'x{a:b}y'))\n",
    "\n",
    "print(re.search('x{1,3,5}y', 'x{1,3,5}y'))\n",
    "\n",
    "print(re.search('x{foo,bar}y', 'x{foo,bar}y'))"
   ]
  },
  {
   "cell_type": "markdown",
   "id": "694b706f-4775-4823-b8a9-beb0717d7e63",
   "metadata": {},
   "source": [
    "Ещё есть синтаксис `{m,n}?`\n",
    "\n",
    "- `{m,n}` - это жадный вариант (будет находить как можно больше повторений [m;n])\n",
    "- `{m,n}?` - нежадный (lazy) вариант (будет находить как можно меньше повторений [m;n])"
   ]
  },
  {
   "cell_type": "code",
   "execution_count": 29,
   "id": "b20fca73-d51f-4e98-9474-99a41a602a33",
   "metadata": {},
   "outputs": [
    {
     "name": "stdout",
     "output_type": "stream",
     "text": [
      "<re.Match object; span=(0, 5), match='aaaaa'>\n",
      "<re.Match object; span=(0, 3), match='aaa'>\n"
     ]
    }
   ],
   "source": [
    "print(re.search('a{3,5}', 'aaaaaaaa'))  # как можно больше повторений из [3;5]\n",
    "print(re.search('a{3,5}?', 'aaaaaaaa'))  # как можно меньше повторений из [3;5]"
   ]
  },
  {
   "cell_type": "markdown",
   "id": "17ad32d5-93dc-4438-9dba-cf29d7accdc3",
   "metadata": {},
   "source": [
    "### Задача 1. Номера автомобилей\n",
    "\n",
    "В России применяются регистрационные знаки нескольких видов.\n",
    "Общего в них то, что они состоят из цифр и букв. Причём используются только 12 букв кириллицы, имеющие графические аналоги в латинском алфавите — А, В, Е, К, М, Н, О, Р, С, Т, У и Х.\n",
    "\n",
    "\n",
    "У частных легковых автомобилях номера — это буква, три цифры, две буквы, затем две или три цифры с кодом региона. У такси — две буквы, три цифры, затем две или три цифры с кодом региона. Есть также и другие виды, но в этой задаче они не понадобятся.\n",
    "\n",
    "\n",
    "Вам потребуется определить, является ли последовательность букв корректным номером указанных двух типов, и если является, то каким.\n",
    "\n",
    "\n",
    "На вход даются строки, которые претендуют на то, чтобы быть номером. Определите тип номера. Буквы в номерах — заглавные русские. Маленькие и английские для простоты можно игнорировать. \n",
    "\n",
    "**Примечание** Попробуйте решить сначала без `{}`, а потом с `{}`"
   ]
  },
  {
   "cell_type": "code",
   "execution_count": null,
   "id": "bdc74b21-387a-4cda-8964-aa8d351913ae",
   "metadata": {},
   "outputs": [],
   "source": [
    "privates_pattern = ...\n",
    "taxi_pattern = ...\n",
    "\n",
    "def get_car_type(plate, privates_pattern=privates_pattern, taxi_pattern=taxi_pattern):\n",
    "    if re.search(privates_pattern, plate):\n",
    "        return \"private\"\n",
    "    elif re.search(taxi_pattern, plate):\n",
    "        return \"taxi\"\n",
    "    else:\n",
    "        return \"fail\"\n",
    "\n",
    "\n",
    "# для самопроверки\n",
    "plates_list = [\"С227НА777\", \"КУ22777\", \"Т22В7477\", \"М227К19У9\", \"С227НА777\"]\n",
    "answers = [\"private\", \"taxi\", \"fail\", \"fail\", \"fail\"]\n",
    "\n",
    "for plate_num, answer in zip(plates_list, answers):\n",
    "    assert get_car_type(plate_num) == answer"
   ]
  },
  {
   "cell_type": "markdown",
   "id": "75361708-075d-4e2d-9669-0709a7ee47c2",
   "metadata": {},
   "source": [
    "### Задача 2. Валидация e-mail"
   ]
  },
  {
   "cell_type": "markdown",
   "id": "af73d7ec-efcf-4a6f-8068-fe72da38b715",
   "metadata": {},
   "source": [
    "Email-адрес соответствует следующему формату: `Local-part@Domain`\n",
    "\n",
    "Local-part:\n",
    "- До `@` может содержать до 64 символов\n",
    "- Разрешена латиница, цифры и символы `'._+-` (все)\n",
    "- Не может начинаться или заканчиваться на `.+-` (ни один из символов)\n",
    "- Две точки подряд запрещены\n",
    "\n",
    "Domain:\n",
    "- После `@` может содержать до 255 символов\n",
    "- Разрешена латиница, цифры и `.-`\n",
    "- Две точки подряд запрещены\n",
    "- Доменная часть не может начинаться или заканчиваться на `.+-` (ни один из)\n",
    "\n",
    "На вход даётся текст, из которого нужно достать email-адрес (или вернуть None, если его там нет)"
   ]
  },
  {
   "cell_type": "code",
   "execution_count": 75,
   "id": "950af16c-98b6-4e18-b7f4-b16df7041a98",
   "metadata": {},
   "outputs": [
    {
     "data": {
      "text/plain": [
       "<re.Match object; span=(10, 26), match='example@mail.com'>"
      ]
     },
     "execution_count": 75,
     "metadata": {},
     "output_type": "execute_result"
    }
   ],
   "source": [
    "pattern = \"\"\n",
    "\n",
    "address = \"мой email—example@mail.com\"\n",
    "\n",
    "re.search(pattern, address)"
   ]
  },
  {
   "cell_type": "code",
   "execution_count": 76,
   "id": "3217f2a9-d324-4694-923d-80f02bbbef2e",
   "metadata": {},
   "outputs": [
    {
     "name": "stdout",
     "output_type": "stream",
     "text": [
      "<re.Match object; span=(25, 45), match='ivanoff@ivan-chai.ru'>\n",
      "<re.Match object; span=(30, 51), match=\"serge'o-lupin@mail.ru\">\n",
      "None\n",
      "None\n",
      "<re.Match object; span=(0, 6), match='boo@ya'>\n",
      "<re.Match object; span=(1, 10), match='boo@ya.ru'>\n",
      "<re.Match object; span=(4, 13), match='boo@ya.ru'>\n"
     ]
    }
   ],
   "source": [
    "texts = [\"Нужен ответ на письмо от ivanoff@ivan-chai.ru.\",\n",
    "         \"Не забудьте поставить в копию serge'o-lupin@mail.ru- это важно.\",\n",
    "         \"foo.@ya.ru\", \n",
    "         \"foo@.ya.ru\", \n",
    "         \"boo@ya_ru\",\n",
    "         \"-boo@ya.ru-\",\n",
    "         \"foo№boo@ya.ru\"\n",
    "        ]\n",
    "for i in texts:\n",
    "    print(re.search(pattern, i))"
   ]
  },
  {
   "cell_type": "markdown",
   "id": "afe6615d-a701-467b-810d-69d7f54d1e21",
   "metadata": {},
   "source": [
    "## Группировка"
   ]
  },
  {
   "cell_type": "markdown",
   "id": "100c263b-4c1c-4049-b88b-e2a70be0d96c",
   "metadata": {},
   "source": [
    "Здесь нам важны два термина:\n",
    "\n",
    "- **Группа (group)** - единая синтаксическая сущность. Например, если мы хотим искать строчки, в которых повторяется не просто символ, а конкретный набор символов, удобно работать с этим набором как с единой группой\n",
    "- **Захват (capturing)** - некоторые группирующие конструкции \"захватывают\" ту часть строки, которая соответствует группе в используемом поисковом шаблоне. На деле это значит, что мы можем после применения регулярного выражения к строке доставать не только искомую(ые) подстроку(и) целиком, но и получать доступ к её частям (которые соответствуют группам)"
   ]
  },
  {
   "cell_type": "markdown",
   "id": "8a8939aa-9aed-42a6-bf12-360aaa65ae6c",
   "metadata": {},
   "source": [
    "__Группы__"
   ]
  },
  {
   "cell_type": "markdown",
   "id": "591381e9-8c0d-47ec-bfaf-2e9ac7456341",
   "metadata": {},
   "source": [
    "Для того, чтобы сгруппировать набор символов, нужно поместить его в круглые скобки. Например, так: `(слово)`"
   ]
  },
  {
   "cell_type": "code",
   "execution_count": 31,
   "id": "3b72de0d-c486-46aa-8ef8-f3c94282bc12",
   "metadata": {},
   "outputs": [
    {
     "name": "stdout",
     "output_type": "stream",
     "text": [
      "<re.Match object; span=(14, 19), match='слово'>\n",
      "<re.Match object; span=(14, 19), match='слово'>\n"
     ]
    }
   ],
   "source": [
    "print(re.search(\"(слово)\", \"В начале было слово, и слово было у Бога\"))\n",
    "print(re.search(\"слово\", \"В начале было слово, и слово было у Бога\"))"
   ]
  },
  {
   "cell_type": "code",
   "execution_count": 34,
   "id": "26dfb82d-f118-4c54-977e-4c7e440794d9",
   "metadata": {},
   "outputs": [
    {
     "name": "stdout",
     "output_type": "stream",
     "text": [
      "<re.Match object; span=(14, 27), match='привет-привет'>\n",
      "<re.Match object; span=(7, 13), match='привет'>\n"
     ]
    }
   ],
   "source": [
    "# поиск слова \"привет\", за которым следует \"-привет\" 0 или 1 раз\n",
    "print(re.search(\"(привет)(-привет)?\", \"Дорогой друг, привет-привет\"))  \n",
    "print(re.search(\"(привет)(-привет)?\", \"Это я, привет!\"))  "
   ]
  },
  {
   "cell_type": "code",
   "execution_count": 36,
   "id": "c39fa47f-1915-47c0-bc91-171e8979d0c5",
   "metadata": {},
   "outputs": [
    {
     "name": "stdout",
     "output_type": "stream",
     "text": [
      "<re.Match object; span=(0, 8), match='Дададада'>\n",
      "<re.Match object; span=(0, 2), match='Да'>\n"
     ]
    }
   ],
   "source": [
    "# без группировки квантификаторы будут применяться лишь к одному символу\n",
    "print(re.search(\"([Дд]а)+\", \"Дададада, я Молния Маквин, самый быстрый из машин!\"))\n",
    "print(re.search(\"[Дд]а+\", \"Дададада, я Молния Маквин, самый быстрый из машин!\"))"
   ]
  },
  {
   "cell_type": "markdown",
   "id": "85e679c2-dfe1-479d-91d4-82c3fa28d1fb",
   "metadata": {},
   "source": [
    "__Захват (capturing)__"
   ]
  },
  {
   "cell_type": "markdown",
   "id": "9111a958-c7fc-4599-85a9-ada4b29a0709",
   "metadata": {},
   "source": [
    "Результатом применения `re.search` к строке и шаблону является объект `re.Match`. Кроме того, что мы можем достать какую-то информацию о нем через встроенные методы и атрибуты (пока мы видели только `span`, подробнее [тут](https://docs.python.org/3/library/re.html#match-objects)), можно получать доступ к подстрокам, которые соответствуют группам из шаблона"
   ]
  },
  {
   "cell_type": "markdown",
   "id": "fe6361d6-1ba5-491a-8721-1f532acebf80",
   "metadata": {},
   "source": [
    "**Метод `.groups()`** вернет кортеж всех групп, которые подходят под регулярное выражение (сколько групп, столько элементов). Также важно, что `.groups()` будет захватывать последний соответствующий группе шаблон"
   ]
  },
  {
   "cell_type": "code",
   "execution_count": 59,
   "id": "d49743fc-fa61-4fd9-b1cf-d7ebc061fdc7",
   "metadata": {},
   "outputs": [
    {
     "name": "stdout",
     "output_type": "stream",
     "text": [
      "<re.Match object; span=(0, 8), match='Дададада'>\n",
      "('да',)\n"
     ]
    }
   ],
   "source": [
    "# здесь была всего одна группа, поэтому кортеж\n",
    "\n",
    "m = re.search(\"([Дд]а)+\", \"Дададада, я Молния Маквин, самый быстрый из машин!\")\n",
    "print(m)\n",
    "print(m.groups()) "
   ]
  },
  {
   "cell_type": "code",
   "execution_count": 63,
   "id": "977cf0a0-75f5-4a07-a9bb-6bde07f0e3d1",
   "metadata": {},
   "outputs": [
    {
     "name": "stdout",
     "output_type": "stream",
     "text": [
      "<re.Match object; span=(0, 9), match='Дада-даДа'>\n",
      "('Да', 'да', 'Да')\n"
     ]
    }
   ],
   "source": [
    "m = re.search(\"(Да)(да)-([Дд]а)+\", \"Дада-даДа, я Молния Маквин, самый быстрый из машин!\")\n",
    "print(m)\n",
    "print(m.groups()) "
   ]
  },
  {
   "cell_type": "markdown",
   "id": "63c03454-10c3-4142-89f6-967a2cabc147",
   "metadata": {},
   "source": [
    "**Метод .group(n)** вернёт n-тую группу (нумерация с единицы)\n",
    "\n",
    "Если использовать `.group()` без передачи аргумента, это будет равносильно `.group(0)`, что значит вернуть **полностью** всю подстроку"
   ]
  },
  {
   "cell_type": "code",
   "execution_count": 68,
   "id": "42d15b53-88fd-4a48-bbb7-e8b01508b877",
   "metadata": {},
   "outputs": [
    {
     "name": "stdout",
     "output_type": "stream",
     "text": [
      "<re.Match object; span=(0, 9), match='Дада-даДа'>\n",
      "('Да', 'да', 'Да')\n",
      "Да\n",
      "да\n",
      "\n",
      "Варианты ниже эквивалентны:\n",
      "Дада-даДа\n",
      "Дада-даДа\n"
     ]
    }
   ],
   "source": [
    "m = re.search(\"(Да)(да)-([Дд]а)+\", \"Дада-даДа, я Молния Маквин, самый быстрый из машин!\")\n",
    "print(m)\n",
    "print(m.groups())  # все группы\n",
    "print(m.group(1))  # первая группа\n",
    "print(m.group(2), end=\"\\n\\n\")  # вторая группа\n",
    "\n",
    "print(\"Варианты ниже эквивалентны:\")\n",
    "print(m.group(0))\n",
    "print(m.group())"
   ]
  },
  {
   "cell_type": "markdown",
   "id": "47ea938e-f9c1-49bc-9217-e944207b06a9",
   "metadata": {},
   "source": [
    "Если нужен список конкретных групп, можно использовать синтаксис `.group(m, k, n, ...)`, который вернет группы по указанным номерам:"
   ]
  },
  {
   "cell_type": "code",
   "execution_count": 69,
   "id": "b752b03a-b867-45f2-b051-e8c9bbcdd8e8",
   "metadata": {},
   "outputs": [
    {
     "name": "stdout",
     "output_type": "stream",
     "text": [
      "<re.Match object; span=(0, 9), match='Дада-даДа'>\n",
      "('Да', 'Да')\n"
     ]
    }
   ],
   "source": [
    "m = re.search(\"(Да)(да)-([Дд]а)+\", \"Дада-даДа, я Молния Маквин, самый быстрый из машин!\")\n",
    "print(m)\n",
    "print(m.group(1, 3))  # группы 1 и 3"
   ]
  },
  {
   "cell_type": "markdown",
   "id": "1390b6aa-dd9b-4ecb-81d8-eaf21345886a",
   "metadata": {},
   "source": [
    "Про [backreference](https://realpython.com/regex-python/#backreferences)"
   ]
  },
  {
   "cell_type": "markdown",
   "id": "1d79f869-7ed5-4dcf-a0c8-846fa4e2e066",
   "metadata": {},
   "source": [
    "**Группы без захвата `(?:)` и перечисления `|`**"
   ]
  },
  {
   "cell_type": "markdown",
   "id": "c1273024-740b-4834-b09f-dc00eeff9bdd",
   "metadata": {},
   "source": [
    "`(?:)` работает так же, как `()`, только не приводит к созданию группы, к которой можно получить доступ после выполнения поиска (non-capturing group)\n",
    "\n",
    "Т.е. мы можем использовать `(?:something)`, когда нам просто важно сгруппировать символы, не очень нужно впоследствии иметь к ним доступ как к группе"
   ]
  },
  {
   "cell_type": "code",
   "execution_count": 78,
   "id": "bcbb9a35-d811-4a92-9154-1798577bf3f2",
   "metadata": {},
   "outputs": [
    {
     "name": "stdout",
     "output_type": "stream",
     "text": [
      "<re.Match object; span=(0, 9), match='Дада-даДа'>\n",
      "('да', 'Да')\n",
      "Дада-даДа\n"
     ]
    }
   ],
   "source": [
    "m = re.search(\"(?:Да)(да)-([Дд]а)+\", \"Дада-даДа, я Молния Маквин, самый быстрый из машин!\")\n",
    "print(m)\n",
    "print(m.groups())  # первая группа включена не будет\n",
    "print(m.group())  # но на поиск в данном случае это влиять не будет"
   ]
  },
  {
   "cell_type": "markdown",
   "id": "16c92a43-f940-4aa5-a898-8cc0740e9ac2",
   "metadata": {},
   "source": [
    "Символ `|` используется как \"или\" и нужен для поиска какого-то из шаблонов, стоящих слева или справа от него:\n",
    "- `a|b` для поиска `a` или `b`\n",
    "- `(лево|право)` для поиска `лево` или `право`"
   ]
  },
  {
   "cell_type": "code",
   "execution_count": 81,
   "id": "68b0079a-e992-4fc1-9840-627ced2537f1",
   "metadata": {},
   "outputs": [
    {
     "name": "stdout",
     "output_type": "stream",
     "text": [
      "<re.Match object; span=(0, 6), match='он шёл'>\n",
      "<re.Match object; span=(0, 7), match='он плыл'>\n",
      "<re.Match object; span=(3, 7), match='плыл'>\n"
     ]
    }
   ],
   "source": [
    "print(re.search(\"он (шёл|плыл)\", \"он шёл\"))\n",
    "print(re.search(\"он (шёл|плыл)\", \"он плыл\"))\n",
    "# здесь поиск равнозначен `(он шёл)|(плыл)`\n",
    "print(re.search(\"он шёл|плыл\", \"он плыл\"))"
   ]
  },
  {
   "cell_type": "markdown",
   "id": "3208d3d0-f1b8-4aeb-9384-068645b71996",
   "metadata": {},
   "source": [
    "А ещё группам можно давать имена:\n",
    "\n",
    "`(?P<name>REGEX)` ведет к тому, что создается группа с именем `name`, которую впоследствии можно извлечь как `match_object.group(\"name\")`\n",
    "\n",
    "Про имена можно [почитать тут](https://realpython.com/regex-python/#other-grouping-constructs) (там ещё один пример)"
   ]
  },
  {
   "cell_type": "markdown",
   "id": "3c59bdb7-02aa-4ff3-9872-145536d82bea",
   "metadata": {},
   "source": [
    "### Задача 3. Количество слов"
   ]
  },
  {
   "cell_type": "markdown",
   "id": "72e1bf06-9df5-4b7f-828c-6d8459f18d8d",
   "metadata": {},
   "source": [
    "---\n",
    "**Небольшое примечание**\n",
    "\n",
    "Здесь будет использоваться функция `re.findall`. Мы поговорим про нее позже, но коротко - она нужна для поиска всех подстрок, которые соответствуют данному шаблону. Пример:"
   ]
  },
  {
   "cell_type": "code",
   "execution_count": 83,
   "id": "a8e4f7bb-b86f-45d5-842b-cbb33fd7021b",
   "metadata": {},
   "outputs": [
    {
     "name": "stdout",
     "output_type": "stream",
     "text": [
      "['Привет', 'Привет']\n",
      "['8800553535', '71234567878']\n"
     ]
    }
   ],
   "source": [
    "print(re.findall(\"[Пп]ривет\", \"- Привет, меня зовут Николя! - Привет, Николя, меня зовут Джульетта!\"))\n",
    "print(re.findall(\"[0-9]+\", \"Это номер: 8800553535. Это тоже номер: +71234567878\"))"
   ]
  },
  {
   "cell_type": "markdown",
   "id": "af9a677e-22aa-44d8-bf0d-4956cc47bc89",
   "metadata": {},
   "source": [
    "С использованием группирующих скобок возникает проблема в случае использования `re.findall`\n",
    "\n",
    "Если в шаблоне есть группирующие скобки `()` без `?:`, то:\n",
    "- Если группа одна, будет возвращён список подстрок, которые соответствуют данной группе\n",
    "- Если групп больше одной, будет возвращен список кортежей, где последовательно содержатся подстроки, соответствующие искомым группам"
   ]
  },
  {
   "cell_type": "code",
   "execution_count": 90,
   "id": "da1fb018-7a29-4b10-acd3-67acd19b40f5",
   "metadata": {},
   "outputs": [
    {
     "name": "stdout",
     "output_type": "stream",
     "text": [
      "['8', '+7', '8']\n",
      "[('8', '800'), ('+7', '800'), ('8', '800')]\n",
      "['8800', '+7800', '8800']\n"
     ]
    }
   ],
   "source": [
    "print(re.findall(\"(\\+7|8)800\", \"Это число 88003535, это другое число +78005535, это третье число 8800\"))\n",
    "print(re.findall(\"(\\+7|8)(800)\", \"Это число 88003535, это другое число +78005535, это третье число 8800\"))\n",
    "print(re.findall(\"(?:\\+7|8)(?:800)\", \"Это число 88003535, это другое число +78005535, это третье число 8800\"))"
   ]
  },
  {
   "cell_type": "markdown",
   "id": "8893cf0a-4cd6-4b4b-91f2-8881269b4f6e",
   "metadata": {},
   "source": [
    "Перейдём к задаче!\n",
    "\n",
    "---\n",
    "Слово — это последовательность из букв (русских или английских), внутри которой могут быть дефисы.\n",
    "На вход даётся текст. Посчитайте, сколько в нём слов"
   ]
  },
  {
   "cell_type": "code",
   "execution_count": null,
   "id": "e6f60bc7-554e-4a0d-816b-f022ac7f8ba5",
   "metadata": {},
   "outputs": [],
   "source": [
    "text = \"\"\"\n",
    "Он --- серо-буро-малиновая редиска!! \n",
    ">>>:-> \n",
    "А не кот. \n",
    "www.kot.ru\n",
    "\"\"\"\n",
    "\n",
    "\n",
    "\n",
    "res = re.findall(\"\", text)\n",
    "print(res)\n",
    "print(len(res))\n"
   ]
  },
  {
   "cell_type": "markdown",
   "id": "b4ca500d-5085-4a02-84e7-63a5527ee16c",
   "metadata": {},
   "source": [
    "## lookahead и lookbehind"
   ]
  },
  {
   "cell_type": "markdown",
   "id": "b439da49-dc5a-4dc3-9533-55a8a7070b18",
   "metadata": {},
   "source": [
    "**Lookahead (поиск спереди)** и **lookbehind (поиск сзади)** assertions - это служебные конструкции, которые нужно для определения того, что находится слева от текущего шаблона (lookbehind) или справа (lookbehind)\n",
    "\n",
    "Эти конструкции ведут себя как якоря в том смысле, что они не соответствуют какому-то символу (zero-width assertions).\\\n",
    "__Выглядит это так:__\n",
    "- `(?=something)` - положительный поиск спереди\n",
    "- `(?!something)` - отрицательный поиск спереди\n",
    "- `(?<=something)` - положительный поиск сзади\n",
    "- `(?<!something)` - отрицательный поиск сзади\n",
    "\n",
    "Несмотря на то, что данная конструкция включает в себя скобки, она ведет к образованию группы (ниже видно почему)"
   ]
  },
  {
   "cell_type": "markdown",
   "id": "9ccea14f-6125-40fd-87ad-c8670d0c5b89",
   "metadata": {},
   "source": [
    "Положительный поиск спереди (positive lookahead):"
   ]
  },
  {
   "cell_type": "code",
   "execution_count": 117,
   "id": "4abc4473-8827-449f-bdee-99a522640009",
   "metadata": {},
   "outputs": [
    {
     "name": "stdout",
     "output_type": "stream",
     "text": [
      "<re.Match object; span=(0, 6), match='Джимми'>\n",
      "None\n"
     ]
    }
   ],
   "source": [
    "# мэтч \"Джимми\" происходит, если справа от него стоит \" Нейтрон\"\n",
    "# обратите внимание, \" Нейтрон\" здесь не входит в match (именно по этой причине наличие скобок не ведёт к появлению групп)\n",
    "print(re.search(\"Джимми(?= Нейтрон)\", \"Джимми Нейтрон\"))\n",
    "print(re.search(\"Джимми(?= Нейтрон)\", \"Джимми Нейтрино\"))"
   ]
  },
  {
   "cell_type": "markdown",
   "id": "ba705a04-26bc-41ab-a572-d2cdadd4eb67",
   "metadata": {},
   "source": [
    "Отрицательный поиск спереди (negative lookahead):"
   ]
  },
  {
   "cell_type": "code",
   "execution_count": 114,
   "id": "e33be886-37b6-4124-9772-26c5a9e2e9b6",
   "metadata": {},
   "outputs": [
    {
     "name": "stdout",
     "output_type": "stream",
     "text": [
      "None\n",
      "<re.Match object; span=(0, 6), match='Джимми'>\n"
     ]
    }
   ],
   "source": [
    "# тут наоборот - мэтч \"Джимми\" НЕ происходит, если справа от него стоит \" Нейтрон\"\n",
    "print(re.search(\"Джимми(?! Нейтрон)\", \"Джимми Нейтрон\"))\n",
    "print(re.search(\"Джимми(?! Нейтрон)\", \"Джимми Нейтрино\"))"
   ]
  },
  {
   "cell_type": "markdown",
   "id": "32d44bd8-3580-4d1f-8f62-6c1c9a62ecfb",
   "metadata": {},
   "source": [
    "Положительный поиск сзади (positive lookbehind):"
   ]
  },
  {
   "cell_type": "code",
   "execution_count": 120,
   "id": "dd1ea144-64f9-49eb-91e2-00d4f54c833f",
   "metadata": {},
   "outputs": [
    {
     "name": "stdout",
     "output_type": "stream",
     "text": [
      "<re.Match object; span=(5, 10), match='Фиона'>\n",
      "None\n"
     ]
    }
   ],
   "source": [
    "# мэтч \"Фиона\" происходит, если слева от него стоит \"Шрек \"\n",
    "print(re.search(\"(?<=Шрек )Фиона\", \"Шрек Фиона Гаральд Осёл!\"))\n",
    "print(re.search(\"(?<=Шрек )Фиона\", \"Гаральд Фиона Осёл Шрек!\"))"
   ]
  },
  {
   "cell_type": "markdown",
   "id": "f6b177e6-24e9-4341-979b-8a6cd0e804ec",
   "metadata": {},
   "source": [
    "Отрицательный поиск сзади (negative lookbehind):"
   ]
  },
  {
   "cell_type": "code",
   "execution_count": 123,
   "id": "dfdd05ce-fd02-462d-87cb-8e0571c59993",
   "metadata": {},
   "outputs": [
    {
     "name": "stdout",
     "output_type": "stream",
     "text": [
      "<re.Match object; span=(30, 43), match='свежая строка'>\n",
      "None\n"
     ]
    }
   ],
   "source": [
    "# мэтч \"свежая строка\" происходит, если слева от него НЕ стоит \"32 коровы \"\n",
    "print(re.search(\"(?<!32 коровы )свежая строка\", \"33 коровы 33 коровы 33 коровы свежая строка\"))\n",
    "# мэтч \"свежая строка\" происходит, если слева от него НЕ стоит \"33 коровы \"\n",
    "print(re.search(\"(?<!33 коровы )свежая строка\", \"33 коровы 33 коровы 33 коровы свежая строка\"))"
   ]
  },
  {
   "cell_type": "markdown",
   "id": "208006cf-0a34-4cd8-9e4c-18fe765f47b3",
   "metadata": {},
   "source": [
    "Важная особенность (которой нет в third-party реализации модуля [`regex`](https://pypi.org/project/regex/)) поиска сзади в том, что выражение внутри lookbehind (positive/negative) должно быть фиксированной длины:"
   ]
  },
  {
   "cell_type": "code",
   "execution_count": null,
   "id": "487ad684-1f97-4fbd-8c52-9b230b011a3f",
   "metadata": {},
   "outputs": [],
   "source": [
    "# попытка мэтча \"и так далее\", если слева стоит любое количество (1+) цифр, за которыми идет пробел\n",
    "print(re.search(\"(?<=[0-9]+ )и так далее\", \"И так, сейчас я буду считать: 123456789101112 и так далее\"))"
   ]
  },
  {
   "cell_type": "code",
   "execution_count": 126,
   "id": "0240a03b-2e5d-4846-8f29-b8e04068e649",
   "metadata": {},
   "outputs": [
    {
     "name": "stdout",
     "output_type": "stream",
     "text": [
      "<re.Match object; span=(46, 57), match='и так далее'>\n"
     ]
    }
   ],
   "source": [
    "# но при шаблоне фиксированной длины всё хорошо\n",
    "print(re.search(\"(?<=[0-9]{5} )и так далее\", \"И так, сейчас я буду считать: 123456789101112 и так далее\"))"
   ]
  },
  {
   "cell_type": "code",
   "execution_count": null,
   "id": "fa2a86e7-537d-4d3a-85af-55d5b569beb6",
   "metadata": {},
   "outputs": [],
   "source": [
    "# диапазоны тоже использовать нельзя\n",
    "print(re.search(\"(?<=[0-9]{1,5} )и так далее\", \"И так, сейчас я буду считать: 123456789101112 и так далее\"))"
   ]
  },
  {
   "cell_type": "code",
   "execution_count": 129,
   "id": "055c1cce-7aaa-40a7-a64f-b8f4adcbc0a9",
   "metadata": {},
   "outputs": [
    {
     "name": "stdout",
     "output_type": "stream",
     "text": [
      "<regex.Match object; span=(46, 57), match='и так далее'>\n"
     ]
    }
   ],
   "source": [
    "import regex \n",
    "\n",
    "# в реализации regex так можно\n",
    "print(regex.search(\"(?<=[0-9]+ )и так далее\", \"И так, сейчас я буду считать: 123456789101112 и так далее\"))"
   ]
  },
  {
   "cell_type": "markdown",
   "id": "243eb8ca-28e5-42e1-9157-221aba598620",
   "metadata": {},
   "source": [
    "### Задача 4. Близкие слова\n",
    "\n",
    "Для простоты будем считать словом любую последовательность букв, цифр и знаков _ (то есть символов \\w).\n",
    "Дан текст. Необходимо найти в нём любой фрагмент, где сначала идёт слово «олень», затем не более 5 слов, и после этого идёт слово «заяц»."
   ]
  },
  {
   "cell_type": "code",
   "execution_count": 168,
   "id": "524d24a8-3e73-4631-9c5e-8c342c56999b",
   "metadata": {},
   "outputs": [
    {
     "name": "stdout",
     "output_type": "stream",
     "text": [
      "<re.Match object; span=(6, 38), match='олень, а ни фига никакой не заяц'>\n"
     ]
    }
   ],
   "source": [
    "text = \"Да он олень, а ни фига никакой не заяц!\"\n",
    "\n",
    "pattern = ...\n",
    "print(re.search(pattern, text))\n",
    "\n",
    "result = \"олень, а не заяц\""
   ]
  },
  {
   "cell_type": "markdown",
   "id": "18bfa561-84ca-46f7-be2c-82492eb0a1c4",
   "metadata": {},
   "source": [
    "Как можно изменить это выражение с помощью lookahead/lookbehind, чтобы:\n",
    "- Выполнялся поиск слова \"олень\", если после него идёт не более 5 слов, а затем слово \"заяц\"\n",
    "- Выполнялся поиск слова \"заяц\", если до него идёт не более 5 слов олень, а перед ними слово \"олень\" "
   ]
  },
  {
   "cell_type": "markdown",
   "id": "2ee27bd2-6c00-425a-b3fd-db9fa43d576b",
   "metadata": {},
   "source": [
    "## Популярные флаги"
   ]
  },
  {
   "cell_type": "markdown",
   "id": "2331ee03-1048-4c3e-88a0-6c7e1c349ebc",
   "metadata": {},
   "source": [
    "До сих пор мы использовали синтаксис `re.search(<pattern>, <text>)`, но поиск также поддерживает передачу флагов, т.е. общий синтаксис - `re.search(<pattern>, <text>, <flags>)`\n",
    "\n",
    "Какие есть флаги, и чем они могут быть полезны?"
   ]
  },
  {
   "cell_type": "markdown",
   "id": "1287ddea-735c-4471-a9c3-ce4709ad6fa6",
   "metadata": {},
   "source": [
    "| Короткое имя | Полное имя         | Эффект |\n",
    "|-------------|--------------------|------------------------------------------------------------|\n",
    "| `re.I`      | `re.IGNORECASE`    | Делает сопоставление алфавитных символов независимым от регистра |\n",
    "| `re.M`      | `re.MULTILINE`     | Заставляет якоря начала `^` и конца `$` строки соответствовать вложенным переводам строк |\n",
    "| `re.S`      | `re.DOTALL`        | Заставляет `.` (точку) дополнительно соответствовать символу перевода строки |\n",
    "| `re.X`      | `re.VERBOSE`       | Позволяет включать пробелы и комментарии в регулярное выражение (может сильно улучшить читабельность)|\n",
    "| `re.A`      | `re.ASCII`         |По умолчанию \\w, \\W, \\b, \\B, \\d, \\D, \\s, \\S соответствуют все юникодные символы с соответствующим качеством. <br>Например, \\d соответствуют не только арабские цифры, но и вот такие: ٠١٢٣٤٥٦٧٨٩. <br>`re.ASCII` ускоряет работу, если все соответствия лежат внутри ASCII. [Подробнее](https://stackoverflow.com/questions/61200505/python-regex-pattern-with-re-ascii-can-still-match-unicode-characters)|\n"
   ]
  },
  {
   "cell_type": "markdown",
   "id": "bf614ac5-c856-46a6-bdf9-4ba24546f61d",
   "metadata": {},
   "source": [
    "**`re.IGNORECASe`**"
   ]
  },
  {
   "cell_type": "code",
   "execution_count": 174,
   "id": "f38add0c-93e6-416d-9606-1e7c8dedcd4f",
   "metadata": {},
   "outputs": [
    {
     "name": "stdout",
     "output_type": "stream",
     "text": [
      "None\n",
      "<re.Match object; span=(9, 13), match='иван'>\n",
      "<re.Match object; span=(0, 2), match='вы'>\n"
     ]
    }
   ],
   "source": [
    "print(re.search(\"Иван\", \"вы чего, иван васильевич?\"))\n",
    "print(re.search(\"Иван\", \"вы чего, иван васильевич?\", re.I))  # с флагом IGNORECASE\n",
    "print(re.search(\"[А-Я]+\", \"вы чего, иван васильевич?\", re.I))  # с флагом IGNORECASE"
   ]
  },
  {
   "cell_type": "markdown",
   "id": "7eb9512a-8982-4d6c-b8f5-701f1c414c7e",
   "metadata": {},
   "source": [
    "**`re.MULTILINE`**"
   ]
  },
  {
   "cell_type": "code",
   "execution_count": 176,
   "id": "59859aeb-e75d-4d61-91e1-b60a9179a052",
   "metadata": {},
   "outputs": [
    {
     "name": "stdout",
     "output_type": "stream",
     "text": [
      "None\n",
      "<re.Match object; span=(19, 23), match='Roma'>\n"
     ]
    }
   ],
   "source": [
    "text = \"\"\"Rah, rah, ah-ah-ah\n",
    "Roma, roma-ma\n",
    "Gaga, ooh-la-la\n",
    "Want your bad romance\"\"\"\n",
    "\n",
    "pattern = \"^Roma\"\n",
    "\n",
    "print(re.search(pattern, text)) \n",
    "print(re.search(pattern, text, re.MULTILINE))  # с флагом re.MULTILINE"
   ]
  },
  {
   "cell_type": "markdown",
   "id": "a5106670-52c3-4ffa-99b6-7f77cdf36e2f",
   "metadata": {},
   "source": [
    "**`re.DOTALL`**"
   ]
  },
  {
   "cell_type": "code",
   "execution_count": 177,
   "id": "647e2671-a49a-449f-90f0-4036ee710163",
   "metadata": {},
   "outputs": [
    {
     "name": "stdout",
     "output_type": "stream",
     "text": [
      "None\n",
      "<re.Match object; span=(10, 23), match='ah-ah-ah\\nRoma'>\n"
     ]
    }
   ],
   "source": [
    "text = \"\"\"Rah, rah, ah-ah-ah\n",
    "Roma, roma-ma\n",
    "Gaga, ooh-la-la\n",
    "Want your bad romance\"\"\"\n",
    "\n",
    "pattern = \"ah-ah-ah.Roma\"\n",
    "\n",
    "print(re.search(pattern, text)) \n",
    "print(re.search(pattern, text, re.DOTALL))  # с флагом re.MULTILINE"
   ]
  },
  {
   "cell_type": "markdown",
   "id": "0c2ca4f2-233f-4003-b2d0-89a645a0fa57",
   "metadata": {},
   "source": [
    "**`re.VERBOSE`** (подробнее про правила `re.VERBOSE` [в документации](https://docs.python.org/3/library/re.html#re.VERBOSE))"
   ]
  },
  {
   "cell_type": "code",
   "execution_count": 180,
   "id": "166d41fa-c024-417d-ab85-8e462dcaa358",
   "metadata": {},
   "outputs": [
    {
     "name": "stdout",
     "output_type": "stream",
     "text": [
      "<re.Match object; span=(24, 28), match='3.14'>\n",
      "<re.Match object; span=(24, 28), match='3.14'>\n"
     ]
    }
   ],
   "source": [
    "# регулярное выражение для поиска десятичного числа (float)\n",
    "\n",
    "pattern_verbose = r\"\"\"\\d +  # the integral part\n",
    "            \\.    # the decimal point\n",
    "            \\d *  # some fractional digits\"\"\"\n",
    "pattern_short = r\"\\d+\\.\\d*\"\n",
    "text = \"Какой-то текст с числом 3.14, а вот продолжение\"\n",
    "\n",
    "print(re.search(pattern_short, text))\n",
    "print(re.search(pattern_verbose, text, re.X))"
   ]
  },
  {
   "cell_type": "markdown",
   "id": "741a340b-9d53-4159-b7bb-0fa495556851",
   "metadata": {},
   "source": [
    "**`re.ASCII`**"
   ]
  },
  {
   "cell_type": "code",
   "execution_count": 188,
   "id": "46f17973-e2af-4ada-95bb-21585b537ba6",
   "metadata": {},
   "outputs": [
    {
     "name": "stdout",
     "output_type": "stream",
     "text": [
      "<re.Match object; span=(0, 7), match='Планета'>\n",
      "<re.Match object; span=(9, 14), match='greet'>\n"
     ]
    }
   ],
   "source": [
    "print(re.search(r'\\w+', 'Планета, greet me!!') )\n",
    "print(re.search(r'\\w+', 'Планета, greet me!!', re.ASCII))  # с флагом re.ASCII"
   ]
  },
  {
   "cell_type": "markdown",
   "id": "5ce2ad7e-93ef-4dba-ad8b-f8445c34f08b",
   "metadata": {},
   "source": [
    "# regex: продолжение"
   ]
  },
  {
   "cell_type": "markdown",
   "id": "48d2cede-f0da-46e9-89ec-9c3d27dc2115",
   "metadata": {},
   "source": [
    "## Функции для поиска"
   ]
  },
  {
   "cell_type": "markdown",
   "id": "21e1b945-27f0-420d-b69a-062ce4f75434",
   "metadata": {},
   "source": [
    "| Функция         | Описание |\n",
    "|----------------|----------------------------------------------------|\n",
    "| `re.search()`   | Ищет первое совпадение с регулярным выражением в строке |\n",
    "| `re.match()`    | Проверяет, совпадает ли начало строки с шаблоном |\n",
    "| `re.fullmatch()` | Проверяет, совпадает ли вся строка с шаблоном |\n",
    "| `re.findall()`  | Возвращает список всех совпадений с шаблоном в строке |\n",
    "| `re.finditer()` | Возвращает итератор, который генерирует совпадения в строке |\n"
   ]
  },
  {
   "cell_type": "markdown",
   "id": "50ca6208-bf54-43eb-a113-1a02e561dc3d",
   "metadata": {},
   "source": [
    "Суть (и интерфейс) первых трех функций похожи:\n",
    "- `re.search(<regex>, <string>, flags=0)`\n",
    "- `re.match(<regex>, <string>, flags=0)`\n",
    "- `re.fullmatch(<regex>, <string>, flags=0)`\n",
    "\n",
    "Однако:\n",
    "- `re.search` выполняет поиск в любом месте строки\n",
    "- `re.match` выполняет поиск только в начале\n",
    "- `re.fullmatch` выполняет поиск по всей строки (т.е. шаблон должен соответствовать строке полностью) "
   ]
  },
  {
   "cell_type": "code",
   "execution_count": 189,
   "id": "01a3e5a0-7ecb-438a-96e3-68afcc8aa946",
   "metadata": {},
   "outputs": [
    {
     "name": "stdout",
     "output_type": "stream",
     "text": [
      "<re.Match object; span=(0, 3), match='123'>\n",
      "<re.Match object; span=(3, 6), match='123'>\n"
     ]
    }
   ],
   "source": [
    "print(re.search(r'\\d+', '123foobar'))\n",
    "print(re.search(r'\\d+', 'foo123bar'))"
   ]
  },
  {
   "cell_type": "code",
   "execution_count": 190,
   "id": "986b8cfa-2cd2-462b-a8fa-1d115bffb7d5",
   "metadata": {},
   "outputs": [
    {
     "name": "stdout",
     "output_type": "stream",
     "text": [
      "<re.Match object; span=(0, 3), match='123'>\n",
      "None\n"
     ]
    }
   ],
   "source": [
    "print(re.match(r'\\d+', '123foobar'))\n",
    "print(re.match(r'\\d+', 'foo123bar'))"
   ]
  },
  {
   "cell_type": "code",
   "execution_count": 197,
   "id": "a14d8c51-fbca-4d90-bb00-d254b88afa97",
   "metadata": {},
   "outputs": [
    {
     "name": "stdout",
     "output_type": "stream",
     "text": [
      "None\n",
      "None\n",
      "<re.Match object; span=(0, 9), match='123foobar'>\n",
      "<re.Match object; span=(0, 9), match='foo123bar'>\n"
     ]
    }
   ],
   "source": [
    "print(re.fullmatch(r'\\d+', '123foobar'))\n",
    "print(re.fullmatch(r'\\d+', 'foo123bar'))\n",
    "\n",
    "print(re.fullmatch(r'\\d+\\w+', '123foobar'))\n",
    "print(re.fullmatch(r'\\w+\\d+\\w+', 'foo123bar'))"
   ]
  },
  {
   "cell_type": "markdown",
   "id": "67adb26a-57a4-43ff-ad5f-1f5253494875",
   "metadata": {},
   "source": [
    "## Ищем подстроки по шаблону"
   ]
  },
  {
   "cell_type": "markdown",
   "id": "0234a864-ee61-40e0-8280-6dbd695fbf86",
   "metadata": {},
   "source": [
    "`findall` и `finditer` также похожи между собой. Оба метода используются для поиска всех подстрок, которые соответствуюю заданному шаблону, но:\n",
    "- `re.findall(<regex>, <string>, flags=0)` возвращает список всех соответствующих шаблону подстрок\n",
    "- `re.finditer(<regex>, <string>, flags=0)`возвращает итератор, который содержит все **match-объекты**, соответствующие шаблону подстрок "
   ]
  },
  {
   "cell_type": "code",
   "execution_count": 198,
   "id": "2cfe62d8-f25c-4cd0-8fe0-788f8344767a",
   "metadata": {},
   "outputs": [
    {
     "name": "stdout",
     "output_type": "stream",
     "text": [
      "['19.01.2018', '01.09.2017']\n"
     ]
    }
   ],
   "source": [
    "pattern = r'\\d\\d\\.\\d\\d\\.\\d{4}'  # паттерн для поиск даты в формате XX.XX.XXXX, где X - числа\n",
    "text = 'Эта строка написана 19.01.2018, а могла бы и 01.09.2017'\n",
    "\n",
    "print(re.findall(pattern, text)) "
   ]
  },
  {
   "cell_type": "code",
   "execution_count": 201,
   "id": "f897805c-a934-49b5-8f27-4280bd22c9da",
   "metadata": {},
   "outputs": [
    {
     "name": "stdout",
     "output_type": "stream",
     "text": [
      "<re.Match object; span=(20, 30), match='19.01.2018'>\n",
      "<re.Match object; span=(45, 55), match='01.09.2017'>\n"
     ]
    }
   ],
   "source": [
    "pattern = r'\\d\\d\\.\\d\\d\\.\\d{4}'  # паттерн для поиск даты в формате XX.XX.XXXX, где X - числа\n",
    "text = 'Эта строка написана 19.01.2018, а могла бы и 01.09.2017'\n",
    "\n",
    "it = re.finditer(pattern, text)\n",
    "for match_obj in it:\n",
    "    print(match_obj)"
   ]
  },
  {
   "cell_type": "markdown",
   "id": "12811338-7570-4fd3-aa82-f93ef2eb62f3",
   "metadata": {},
   "source": [
    "Возвращаясь к комментарию о том, что синтаксис захватывающих групп работает для `re.findall` особенно (что не является большой проблемой для `re.finditer`):"
   ]
  },
  {
   "cell_type": "code",
   "execution_count": 202,
   "id": "630f2e01-ee5c-4fe2-adf4-8b4264e84a07",
   "metadata": {},
   "outputs": [
    {
     "name": "stdout",
     "output_type": "stream",
     "text": [
      "[('8', '800'), ('+7', '800'), ('8', '800')]\n"
     ]
    }
   ],
   "source": [
    "print(re.findall(\"(\\+7|8)(800)\", \"Это число 88003535, это другое число +78005535, это третье число 8800\"))"
   ]
  },
  {
   "cell_type": "code",
   "execution_count": 203,
   "id": "8d583be0-90e0-4c92-b41c-1179f9170fc7",
   "metadata": {},
   "outputs": [
    {
     "name": "stdout",
     "output_type": "stream",
     "text": [
      "<re.Match object; span=(10, 14), match='8800'>\n",
      "<re.Match object; span=(37, 42), match='+7800'>\n",
      "<re.Match object; span=(65, 69), match='8800'>\n"
     ]
    }
   ],
   "source": [
    "it = re.finditer(\"(\\+7|8)(800)\", \"Это число 88003535, это другое число +78005535, это третье число 8800\")\n",
    "for match_obj in it:\n",
    "    print(match_obj)"
   ]
  },
  {
   "cell_type": "markdown",
   "id": "c734677f-b894-4523-87cd-c5749f83efe2",
   "metadata": {},
   "source": [
    "### Задача 5. Замена времени в письме\n",
    "\n",
    "Вовочка подготовил одно очень важное письмо, но везде указал неправильное время.\n",
    "\n",
    "Вам нужно найти все вхождения времени (в оригинальной формулировке нужно заменить, но про это - в следующей задаче)\\\n",
    "Время — это строка вида `HH:MM:SS` или `HH:MM`, в которой:\n",
    "- `HH` — число от 00 до 23\n",
    "- `MM` и `SS` — число от 00 до 59"
   ]
  },
  {
   "cell_type": "code",
   "execution_count": 204,
   "id": "4a95db63-7f8d-4730-9fe2-6b4ffadbe46c",
   "metadata": {},
   "outputs": [],
   "source": [
    "text = \"\"\"Уважаемые! Если вы к 09:00 не вернёте \n",
    "чемодан, то уже в 09:00:01 я за себя не отвечаю. \n",
    "PS. С отношением 25:50 всё нормально!\"\"\"\n",
    "\n",
    "result = [\"09:00\", \"09:00:01\"]  # 25:50 не соответствует заданному формату"
   ]
  },
  {
   "cell_type": "markdown",
   "id": "b08126db-0d61-45dc-8c9f-4dd7ef101928",
   "metadata": {},
   "source": [
    "## Функции для замены"
   ]
  },
  {
   "cell_type": "markdown",
   "id": "6ade52ee-c4af-461c-89fb-0f63fa200bba",
   "metadata": {},
   "source": [
    "Иногда задача сводится не только к тому, чтобы найти подстроки в строке, а к тому, чтобы заменить эти подстроки\n",
    "\n",
    "Для этого в модуле `re` есть два метода:\n",
    "- `re.sub(<regex>, <repl>, <string>, count=0, flags=0)` ищет подстроки, которые соответствуют заданному шаблону `<regex>`, заменяет найденные шаблоны, используя `<repl>` и возвращает результат\n",
    "- `re.subn(<regex>, <repl>, <string>, count=0, flags=0)` делает всё то же, что `re.sub`, только возвращает кортеж из двух аргументов, где первый - исправленная строка, а второй - количество произведенных в процессе замен"
   ]
  },
  {
   "cell_type": "markdown",
   "id": "7f3f03e3-578d-4b69-805f-3ec84f7c1f0a",
   "metadata": {},
   "source": [
    "Для обоих методов есть два режима (в зависимости от того, что такое `<repl>`):\n",
    "- замена строкой\n",
    "- замена с использованием функции"
   ]
  },
  {
   "cell_type": "markdown",
   "id": "535c3696-7e7b-4f2c-88b1-36b26c690799",
   "metadata": {},
   "source": [
    "__Замена строкой__"
   ]
  },
  {
   "cell_type": "code",
   "execution_count": 209,
   "id": "6e7878c7-24f1-4e2a-b5f2-edd48a38d354",
   "metadata": {},
   "outputs": [
    {
     "data": {
      "text/plain": [
       "'Уважаемые! Если вы к (TBD) не вернёте \\nчемодан, то уже в (TBD) я за себя не отвечаю. \\nPS. С отношением 25:50 всё нормально!'"
      ]
     },
     "execution_count": 209,
     "metadata": {},
     "output_type": "execute_result"
    }
   ],
   "source": [
    "text = \"\"\"Уважаемые! Если вы к 09:00 не вернёте \n",
    "чемодан, то уже в 09:00:01 я за себя не отвечаю. \n",
    "PS. С отношением 25:50 всё нормально!\"\"\"\n",
    "repl = \"(TBD)\"\n",
    "pattern = \"\"\n",
    "\n",
    "re.sub(pattern, repl, text)"
   ]
  },
  {
   "cell_type": "code",
   "execution_count": 210,
   "id": "57b4c2ce-d083-4b1f-8005-60c47e90fa5c",
   "metadata": {},
   "outputs": [],
   "source": [
    "# TODO: добавить замену с backreferences"
   ]
  },
  {
   "cell_type": "markdown",
   "id": "a07b74f0-03f6-4817-b5be-725c260271f1",
   "metadata": {},
   "source": [
    "__Замена функцией__"
   ]
  },
  {
   "cell_type": "code",
   "execution_count": 211,
   "id": "a00fe659-e574-4c59-bd24-298a85aeffa8",
   "metadata": {},
   "outputs": [
    {
     "name": "stdout",
     "output_type": "stream",
     "text": [
      "FOO.100.BAR.200.BAZ.300\n"
     ]
    }
   ],
   "source": [
    "def f(match_obj):\n",
    "    \"\"\"\n",
    "    Заменяет все числа X на X*10, а слова переводит в верхний регистр\n",
    "    \"\"\"\n",
    "    s = match_obj.group(0)  # The matching string\n",
    "\n",
    "    # s.isdigit() returns True if all characters in s are digits\n",
    "    if s.isdigit():\n",
    "        return str(int(s) * 10)\n",
    "    else:\n",
    "        return s.upper()\n",
    "\n",
    "result = re.sub(r'\\w+', f, 'foo.10.bar.20.baz.30')\n",
    "print(result)  # 'FOO.100.BAR.200.BAZ.300'\n"
   ]
  },
  {
   "cell_type": "markdown",
   "id": "d3f1fa29-1cca-4c20-8a37-d1da84413628",
   "metadata": {},
   "source": [
    "## Заменяем подстроки по шаблону"
   ]
  },
  {
   "cell_type": "markdown",
   "id": "c5661c1e-9d1e-445c-b07d-a9f7572eb1fe",
   "metadata": {},
   "source": [
    "### Задача 6. То ли акростих, то ли акроним, то ли апроним\n",
    "\n",
    "Акростих — осмысленный текст, сложенный из начальных букв каждой строки стихотворения.\\\n",
    "Акроним — вид аббревиатуры, образованной начальными звуками (напр. НАТО, вуз, НАСА, ТАСС), которое можно произнести слитно (в отличие от аббревиатуры, которую произносят «по буквам», например: КГБ — «ка-гэ-бэ»).\n",
    "\n",
    "На вход даётся текст. Выведите слитно первые буквы каждого слова. Буквы необходимо выводить заглавными.\n",
    "\n",
    "__Примеры:__\n",
    "\n",
    "Ввод: Московский государственный институт международных отношений\n",
    "Вывод: МГИМО\n",
    "\n",
    "Ввод: микоян авиацию снабдил алкоголем, народ доволен работой авиаконструктора\n",
    "Вывод: МАСАНДРА"
   ]
  },
  {
   "cell_type": "markdown",
   "id": "c4c9d952-065c-48ab-9a83-e43cbbc61ecc",
   "metadata": {},
   "source": [
    "### Задача 7. Шифровка\n",
    "\n",
    "Владимиру потребовалось срочно запутать финансовую документацию. Но так, чтобы это было обратимо.\n",
    "Он не придумал ничего лучше, чем заменить каждое целое число (последовательность цифр) на его куб. Помогите ему. "
   ]
  },
  {
   "cell_type": "code",
   "execution_count": null,
   "id": "1e070ccd-b8f1-42ce-891e-2833b171e618",
   "metadata": {},
   "outputs": [],
   "source": [
    "text = \"Было закуплено 12 единиц техники по 410.37 рублей.\"\n",
    "result = \"Было закуплено 1728 единиц техники по 68921000.50653 рублей.\""
   ]
  },
  {
   "cell_type": "markdown",
   "id": "d2b1414c-470c-454d-a93e-9893af75e7e1",
   "metadata": {},
   "source": [
    "## Вспомогательный функционал"
   ]
  },
  {
   "cell_type": "markdown",
   "id": "f736b5de-d4a3-4849-8093-3d41b78281b7",
   "metadata": {},
   "source": [
    "- `re.split(<regex>, <string>, maxsplit=0, flags=0)` - функция для разделения строки по шаблону в регулярном выражении (полезно, когда простого разделителя недостаточно)\n",
    "- `re.escape()` - функция для экранирования символов, имеющих особенное значение в синтаксисе регулярных выражений"
   ]
  },
  {
   "cell_type": "code",
   "execution_count": 216,
   "id": "b4d88e62-27a3-4485-a268-6a0facd0338f",
   "metadata": {},
   "outputs": [
    {
     "name": "stdout",
     "output_type": "stream",
     "text": [
      "This\n",
      "is\n",
      "some data\n",
      " separated\n",
      "by different\n",
      "delimiters\n"
     ]
    }
   ],
   "source": [
    "text = \"This,is;some data, separated|by different,delimiters\"\n",
    "pattern = r\",|;|\\|\"\n",
    "for i in re.split(pattern, text):\n",
    "    print(i)"
   ]
  },
  {
   "cell_type": "markdown",
   "id": "88852ab6-42bd-419c-8bbd-401c7439ad89",
   "metadata": {},
   "source": [
    "### Задача 8. Разбить текст на части"
   ]
  },
  {
   "cell_type": "markdown",
   "id": "af0461b7-677b-4074-95bb-e1008bd769f2",
   "metadata": {},
   "source": [
    "Ниже представлен текст песни \"Radioactive\" (by Imagine Dragons).\\\n",
    "Разбейте его на части, используя обозначения типа [Intro], [Verse 1] и т.д. как разделители\n",
    "\n",
    "**Важно** Не используйте `r'\\[\\]'` как паттерн :) В данной задаче это работает, но такие вещи могут подводить"
   ]
  },
  {
   "cell_type": "code",
   "execution_count": null,
   "id": "af31e150-fcb7-449a-949e-3dd59d8b056f",
   "metadata": {},
   "outputs": [],
   "source": [
    "lyrics = \"\"\"\n",
    "[Intro]\n",
    "Woah, oh-oh\n",
    "Woah, oh-oh\n",
    "Woah, oh-oh\n",
    "Woah\n",
    "\n",
    "[Verse 1]\n",
    "I'm waking up to ash and dust\n",
    "I wipe my brow and I sweat my rust\n",
    "I'm breathing in the chemicals\n",
    "\n",
    "[Pre-Chorus]\n",
    "I'm breaking in, shaping up\n",
    "Then checking out on the prison bus\n",
    "This is it, the apocalypse\n",
    "Woah\n",
    "\n",
    "[Chorus]\n",
    "I'm waking up, I feel it in my bones\n",
    "Enough to make my system blow\n",
    "Welcome to the new age, to the new age\n",
    "Welcome to the new age, to the new age\n",
    "\n",
    "[Post-Chorus]\n",
    "Woah-oh, woah\n",
    "I'm radioactive, radioactive\n",
    "Woah-oh, woah\n",
    "I'm radioactive, radioactive\n",
    "\n",
    "[Verse 2]\n",
    "I raise my flags, dye my clothes\n",
    "It's a revolution, I suppose\n",
    "We're painted red to fit right in\n",
    "Woah\n",
    "\n",
    "[Pre-Chorus]\n",
    "I'm breaking in, shaping up\n",
    "Then checking out on the prison bus\n",
    "This is it, the apocalypse\n",
    "Woah\n",
    "\n",
    "[Chorus]\n",
    "I'm waking up, I feel it in my bones\n",
    "Enough to make my system blow\n",
    "Welcome to the new age, to the new age\n",
    "Welcome to the new age, to the new age\n",
    "\n",
    "[Post-Chorus]\n",
    "Woah-oh, woah\n",
    "I'm radioactive, radioactive\n",
    "Woah-oh, woah\n",
    "I'm radioactive, radioactive\n",
    "\n",
    "[Bridge]\n",
    "All systems go, the sun hasn't died\n",
    "Deep in my bones, straight from inside\n",
    "\n",
    "[Chorus]\n",
    "I'm waking up, I feel it in my bones\n",
    "Enough to make my system blow\n",
    "Welcome to the new age, to the new age\n",
    "Welcome to the new age, to the new age\n",
    "\n",
    "[Post-Chorus]\n",
    "Woah-oh, woah\n",
    "I'm radioactive, radioactive\n",
    "Woah-oh, woah\n",
    "I'm radioactive, radioactive\"\"\".strip()\n",
    "\n",
    "pattern = ...\n",
    "for i in re.split(pattern, lyrics):\n",
    "    print(i, end=\"\\n------\")"
   ]
  },
  {
   "cell_type": "markdown",
   "id": "55fbc4f3-7acb-41c2-a0a0-27fc3efd2242",
   "metadata": {},
   "source": [
    "## Компиляция регулярных выражений"
   ]
  },
  {
   "cell_type": "markdown",
   "id": "9bcb5fa5-932b-46f6-8027-5437d7381658",
   "metadata": {},
   "source": [
    "Модуль `re` позволяет прекомпилировать регулярные выражения в особый объект, используя метод `re.compile(<regex>, flags=0)`\n",
    "\n",
    "Зачем и как?"
   ]
  },
  {
   "cell_type": "code",
   "execution_count": 225,
   "id": "2aa0ab87-7336-4df8-82ce-0595c375babb",
   "metadata": {},
   "outputs": [
    {
     "name": "stdout",
     "output_type": "stream",
     "text": [
      "<re.Match object; span=(3, 6), match='123'>\n",
      "re.compile('(\\\\d+)')\n",
      "<re.Match object; span=(3, 6), match='123'>\n",
      "<re.Match object; span=(3, 6), match='123'>\n"
     ]
    }
   ],
   "source": [
    "print(re.search(r'(\\d+)', 'foo123bar'))\n",
    "\n",
    "re_obj = re.compile(r'(\\d+)')\n",
    "print(re_obj)\n",
    "print(re.search(re_obj, 'foo123bar'))\n",
    "\n",
    "print(re_obj.search('foo123bar'))"
   ]
  }
 ],
 "metadata": {
  "kernelspec": {
   "display_name": "Python 3 (ipykernel)",
   "language": "python",
   "name": "python3"
  },
  "language_info": {
   "codemirror_mode": {
    "name": "ipython",
    "version": 3
   },
   "file_extension": ".py",
   "mimetype": "text/x-python",
   "name": "python",
   "nbconvert_exporter": "python",
   "pygments_lexer": "ipython3",
   "version": "3.10.12"
  }
 },
 "nbformat": 4,
 "nbformat_minor": 5
}
